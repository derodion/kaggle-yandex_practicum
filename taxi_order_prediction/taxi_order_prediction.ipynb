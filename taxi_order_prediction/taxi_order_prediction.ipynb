{
  "cells": [
    {
      "cell_type": "markdown",
      "metadata": {
        "id": "7b9RQ-FhSkDV"
      },
      "source": [
        "#  Прогнозирование заказов такси"
      ]
    },
    {
      "cell_type": "markdown",
      "metadata": {
        "id": "LTQnCfs_SkDV"
      },
      "source": [
        "Компания собрала исторические данные о заказах такси в аэропортах. Чтобы привлекать больше водителей в период пиковой нагрузки, нужно спрогнозировать количество заказов такси на следующий час. Постройте модель для такого предсказания.\n",
        "\n",
        "Значение метрики *RMSE* на тестовой выборке должно быть не больше 48.\n",
        "\n",
        "Нужно:\n",
        "\n",
        "1. Загрузить данные и выполнить их ресемплирование по одному часу.\n",
        "2. Проанализировать данные.\n",
        "3. Обучить разные модели с различными гиперпараметрами. Сделать тестовую выборку размером 10% от исходных данных.\n",
        "4. Проверить данные на тестовой выборке и сделать выводы.\n",
        "\n",
        "\n",
        "Данные лежат в файле `taxi.csv`. Количество заказов находится в столбце `num_orders` (от англ. *number of orders*, «число заказов»)."
      ]
    },
    {
      "cell_type": "markdown",
      "metadata": {
        "id": "5qKXwyD9SkDW"
      },
      "source": [
        "## Подготовка"
      ]
    },
    {
      "cell_type": "code",
      "source": [
        "!pip install catboost"
      ],
      "metadata": {
        "colab": {
          "base_uri": "https://localhost:8080/"
        },
        "id": "HoAu9d7hTJv5",
        "outputId": "0f78c44a-a975-4296-bc02-a89face171dc"
      },
      "execution_count": null,
      "outputs": [
        {
          "output_type": "stream",
          "name": "stdout",
          "text": [
            "Collecting catboost\n",
            "  Downloading catboost-1.2.1-cp310-cp310-manylinux2014_x86_64.whl (98.7 MB)\n",
            "\u001b[2K     \u001b[90m━━━━━━━━━━━━━━━━━━━━━━━━━━━━━━━━━━━━━━━━\u001b[0m \u001b[32m98.7/98.7 MB\u001b[0m \u001b[31m9.2 MB/s\u001b[0m eta \u001b[36m0:00:00\u001b[0m\n",
            "\u001b[?25hRequirement already satisfied: graphviz in /usr/local/lib/python3.10/dist-packages (from catboost) (0.20.1)\n",
            "Requirement already satisfied: matplotlib in /usr/local/lib/python3.10/dist-packages (from catboost) (3.7.1)\n",
            "Requirement already satisfied: numpy>=1.16.0 in /usr/local/lib/python3.10/dist-packages (from catboost) (1.23.5)\n",
            "Requirement already satisfied: pandas>=0.24 in /usr/local/lib/python3.10/dist-packages (from catboost) (1.5.3)\n",
            "Requirement already satisfied: scipy in /usr/local/lib/python3.10/dist-packages (from catboost) (1.11.2)\n",
            "Requirement already satisfied: plotly in /usr/local/lib/python3.10/dist-packages (from catboost) (5.15.0)\n",
            "Requirement already satisfied: six in /usr/local/lib/python3.10/dist-packages (from catboost) (1.16.0)\n",
            "Requirement already satisfied: python-dateutil>=2.8.1 in /usr/local/lib/python3.10/dist-packages (from pandas>=0.24->catboost) (2.8.2)\n",
            "Requirement already satisfied: pytz>=2020.1 in /usr/local/lib/python3.10/dist-packages (from pandas>=0.24->catboost) (2023.3.post1)\n",
            "Requirement already satisfied: contourpy>=1.0.1 in /usr/local/lib/python3.10/dist-packages (from matplotlib->catboost) (1.1.0)\n",
            "Requirement already satisfied: cycler>=0.10 in /usr/local/lib/python3.10/dist-packages (from matplotlib->catboost) (0.11.0)\n",
            "Requirement already satisfied: fonttools>=4.22.0 in /usr/local/lib/python3.10/dist-packages (from matplotlib->catboost) (4.42.1)\n",
            "Requirement already satisfied: kiwisolver>=1.0.1 in /usr/local/lib/python3.10/dist-packages (from matplotlib->catboost) (1.4.5)\n",
            "Requirement already satisfied: packaging>=20.0 in /usr/local/lib/python3.10/dist-packages (from matplotlib->catboost) (23.1)\n",
            "Requirement already satisfied: pillow>=6.2.0 in /usr/local/lib/python3.10/dist-packages (from matplotlib->catboost) (9.4.0)\n",
            "Requirement already satisfied: pyparsing>=2.3.1 in /usr/local/lib/python3.10/dist-packages (from matplotlib->catboost) (3.1.1)\n",
            "Requirement already satisfied: tenacity>=6.2.0 in /usr/local/lib/python3.10/dist-packages (from plotly->catboost) (8.2.3)\n",
            "Installing collected packages: catboost\n",
            "Successfully installed catboost-1.2.1\n"
          ]
        }
      ]
    },
    {
      "cell_type": "code",
      "execution_count": null,
      "metadata": {
        "id": "QKdmejoQSkDX"
      },
      "outputs": [],
      "source": [
        "import matplotlib.pyplot as plt\n",
        "import pandas as pd\n",
        "\n",
        "from catboost import CatBoostRegressor\n",
        "from lightgbm import LGBMRegressor\n",
        "from math import sqrt\n",
        "from sklearn.ensemble import RandomForestRegressor\n",
        "from sklearn.linear_model import LinearRegression\n",
        "from sklearn.metrics import mean_squared_error\n",
        "from sklearn.model_selection import train_test_split\n",
        "from statsmodels.tsa.seasonal import seasonal_decompose\n",
        "\n",
        "\n",
        "from tqdm import tqdm"
      ]
    },
    {
      "cell_type": "code",
      "execution_count": null,
      "metadata": {
        "scrolled": true,
        "colab": {
          "base_uri": "https://localhost:8080/",
          "height": 191
        },
        "id": "sfat_rOdSkDY",
        "outputId": "6bcdce57-280b-42e1-ea81-ce91c4e8280c"
      },
      "outputs": [
        {
          "output_type": "stream",
          "name": "stdout",
          "text": [
            "<class 'pandas.core.frame.DataFrame'>\n",
            "RangeIndex: 26496 entries, 0 to 26495\n",
            "Data columns (total 2 columns):\n",
            " #   Column      Non-Null Count  Dtype \n",
            "---  ------      --------------  ----- \n",
            " 0   datetime    26496 non-null  object\n",
            " 1   num_orders  26496 non-null  int64 \n",
            "dtypes: int64(1), object(1)\n",
            "memory usage: 414.1+ KB\n"
          ]
        },
        {
          "output_type": "display_data",
          "data": {
            "text/plain": [
              "None"
            ]
          },
          "metadata": {}
        }
      ],
      "source": [
        "df = pd.read_csv('/content/taxi.csv')\n",
        "display(df.info())"
      ]
    },
    {
      "cell_type": "code",
      "execution_count": null,
      "metadata": {
        "scrolled": true,
        "colab": {
          "base_uri": "https://localhost:8080/",
          "height": 676
        },
        "id": "mwEllnwFSkDZ",
        "outputId": "dcf4be40-0995-4b8f-e535-b9776e6eb61c"
      },
      "outputs": [
        {
          "output_type": "stream",
          "name": "stdout",
          "text": [
            "<class 'pandas.core.frame.DataFrame'>\n",
            "DatetimeIndex: 26496 entries, 2018-03-01 00:00:00 to 2018-08-31 23:50:00\n",
            "Data columns (total 1 columns):\n",
            " #   Column      Non-Null Count  Dtype\n",
            "---  ------      --------------  -----\n",
            " 0   num_orders  26496 non-null  int64\n",
            "dtypes: int64(1)\n",
            "memory usage: 414.0 KB\n"
          ]
        },
        {
          "output_type": "display_data",
          "data": {
            "text/plain": [
              "None"
            ]
          },
          "metadata": {}
        },
        {
          "output_type": "display_data",
          "data": {
            "text/plain": [
              "         num_orders\n",
              "count  26496.000000\n",
              "mean      14.070463\n",
              "std        9.211330\n",
              "min        0.000000\n",
              "25%        8.000000\n",
              "50%       13.000000\n",
              "75%       19.000000\n",
              "max      119.000000"
            ],
            "text/html": [
              "\n",
              "  <div id=\"df-af926555-4803-44a2-82cd-ef31a9677705\" class=\"colab-df-container\">\n",
              "    <div>\n",
              "<style scoped>\n",
              "    .dataframe tbody tr th:only-of-type {\n",
              "        vertical-align: middle;\n",
              "    }\n",
              "\n",
              "    .dataframe tbody tr th {\n",
              "        vertical-align: top;\n",
              "    }\n",
              "\n",
              "    .dataframe thead th {\n",
              "        text-align: right;\n",
              "    }\n",
              "</style>\n",
              "<table border=\"1\" class=\"dataframe\">\n",
              "  <thead>\n",
              "    <tr style=\"text-align: right;\">\n",
              "      <th></th>\n",
              "      <th>num_orders</th>\n",
              "    </tr>\n",
              "  </thead>\n",
              "  <tbody>\n",
              "    <tr>\n",
              "      <th>count</th>\n",
              "      <td>26496.000000</td>\n",
              "    </tr>\n",
              "    <tr>\n",
              "      <th>mean</th>\n",
              "      <td>14.070463</td>\n",
              "    </tr>\n",
              "    <tr>\n",
              "      <th>std</th>\n",
              "      <td>9.211330</td>\n",
              "    </tr>\n",
              "    <tr>\n",
              "      <th>min</th>\n",
              "      <td>0.000000</td>\n",
              "    </tr>\n",
              "    <tr>\n",
              "      <th>25%</th>\n",
              "      <td>8.000000</td>\n",
              "    </tr>\n",
              "    <tr>\n",
              "      <th>50%</th>\n",
              "      <td>13.000000</td>\n",
              "    </tr>\n",
              "    <tr>\n",
              "      <th>75%</th>\n",
              "      <td>19.000000</td>\n",
              "    </tr>\n",
              "    <tr>\n",
              "      <th>max</th>\n",
              "      <td>119.000000</td>\n",
              "    </tr>\n",
              "  </tbody>\n",
              "</table>\n",
              "</div>\n",
              "    <div class=\"colab-df-buttons\">\n",
              "\n",
              "  <div class=\"colab-df-container\">\n",
              "    <button class=\"colab-df-convert\" onclick=\"convertToInteractive('df-af926555-4803-44a2-82cd-ef31a9677705')\"\n",
              "            title=\"Convert this dataframe to an interactive table.\"\n",
              "            style=\"display:none;\">\n",
              "\n",
              "  <svg xmlns=\"http://www.w3.org/2000/svg\" height=\"24px\" viewBox=\"0 -960 960 960\">\n",
              "    <path d=\"M120-120v-720h720v720H120Zm60-500h600v-160H180v160Zm220 220h160v-160H400v160Zm0 220h160v-160H400v160ZM180-400h160v-160H180v160Zm440 0h160v-160H620v160ZM180-180h160v-160H180v160Zm440 0h160v-160H620v160Z\"/>\n",
              "  </svg>\n",
              "    </button>\n",
              "\n",
              "  <style>\n",
              "    .colab-df-container {\n",
              "      display:flex;\n",
              "      gap: 12px;\n",
              "    }\n",
              "\n",
              "    .colab-df-convert {\n",
              "      background-color: #E8F0FE;\n",
              "      border: none;\n",
              "      border-radius: 50%;\n",
              "      cursor: pointer;\n",
              "      display: none;\n",
              "      fill: #1967D2;\n",
              "      height: 32px;\n",
              "      padding: 0 0 0 0;\n",
              "      width: 32px;\n",
              "    }\n",
              "\n",
              "    .colab-df-convert:hover {\n",
              "      background-color: #E2EBFA;\n",
              "      box-shadow: 0px 1px 2px rgba(60, 64, 67, 0.3), 0px 1px 3px 1px rgba(60, 64, 67, 0.15);\n",
              "      fill: #174EA6;\n",
              "    }\n",
              "\n",
              "    .colab-df-buttons div {\n",
              "      margin-bottom: 4px;\n",
              "    }\n",
              "\n",
              "    [theme=dark] .colab-df-convert {\n",
              "      background-color: #3B4455;\n",
              "      fill: #D2E3FC;\n",
              "    }\n",
              "\n",
              "    [theme=dark] .colab-df-convert:hover {\n",
              "      background-color: #434B5C;\n",
              "      box-shadow: 0px 1px 3px 1px rgba(0, 0, 0, 0.15);\n",
              "      filter: drop-shadow(0px 1px 2px rgba(0, 0, 0, 0.3));\n",
              "      fill: #FFFFFF;\n",
              "    }\n",
              "  </style>\n",
              "\n",
              "    <script>\n",
              "      const buttonEl =\n",
              "        document.querySelector('#df-af926555-4803-44a2-82cd-ef31a9677705 button.colab-df-convert');\n",
              "      buttonEl.style.display =\n",
              "        google.colab.kernel.accessAllowed ? 'block' : 'none';\n",
              "\n",
              "      async function convertToInteractive(key) {\n",
              "        const element = document.querySelector('#df-af926555-4803-44a2-82cd-ef31a9677705');\n",
              "        const dataTable =\n",
              "          await google.colab.kernel.invokeFunction('convertToInteractive',\n",
              "                                                    [key], {});\n",
              "        if (!dataTable) return;\n",
              "\n",
              "        const docLinkHtml = 'Like what you see? Visit the ' +\n",
              "          '<a target=\"_blank\" href=https://colab.research.google.com/notebooks/data_table.ipynb>data table notebook</a>'\n",
              "          + ' to learn more about interactive tables.';\n",
              "        element.innerHTML = '';\n",
              "        dataTable['output_type'] = 'display_data';\n",
              "        await google.colab.output.renderOutput(dataTable, element);\n",
              "        const docLink = document.createElement('div');\n",
              "        docLink.innerHTML = docLinkHtml;\n",
              "        element.appendChild(docLink);\n",
              "      }\n",
              "    </script>\n",
              "  </div>\n",
              "\n",
              "\n",
              "<div id=\"df-5f886908-3dbb-46f8-a887-b64334b411a4\">\n",
              "  <button class=\"colab-df-quickchart\" onclick=\"quickchart('df-5f886908-3dbb-46f8-a887-b64334b411a4')\"\n",
              "            title=\"Suggest charts.\"\n",
              "            style=\"display:none;\">\n",
              "\n",
              "<svg xmlns=\"http://www.w3.org/2000/svg\" height=\"24px\"viewBox=\"0 0 24 24\"\n",
              "     width=\"24px\">\n",
              "    <g>\n",
              "        <path d=\"M19 3H5c-1.1 0-2 .9-2 2v14c0 1.1.9 2 2 2h14c1.1 0 2-.9 2-2V5c0-1.1-.9-2-2-2zM9 17H7v-7h2v7zm4 0h-2V7h2v10zm4 0h-2v-4h2v4z\"/>\n",
              "    </g>\n",
              "</svg>\n",
              "  </button>\n",
              "\n",
              "<style>\n",
              "  .colab-df-quickchart {\n",
              "      --bg-color: #E8F0FE;\n",
              "      --fill-color: #1967D2;\n",
              "      --hover-bg-color: #E2EBFA;\n",
              "      --hover-fill-color: #174EA6;\n",
              "      --disabled-fill-color: #AAA;\n",
              "      --disabled-bg-color: #DDD;\n",
              "  }\n",
              "\n",
              "  [theme=dark] .colab-df-quickchart {\n",
              "      --bg-color: #3B4455;\n",
              "      --fill-color: #D2E3FC;\n",
              "      --hover-bg-color: #434B5C;\n",
              "      --hover-fill-color: #FFFFFF;\n",
              "      --disabled-bg-color: #3B4455;\n",
              "      --disabled-fill-color: #666;\n",
              "  }\n",
              "\n",
              "  .colab-df-quickchart {\n",
              "    background-color: var(--bg-color);\n",
              "    border: none;\n",
              "    border-radius: 50%;\n",
              "    cursor: pointer;\n",
              "    display: none;\n",
              "    fill: var(--fill-color);\n",
              "    height: 32px;\n",
              "    padding: 0;\n",
              "    width: 32px;\n",
              "  }\n",
              "\n",
              "  .colab-df-quickchart:hover {\n",
              "    background-color: var(--hover-bg-color);\n",
              "    box-shadow: 0 1px 2px rgba(60, 64, 67, 0.3), 0 1px 3px 1px rgba(60, 64, 67, 0.15);\n",
              "    fill: var(--button-hover-fill-color);\n",
              "  }\n",
              "\n",
              "  .colab-df-quickchart-complete:disabled,\n",
              "  .colab-df-quickchart-complete:disabled:hover {\n",
              "    background-color: var(--disabled-bg-color);\n",
              "    fill: var(--disabled-fill-color);\n",
              "    box-shadow: none;\n",
              "  }\n",
              "\n",
              "  .colab-df-spinner {\n",
              "    border: 2px solid var(--fill-color);\n",
              "    border-color: transparent;\n",
              "    border-bottom-color: var(--fill-color);\n",
              "    animation:\n",
              "      spin 1s steps(1) infinite;\n",
              "  }\n",
              "\n",
              "  @keyframes spin {\n",
              "    0% {\n",
              "      border-color: transparent;\n",
              "      border-bottom-color: var(--fill-color);\n",
              "      border-left-color: var(--fill-color);\n",
              "    }\n",
              "    20% {\n",
              "      border-color: transparent;\n",
              "      border-left-color: var(--fill-color);\n",
              "      border-top-color: var(--fill-color);\n",
              "    }\n",
              "    30% {\n",
              "      border-color: transparent;\n",
              "      border-left-color: var(--fill-color);\n",
              "      border-top-color: var(--fill-color);\n",
              "      border-right-color: var(--fill-color);\n",
              "    }\n",
              "    40% {\n",
              "      border-color: transparent;\n",
              "      border-right-color: var(--fill-color);\n",
              "      border-top-color: var(--fill-color);\n",
              "    }\n",
              "    60% {\n",
              "      border-color: transparent;\n",
              "      border-right-color: var(--fill-color);\n",
              "    }\n",
              "    80% {\n",
              "      border-color: transparent;\n",
              "      border-right-color: var(--fill-color);\n",
              "      border-bottom-color: var(--fill-color);\n",
              "    }\n",
              "    90% {\n",
              "      border-color: transparent;\n",
              "      border-bottom-color: var(--fill-color);\n",
              "    }\n",
              "  }\n",
              "</style>\n",
              "\n",
              "  <script>\n",
              "    async function quickchart(key) {\n",
              "      const quickchartButtonEl =\n",
              "        document.querySelector('#' + key + ' button');\n",
              "      quickchartButtonEl.disabled = true;  // To prevent multiple clicks.\n",
              "      quickchartButtonEl.classList.add('colab-df-spinner');\n",
              "      try {\n",
              "        const charts = await google.colab.kernel.invokeFunction(\n",
              "            'suggestCharts', [key], {});\n",
              "      } catch (error) {\n",
              "        console.error('Error during call to suggestCharts:', error);\n",
              "      }\n",
              "      quickchartButtonEl.classList.remove('colab-df-spinner');\n",
              "      quickchartButtonEl.classList.add('colab-df-quickchart-complete');\n",
              "    }\n",
              "    (() => {\n",
              "      let quickchartButtonEl =\n",
              "        document.querySelector('#df-5f886908-3dbb-46f8-a887-b64334b411a4 button');\n",
              "      quickchartButtonEl.style.display =\n",
              "        google.colab.kernel.accessAllowed ? 'block' : 'none';\n",
              "    })();\n",
              "  </script>\n",
              "</div>\n",
              "    </div>\n",
              "  </div>\n"
            ]
          },
          "metadata": {}
        },
        {
          "output_type": "display_data",
          "data": {
            "text/plain": [
              "                     num_orders\n",
              "datetime                       \n",
              "2018-03-01 00:00:00           9\n",
              "2018-03-01 00:10:00          14\n",
              "2018-03-01 00:20:00          28\n",
              "2018-03-01 00:30:00          20\n",
              "2018-03-01 00:40:00          32"
            ],
            "text/html": [
              "\n",
              "  <div id=\"df-2097344d-5b74-461b-beab-08a1c186c982\" class=\"colab-df-container\">\n",
              "    <div>\n",
              "<style scoped>\n",
              "    .dataframe tbody tr th:only-of-type {\n",
              "        vertical-align: middle;\n",
              "    }\n",
              "\n",
              "    .dataframe tbody tr th {\n",
              "        vertical-align: top;\n",
              "    }\n",
              "\n",
              "    .dataframe thead th {\n",
              "        text-align: right;\n",
              "    }\n",
              "</style>\n",
              "<table border=\"1\" class=\"dataframe\">\n",
              "  <thead>\n",
              "    <tr style=\"text-align: right;\">\n",
              "      <th></th>\n",
              "      <th>num_orders</th>\n",
              "    </tr>\n",
              "    <tr>\n",
              "      <th>datetime</th>\n",
              "      <th></th>\n",
              "    </tr>\n",
              "  </thead>\n",
              "  <tbody>\n",
              "    <tr>\n",
              "      <th>2018-03-01 00:00:00</th>\n",
              "      <td>9</td>\n",
              "    </tr>\n",
              "    <tr>\n",
              "      <th>2018-03-01 00:10:00</th>\n",
              "      <td>14</td>\n",
              "    </tr>\n",
              "    <tr>\n",
              "      <th>2018-03-01 00:20:00</th>\n",
              "      <td>28</td>\n",
              "    </tr>\n",
              "    <tr>\n",
              "      <th>2018-03-01 00:30:00</th>\n",
              "      <td>20</td>\n",
              "    </tr>\n",
              "    <tr>\n",
              "      <th>2018-03-01 00:40:00</th>\n",
              "      <td>32</td>\n",
              "    </tr>\n",
              "  </tbody>\n",
              "</table>\n",
              "</div>\n",
              "    <div class=\"colab-df-buttons\">\n",
              "\n",
              "  <div class=\"colab-df-container\">\n",
              "    <button class=\"colab-df-convert\" onclick=\"convertToInteractive('df-2097344d-5b74-461b-beab-08a1c186c982')\"\n",
              "            title=\"Convert this dataframe to an interactive table.\"\n",
              "            style=\"display:none;\">\n",
              "\n",
              "  <svg xmlns=\"http://www.w3.org/2000/svg\" height=\"24px\" viewBox=\"0 -960 960 960\">\n",
              "    <path d=\"M120-120v-720h720v720H120Zm60-500h600v-160H180v160Zm220 220h160v-160H400v160Zm0 220h160v-160H400v160ZM180-400h160v-160H180v160Zm440 0h160v-160H620v160ZM180-180h160v-160H180v160Zm440 0h160v-160H620v160Z\"/>\n",
              "  </svg>\n",
              "    </button>\n",
              "\n",
              "  <style>\n",
              "    .colab-df-container {\n",
              "      display:flex;\n",
              "      gap: 12px;\n",
              "    }\n",
              "\n",
              "    .colab-df-convert {\n",
              "      background-color: #E8F0FE;\n",
              "      border: none;\n",
              "      border-radius: 50%;\n",
              "      cursor: pointer;\n",
              "      display: none;\n",
              "      fill: #1967D2;\n",
              "      height: 32px;\n",
              "      padding: 0 0 0 0;\n",
              "      width: 32px;\n",
              "    }\n",
              "\n",
              "    .colab-df-convert:hover {\n",
              "      background-color: #E2EBFA;\n",
              "      box-shadow: 0px 1px 2px rgba(60, 64, 67, 0.3), 0px 1px 3px 1px rgba(60, 64, 67, 0.15);\n",
              "      fill: #174EA6;\n",
              "    }\n",
              "\n",
              "    .colab-df-buttons div {\n",
              "      margin-bottom: 4px;\n",
              "    }\n",
              "\n",
              "    [theme=dark] .colab-df-convert {\n",
              "      background-color: #3B4455;\n",
              "      fill: #D2E3FC;\n",
              "    }\n",
              "\n",
              "    [theme=dark] .colab-df-convert:hover {\n",
              "      background-color: #434B5C;\n",
              "      box-shadow: 0px 1px 3px 1px rgba(0, 0, 0, 0.15);\n",
              "      filter: drop-shadow(0px 1px 2px rgba(0, 0, 0, 0.3));\n",
              "      fill: #FFFFFF;\n",
              "    }\n",
              "  </style>\n",
              "\n",
              "    <script>\n",
              "      const buttonEl =\n",
              "        document.querySelector('#df-2097344d-5b74-461b-beab-08a1c186c982 button.colab-df-convert');\n",
              "      buttonEl.style.display =\n",
              "        google.colab.kernel.accessAllowed ? 'block' : 'none';\n",
              "\n",
              "      async function convertToInteractive(key) {\n",
              "        const element = document.querySelector('#df-2097344d-5b74-461b-beab-08a1c186c982');\n",
              "        const dataTable =\n",
              "          await google.colab.kernel.invokeFunction('convertToInteractive',\n",
              "                                                    [key], {});\n",
              "        if (!dataTable) return;\n",
              "\n",
              "        const docLinkHtml = 'Like what you see? Visit the ' +\n",
              "          '<a target=\"_blank\" href=https://colab.research.google.com/notebooks/data_table.ipynb>data table notebook</a>'\n",
              "          + ' to learn more about interactive tables.';\n",
              "        element.innerHTML = '';\n",
              "        dataTable['output_type'] = 'display_data';\n",
              "        await google.colab.output.renderOutput(dataTable, element);\n",
              "        const docLink = document.createElement('div');\n",
              "        docLink.innerHTML = docLinkHtml;\n",
              "        element.appendChild(docLink);\n",
              "      }\n",
              "    </script>\n",
              "  </div>\n",
              "\n",
              "\n",
              "<div id=\"df-30e05dc1-d464-4b5e-8680-0313a896a16e\">\n",
              "  <button class=\"colab-df-quickchart\" onclick=\"quickchart('df-30e05dc1-d464-4b5e-8680-0313a896a16e')\"\n",
              "            title=\"Suggest charts.\"\n",
              "            style=\"display:none;\">\n",
              "\n",
              "<svg xmlns=\"http://www.w3.org/2000/svg\" height=\"24px\"viewBox=\"0 0 24 24\"\n",
              "     width=\"24px\">\n",
              "    <g>\n",
              "        <path d=\"M19 3H5c-1.1 0-2 .9-2 2v14c0 1.1.9 2 2 2h14c1.1 0 2-.9 2-2V5c0-1.1-.9-2-2-2zM9 17H7v-7h2v7zm4 0h-2V7h2v10zm4 0h-2v-4h2v4z\"/>\n",
              "    </g>\n",
              "</svg>\n",
              "  </button>\n",
              "\n",
              "<style>\n",
              "  .colab-df-quickchart {\n",
              "      --bg-color: #E8F0FE;\n",
              "      --fill-color: #1967D2;\n",
              "      --hover-bg-color: #E2EBFA;\n",
              "      --hover-fill-color: #174EA6;\n",
              "      --disabled-fill-color: #AAA;\n",
              "      --disabled-bg-color: #DDD;\n",
              "  }\n",
              "\n",
              "  [theme=dark] .colab-df-quickchart {\n",
              "      --bg-color: #3B4455;\n",
              "      --fill-color: #D2E3FC;\n",
              "      --hover-bg-color: #434B5C;\n",
              "      --hover-fill-color: #FFFFFF;\n",
              "      --disabled-bg-color: #3B4455;\n",
              "      --disabled-fill-color: #666;\n",
              "  }\n",
              "\n",
              "  .colab-df-quickchart {\n",
              "    background-color: var(--bg-color);\n",
              "    border: none;\n",
              "    border-radius: 50%;\n",
              "    cursor: pointer;\n",
              "    display: none;\n",
              "    fill: var(--fill-color);\n",
              "    height: 32px;\n",
              "    padding: 0;\n",
              "    width: 32px;\n",
              "  }\n",
              "\n",
              "  .colab-df-quickchart:hover {\n",
              "    background-color: var(--hover-bg-color);\n",
              "    box-shadow: 0 1px 2px rgba(60, 64, 67, 0.3), 0 1px 3px 1px rgba(60, 64, 67, 0.15);\n",
              "    fill: var(--button-hover-fill-color);\n",
              "  }\n",
              "\n",
              "  .colab-df-quickchart-complete:disabled,\n",
              "  .colab-df-quickchart-complete:disabled:hover {\n",
              "    background-color: var(--disabled-bg-color);\n",
              "    fill: var(--disabled-fill-color);\n",
              "    box-shadow: none;\n",
              "  }\n",
              "\n",
              "  .colab-df-spinner {\n",
              "    border: 2px solid var(--fill-color);\n",
              "    border-color: transparent;\n",
              "    border-bottom-color: var(--fill-color);\n",
              "    animation:\n",
              "      spin 1s steps(1) infinite;\n",
              "  }\n",
              "\n",
              "  @keyframes spin {\n",
              "    0% {\n",
              "      border-color: transparent;\n",
              "      border-bottom-color: var(--fill-color);\n",
              "      border-left-color: var(--fill-color);\n",
              "    }\n",
              "    20% {\n",
              "      border-color: transparent;\n",
              "      border-left-color: var(--fill-color);\n",
              "      border-top-color: var(--fill-color);\n",
              "    }\n",
              "    30% {\n",
              "      border-color: transparent;\n",
              "      border-left-color: var(--fill-color);\n",
              "      border-top-color: var(--fill-color);\n",
              "      border-right-color: var(--fill-color);\n",
              "    }\n",
              "    40% {\n",
              "      border-color: transparent;\n",
              "      border-right-color: var(--fill-color);\n",
              "      border-top-color: var(--fill-color);\n",
              "    }\n",
              "    60% {\n",
              "      border-color: transparent;\n",
              "      border-right-color: var(--fill-color);\n",
              "    }\n",
              "    80% {\n",
              "      border-color: transparent;\n",
              "      border-right-color: var(--fill-color);\n",
              "      border-bottom-color: var(--fill-color);\n",
              "    }\n",
              "    90% {\n",
              "      border-color: transparent;\n",
              "      border-bottom-color: var(--fill-color);\n",
              "    }\n",
              "  }\n",
              "</style>\n",
              "\n",
              "  <script>\n",
              "    async function quickchart(key) {\n",
              "      const quickchartButtonEl =\n",
              "        document.querySelector('#' + key + ' button');\n",
              "      quickchartButtonEl.disabled = true;  // To prevent multiple clicks.\n",
              "      quickchartButtonEl.classList.add('colab-df-spinner');\n",
              "      try {\n",
              "        const charts = await google.colab.kernel.invokeFunction(\n",
              "            'suggestCharts', [key], {});\n",
              "      } catch (error) {\n",
              "        console.error('Error during call to suggestCharts:', error);\n",
              "      }\n",
              "      quickchartButtonEl.classList.remove('colab-df-spinner');\n",
              "      quickchartButtonEl.classList.add('colab-df-quickchart-complete');\n",
              "    }\n",
              "    (() => {\n",
              "      let quickchartButtonEl =\n",
              "        document.querySelector('#df-30e05dc1-d464-4b5e-8680-0313a896a16e button');\n",
              "      quickchartButtonEl.style.display =\n",
              "        google.colab.kernel.accessAllowed ? 'block' : 'none';\n",
              "    })();\n",
              "  </script>\n",
              "</div>\n",
              "    </div>\n",
              "  </div>\n"
            ]
          },
          "metadata": {}
        }
      ],
      "source": [
        "df['datetime'] = pd.to_datetime(df['datetime'])\n",
        "df = pd.read_csv('/content/taxi.csv', parse_dates=[0], index_col='datetime')\n",
        "\n",
        "display(df.info())\n",
        "display(df.describe())\n",
        "display(df.head())"
      ]
    },
    {
      "cell_type": "code",
      "execution_count": null,
      "metadata": {
        "scrolled": false,
        "colab": {
          "base_uri": "https://localhost:8080/"
        },
        "id": "KCAi6VYBSkDa",
        "outputId": "30908e35-f71d-4823-a224-96ee718aa39a"
      },
      "outputs": [
        {
          "output_type": "stream",
          "name": "stderr",
          "text": [
            "<ipython-input-7-d1f11a250a74>:1: FutureWarning: is_monotonic is deprecated and will be removed in a future version. Use is_monotonic_increasing instead.\n",
            "  df.index.is_monotonic\n"
          ]
        },
        {
          "output_type": "execute_result",
          "data": {
            "text/plain": [
              "True"
            ]
          },
          "metadata": {},
          "execution_count": 7
        }
      ],
      "source": [
        "df.index.is_monotonic"
      ]
    },
    {
      "cell_type": "code",
      "execution_count": null,
      "metadata": {
        "colab": {
          "base_uri": "https://localhost:8080/",
          "height": 483
        },
        "id": "kw3bPaORSkDb",
        "outputId": "e70ad837-e0b1-4566-b0eb-1d4194193a62"
      },
      "outputs": [
        {
          "output_type": "execute_result",
          "data": {
            "text/plain": [
              "<Axes: xlabel='datetime'>"
            ]
          },
          "metadata": {},
          "execution_count": 8
        },
        {
          "output_type": "display_data",
          "data": {
            "text/plain": [
              "<Figure size 640x480 with 1 Axes>"
            ],
            "image/png": "[encoded data removed]"
          },
          "metadata": {}
        }
      ],
      "source": [
        "df_plot = df.resample('1W').mean()\n",
        "df_plot.plot()"
      ]
    },
    {
      "cell_type": "markdown",
      "metadata": {
        "id": "U46ElfK4SkDc"
      },
      "source": [
        "Вырисовывается тренд, что с каждой неделей среднее количество заказов увеличивается в заданный период.Проверю его в следующем пункте."
      ]
    },
    {
      "cell_type": "markdown",
      "metadata": {
        "id": "kFD96E7rSkDc"
      },
      "source": [
        "### Обработка пропусков."
      ]
    },
    {
      "cell_type": "code",
      "execution_count": null,
      "metadata": {
        "scrolled": true,
        "colab": {
          "base_uri": "https://localhost:8080/"
        },
        "id": "6kl7jrLMSkDc",
        "outputId": "b48c7038-a473-4675-b9d8-b711d14ec744"
      },
      "outputs": [
        {
          "output_type": "execute_result",
          "data": {
            "text/plain": [
              "num_orders    0\n",
              "dtype: int64"
            ]
          },
          "metadata": {},
          "execution_count": 9
        }
      ],
      "source": [
        "df.isna().sum()"
      ]
    },
    {
      "cell_type": "markdown",
      "metadata": {
        "id": "ULusZWbHSkDd"
      },
      "source": [
        "Пропусков обнаружено не было."
      ]
    },
    {
      "cell_type": "markdown",
      "metadata": {
        "id": "MCnaUKhUSkDd"
      },
      "source": [
        "### Обработка дубликатов."
      ]
    },
    {
      "cell_type": "code",
      "execution_count": null,
      "metadata": {
        "colab": {
          "base_uri": "https://localhost:8080/"
        },
        "id": "s0rur2kMSkDd",
        "outputId": "24f42db0-d3ba-4f13-8435-e0f57e01c2c9"
      },
      "outputs": [
        {
          "output_type": "execute_result",
          "data": {
            "text/plain": [
              "26415"
            ]
          },
          "metadata": {},
          "execution_count": 10
        }
      ],
      "source": [
        "df.duplicated().sum()"
      ]
    },
    {
      "cell_type": "markdown",
      "metadata": {
        "id": "l0BrhjwKSkDd"
      },
      "source": [
        "Дубликаты возможны, так как может быть одинаковое количество заказов."
      ]
    },
    {
      "cell_type": "markdown",
      "metadata": {
        "id": "wyIo38eXSkDe"
      },
      "source": [
        "### Небольшой выод по первому пункту"
      ]
    },
    {
      "cell_type": "markdown",
      "metadata": {
        "id": "rtWHiQHISkDe"
      },
      "source": [
        "Изучил данные, обработал пропуски и дубликаты. Аномальных значений также выявлено не было."
      ]
    },
    {
      "cell_type": "markdown",
      "metadata": {
        "id": "PJGro9nZSkDe"
      },
      "source": [
        "## Анализ"
      ]
    },
    {
      "cell_type": "code",
      "execution_count": null,
      "metadata": {
        "id": "raknroRpSkDe"
      },
      "outputs": [],
      "source": [
        "df_1H = df.resample('1H').sum()"
      ]
    },
    {
      "cell_type": "code",
      "execution_count": null,
      "metadata": {
        "id": "071mhFIFSkDf"
      },
      "outputs": [],
      "source": [
        "df_1D = df.resample('1D').sum()"
      ]
    },
    {
      "cell_type": "markdown",
      "metadata": {
        "id": "GpaGfmP5SkDf"
      },
      "source": [
        "### Тренд, Сезонность и Шум"
      ]
    },
    {
      "cell_type": "code",
      "execution_count": null,
      "metadata": {
        "id": "RRYbmpTGSkDf"
      },
      "outputs": [],
      "source": [
        "decomposed_df_1H = seasonal_decompose(df_1H)\n",
        "decomposed_df_1D = seasonal_decompose(df_1D)\n",
        "decomposed_df_1W = seasonal_decompose(df_1H['2018-03-01 00:00:00':'2018-03-07 00:00:00'])\n",
        "decomposed_df_1M = seasonal_decompose(df_1D['2018-03-01 00:00:00':'2018-03-31 00:00:00'])"
      ]
    },
    {
      "cell_type": "code",
      "execution_count": null,
      "metadata": {
        "id": "9-gI789JSkDg"
      },
      "outputs": [],
      "source": [
        "def plt_plt(decomposed):\n",
        "    plt.figure(figsize=(10,10))\n",
        "\n",
        "    plt.subplot(311)\n",
        "    decomposed.trend.plot(ax=plt.gca())\n",
        "    plt.title('Trend')\n",
        "\n",
        "    plt.subplot(312)\n",
        "    decomposed.seasonal.plot(ax=plt.gca())\n",
        "    plt.title('Seasonality')\n",
        "\n",
        "    plt.subplot(313)\n",
        "    decomposed.resid.plot(ax=plt.gca())\n",
        "    plt.title('Residuals')\n",
        "\n",
        "    plt.tight_layout()"
      ]
    },
    {
      "cell_type": "code",
      "execution_count": null,
      "metadata": {
        "scrolled": true,
        "colab": {
          "base_uri": "https://localhost:8080/",
          "height": 1000
        },
        "id": "yIlhF165SkDg",
        "outputId": "74e3d38c-b434-492c-c16e-e6bde56a2722"
      },
      "outputs": [
        {
          "output_type": "display_data",
          "data": {
            "text/plain": [
              "<Figure size 1000x1000 with 3 Axes>"
            ],
            "image/png": "[encoded data removed]"
          },
          "metadata": {}
        }
      ],
      "source": [
        "plt_plt(decomposed_df_1H)"
      ]
    },
    {
      "cell_type": "code",
      "execution_count": null,
      "metadata": {
        "scrolled": true,
        "colab": {
          "base_uri": "https://localhost:8080/",
          "height": 1000
        },
        "id": "-9O48MS-SkDg",
        "outputId": "48f45edf-794d-4f65-9170-cf1cf2c6ed60"
      },
      "outputs": [
        {
          "output_type": "display_data",
          "data": {
            "text/plain": [
              "<Figure size 1000x1000 with 3 Axes>"
            ],
            "image/png": "[encoded data removed]"
          },
          "metadata": {}
        }
      ],
      "source": [
        "plt_plt(decomposed_df_1D)"
      ]
    },
    {
      "cell_type": "code",
      "execution_count": null,
      "metadata": {
        "colab": {
          "base_uri": "https://localhost:8080/",
          "height": 1000
        },
        "id": "_lHrd9qxSkDh",
        "outputId": "93e99b44-543f-43f7-af3e-dfeee084eb88"
      },
      "outputs": [
        {
          "output_type": "display_data",
          "data": {
            "text/plain": [
              "<Figure size 1000x1000 with 3 Axes>"
            ],
            "image/png": "[encoded data removed]"
          },
          "metadata": {}
        }
      ],
      "source": [
        "plt_plt(decomposed_df_1W)"
      ]
    },
    {
      "cell_type": "code",
      "execution_count": null,
      "metadata": {
        "colab": {
          "base_uri": "https://localhost:8080/",
          "height": 1000
        },
        "id": "tPgprnv8SkDh",
        "outputId": "acaa563f-80f6-49c8-fd37-93786a0dd5af"
      },
      "outputs": [
        {
          "output_type": "display_data",
          "data": {
            "text/plain": [
              "<Figure size 1000x1000 with 3 Axes>"
            ],
            "image/png": "[encoded data removed]"
          },
          "metadata": {}
        }
      ],
      "source": [
        "plt_plt(decomposed_df_1M)"
      ]
    },
    {
      "cell_type": "code",
      "execution_count": null,
      "metadata": {
        "scrolled": true,
        "colab": {
          "base_uri": "https://localhost:8080/",
          "height": 482
        },
        "id": "Lx-sPmgiSkDh",
        "outputId": "e79d6237-2d0e-4cf1-e322-132d1fbfba7b"
      },
      "outputs": [
        {
          "output_type": "execute_result",
          "data": {
            "text/plain": [
              "<Axes: xlabel='datetime'>"
            ]
          },
          "metadata": {},
          "execution_count": 19
        },
        {
          "output_type": "display_data",
          "data": {
            "text/plain": [
              "<Figure size 1500x500 with 1 Axes>"
            ],
            "image/png": "[encoded data removed]"
          },
          "metadata": {}
        }
      ],
      "source": [
        "decomposed_df_1H.seasonal['2018-03-01'].plot(figsize=(15, 5))"
      ]
    },
    {
      "cell_type": "code",
      "execution_count": null,
      "metadata": {
        "colab": {
          "base_uri": "https://localhost:8080/",
          "height": 491
        },
        "id": "7Jf56fu5SkDi",
        "outputId": "2fbfcc4b-b528-4e25-af66-c2fb226809fc"
      },
      "outputs": [
        {
          "output_type": "execute_result",
          "data": {
            "text/plain": [
              "<Axes: xlabel='datetime'>"
            ]
          },
          "metadata": {},
          "execution_count": 20
        },
        {
          "output_type": "display_data",
          "data": {
            "text/plain": [
              "<Figure size 1500x500 with 1 Axes>"
            ],
            "image/png": "[encoded data removed]"
          },
          "metadata": {}
        }
      ],
      "source": [
        "decomposed_df_1D.seasonal['2018-03-01 00:00:00':'2018-03-07 00:00:00'].plot(figsize=(15, 5))"
      ]
    },
    {
      "cell_type": "markdown",
      "metadata": {
        "id": "-AQHv0teSkDi"
      },
      "source": [
        "### Небольшой выод по второму пункту"
      ]
    },
    {
      "cell_type": "markdown",
      "metadata": {
        "id": "BRZagjFlSkDi"
      },
      "source": [
        "Прослеживается тренд на увеличение количество поездок, непостоянный, со скачками. Самое большое количество поездок наблюдается в 12 ночи, также самый высокий пик поездок во вторник (5 марта 2018). С четверга на пятницу виднеется повышение количества поездок со снижением на выходные.  Это прослеживается на протяжении всего месяца."
      ]
    },
    {
      "cell_type": "markdown",
      "metadata": {
        "id": "SuCk4E_qSkDj"
      },
      "source": [
        "## Обучение"
      ]
    },
    {
      "cell_type": "markdown",
      "metadata": {
        "id": "2h1GZC4ySkDj"
      },
      "source": [
        "### Создание признаков"
      ]
    },
    {
      "cell_type": "code",
      "execution_count": null,
      "metadata": {
        "id": "vSL8Eop5SkDk"
      },
      "outputs": [],
      "source": [
        "def make_features(df, max_lag, rolling_mean_size):\n",
        "    df['dayofweek'] = df.index.dayofweek\n",
        "    df['hour'] = df.index.hour\n",
        "\n",
        "    for lag in range(1, max_lag + 1):\n",
        "        df['lag_{}'.format(lag)] = df['num_orders'].shift(lag)\n",
        "\n",
        "    df['rolling_mean'] = df['num_orders'].shift().rolling(rolling_mean_size).mean()\n",
        "\n",
        "    return df"
      ]
    },
    {
      "cell_type": "code",
      "execution_count": null,
      "metadata": {
        "colab": {
          "base_uri": "https://localhost:8080/"
        },
        "id": "01MtH3qCSkDk",
        "outputId": "7dfe2f0f-7412-444c-8841-6421956ece89"
      },
      "outputs": [
        {
          "output_type": "stream",
          "name": "stderr",
          "text": [
            "<ipython-input-21-d4cd72930e7b>:6: PerformanceWarning: DataFrame is highly fragmented.  This is usually the result of calling `frame.insert` many times, which has poor performance.  Consider joining all columns at once using pd.concat(axis=1) instead. To get a de-fragmented frame, use `newframe = frame.copy()`\n",
            "  df['lag_{}'.format(lag)] = df['num_orders'].shift(lag)\n",
            "<ipython-input-21-d4cd72930e7b>:6: PerformanceWarning: DataFrame is highly fragmented.  This is usually the result of calling `frame.insert` many times, which has poor performance.  Consider joining all columns at once using pd.concat(axis=1) instead. To get a de-fragmented frame, use `newframe = frame.copy()`\n",
            "  df['lag_{}'.format(lag)] = df['num_orders'].shift(lag)\n",
            "<ipython-input-21-d4cd72930e7b>:6: PerformanceWarning: DataFrame is highly fragmented.  This is usually the result of calling `frame.insert` many times, which has poor performance.  Consider joining all columns at once using pd.concat(axis=1) instead. To get a de-fragmented frame, use `newframe = frame.copy()`\n",
            "  df['lag_{}'.format(lag)] = df['num_orders'].shift(lag)\n",
            "<ipython-input-21-d4cd72930e7b>:6: PerformanceWarning: DataFrame is highly fragmented.  This is usually the result of calling `frame.insert` many times, which has poor performance.  Consider joining all columns at once using pd.concat(axis=1) instead. To get a de-fragmented frame, use `newframe = frame.copy()`\n",
            "  df['lag_{}'.format(lag)] = df['num_orders'].shift(lag)\n",
            "<ipython-input-21-d4cd72930e7b>:6: PerformanceWarning: DataFrame is highly fragmented.  This is usually the result of calling `frame.insert` many times, which has poor performance.  Consider joining all columns at once using pd.concat(axis=1) instead. To get a de-fragmented frame, use `newframe = frame.copy()`\n",
            "  df['lag_{}'.format(lag)] = df['num_orders'].shift(lag)\n",
            "<ipython-input-21-d4cd72930e7b>:6: PerformanceWarning: DataFrame is highly fragmented.  This is usually the result of calling `frame.insert` many times, which has poor performance.  Consider joining all columns at once using pd.concat(axis=1) instead. To get a de-fragmented frame, use `newframe = frame.copy()`\n",
            "  df['lag_{}'.format(lag)] = df['num_orders'].shift(lag)\n",
            "<ipython-input-21-d4cd72930e7b>:6: PerformanceWarning: DataFrame is highly fragmented.  This is usually the result of calling `frame.insert` many times, which has poor performance.  Consider joining all columns at once using pd.concat(axis=1) instead. To get a de-fragmented frame, use `newframe = frame.copy()`\n",
            "  df['lag_{}'.format(lag)] = df['num_orders'].shift(lag)\n",
            "<ipython-input-21-d4cd72930e7b>:6: PerformanceWarning: DataFrame is highly fragmented.  This is usually the result of calling `frame.insert` many times, which has poor performance.  Consider joining all columns at once using pd.concat(axis=1) instead. To get a de-fragmented frame, use `newframe = frame.copy()`\n",
            "  df['lag_{}'.format(lag)] = df['num_orders'].shift(lag)\n",
            "<ipython-input-21-d4cd72930e7b>:6: PerformanceWarning: DataFrame is highly fragmented.  This is usually the result of calling `frame.insert` many times, which has poor performance.  Consider joining all columns at once using pd.concat(axis=1) instead. To get a de-fragmented frame, use `newframe = frame.copy()`\n",
            "  df['lag_{}'.format(lag)] = df['num_orders'].shift(lag)\n",
            "<ipython-input-21-d4cd72930e7b>:6: PerformanceWarning: DataFrame is highly fragmented.  This is usually the result of calling `frame.insert` many times, which has poor performance.  Consider joining all columns at once using pd.concat(axis=1) instead. To get a de-fragmented frame, use `newframe = frame.copy()`\n",
            "  df['lag_{}'.format(lag)] = df['num_orders'].shift(lag)\n",
            "<ipython-input-21-d4cd72930e7b>:6: PerformanceWarning: DataFrame is highly fragmented.  This is usually the result of calling `frame.insert` many times, which has poor performance.  Consider joining all columns at once using pd.concat(axis=1) instead. To get a de-fragmented frame, use `newframe = frame.copy()`\n",
            "  df['lag_{}'.format(lag)] = df['num_orders'].shift(lag)\n",
            "<ipython-input-21-d4cd72930e7b>:6: PerformanceWarning: DataFrame is highly fragmented.  This is usually the result of calling `frame.insert` many times, which has poor performance.  Consider joining all columns at once using pd.concat(axis=1) instead. To get a de-fragmented frame, use `newframe = frame.copy()`\n",
            "  df['lag_{}'.format(lag)] = df['num_orders'].shift(lag)\n",
            "<ipython-input-21-d4cd72930e7b>:6: PerformanceWarning: DataFrame is highly fragmented.  This is usually the result of calling `frame.insert` many times, which has poor performance.  Consider joining all columns at once using pd.concat(axis=1) instead. To get a de-fragmented frame, use `newframe = frame.copy()`\n",
            "  df['lag_{}'.format(lag)] = df['num_orders'].shift(lag)\n",
            "<ipython-input-21-d4cd72930e7b>:6: PerformanceWarning: DataFrame is highly fragmented.  This is usually the result of calling `frame.insert` many times, which has poor performance.  Consider joining all columns at once using pd.concat(axis=1) instead. To get a de-fragmented frame, use `newframe = frame.copy()`\n",
            "  df['lag_{}'.format(lag)] = df['num_orders'].shift(lag)\n",
            "<ipython-input-21-d4cd72930e7b>:6: PerformanceWarning: DataFrame is highly fragmented.  This is usually the result of calling `frame.insert` many times, which has poor performance.  Consider joining all columns at once using pd.concat(axis=1) instead. To get a de-fragmented frame, use `newframe = frame.copy()`\n",
            "  df['lag_{}'.format(lag)] = df['num_orders'].shift(lag)\n",
            "<ipython-input-21-d4cd72930e7b>:6: PerformanceWarning: DataFrame is highly fragmented.  This is usually the result of calling `frame.insert` many times, which has poor performance.  Consider joining all columns at once using pd.concat(axis=1) instead. To get a de-fragmented frame, use `newframe = frame.copy()`\n",
            "  df['lag_{}'.format(lag)] = df['num_orders'].shift(lag)\n",
            "<ipython-input-21-d4cd72930e7b>:6: PerformanceWarning: DataFrame is highly fragmented.  This is usually the result of calling `frame.insert` many times, which has poor performance.  Consider joining all columns at once using pd.concat(axis=1) instead. To get a de-fragmented frame, use `newframe = frame.copy()`\n",
            "  df['lag_{}'.format(lag)] = df['num_orders'].shift(lag)\n",
            "<ipython-input-21-d4cd72930e7b>:6: PerformanceWarning: DataFrame is highly fragmented.  This is usually the result of calling `frame.insert` many times, which has poor performance.  Consider joining all columns at once using pd.concat(axis=1) instead. To get a de-fragmented frame, use `newframe = frame.copy()`\n",
            "  df['lag_{}'.format(lag)] = df['num_orders'].shift(lag)\n",
            "<ipython-input-21-d4cd72930e7b>:6: PerformanceWarning: DataFrame is highly fragmented.  This is usually the result of calling `frame.insert` many times, which has poor performance.  Consider joining all columns at once using pd.concat(axis=1) instead. To get a de-fragmented frame, use `newframe = frame.copy()`\n",
            "  df['lag_{}'.format(lag)] = df['num_orders'].shift(lag)\n",
            "<ipython-input-21-d4cd72930e7b>:6: PerformanceWarning: DataFrame is highly fragmented.  This is usually the result of calling `frame.insert` many times, which has poor performance.  Consider joining all columns at once using pd.concat(axis=1) instead. To get a de-fragmented frame, use `newframe = frame.copy()`\n",
            "  df['lag_{}'.format(lag)] = df['num_orders'].shift(lag)\n",
            "<ipython-input-21-d4cd72930e7b>:6: PerformanceWarning: DataFrame is highly fragmented.  This is usually the result of calling `frame.insert` many times, which has poor performance.  Consider joining all columns at once using pd.concat(axis=1) instead. To get a de-fragmented frame, use `newframe = frame.copy()`\n",
            "  df['lag_{}'.format(lag)] = df['num_orders'].shift(lag)\n",
            "<ipython-input-21-d4cd72930e7b>:6: PerformanceWarning: DataFrame is highly fragmented.  This is usually the result of calling `frame.insert` many times, which has poor performance.  Consider joining all columns at once using pd.concat(axis=1) instead. To get a de-fragmented frame, use `newframe = frame.copy()`\n",
            "  df['lag_{}'.format(lag)] = df['num_orders'].shift(lag)\n",
            "<ipython-input-21-d4cd72930e7b>:6: PerformanceWarning: DataFrame is highly fragmented.  This is usually the result of calling `frame.insert` many times, which has poor performance.  Consider joining all columns at once using pd.concat(axis=1) instead. To get a de-fragmented frame, use `newframe = frame.copy()`\n",
            "  df['lag_{}'.format(lag)] = df['num_orders'].shift(lag)\n",
            "<ipython-input-21-d4cd72930e7b>:6: PerformanceWarning: DataFrame is highly fragmented.  This is usually the result of calling `frame.insert` many times, which has poor performance.  Consider joining all columns at once using pd.concat(axis=1) instead. To get a de-fragmented frame, use `newframe = frame.copy()`\n",
            "  df['lag_{}'.format(lag)] = df['num_orders'].shift(lag)\n",
            "<ipython-input-21-d4cd72930e7b>:6: PerformanceWarning: DataFrame is highly fragmented.  This is usually the result of calling `frame.insert` many times, which has poor performance.  Consider joining all columns at once using pd.concat(axis=1) instead. To get a de-fragmented frame, use `newframe = frame.copy()`\n",
            "  df['lag_{}'.format(lag)] = df['num_orders'].shift(lag)\n",
            "<ipython-input-21-d4cd72930e7b>:6: PerformanceWarning: DataFrame is highly fragmented.  This is usually the result of calling `frame.insert` many times, which has poor performance.  Consider joining all columns at once using pd.concat(axis=1) instead. To get a de-fragmented frame, use `newframe = frame.copy()`\n",
            "  df['lag_{}'.format(lag)] = df['num_orders'].shift(lag)\n",
            "<ipython-input-21-d4cd72930e7b>:6: PerformanceWarning: DataFrame is highly fragmented.  This is usually the result of calling `frame.insert` many times, which has poor performance.  Consider joining all columns at once using pd.concat(axis=1) instead. To get a de-fragmented frame, use `newframe = frame.copy()`\n",
            "  df['lag_{}'.format(lag)] = df['num_orders'].shift(lag)\n",
            "<ipython-input-21-d4cd72930e7b>:6: PerformanceWarning: DataFrame is highly fragmented.  This is usually the result of calling `frame.insert` many times, which has poor performance.  Consider joining all columns at once using pd.concat(axis=1) instead. To get a de-fragmented frame, use `newframe = frame.copy()`\n",
            "  df['lag_{}'.format(lag)] = df['num_orders'].shift(lag)\n",
            "<ipython-input-21-d4cd72930e7b>:6: PerformanceWarning: DataFrame is highly fragmented.  This is usually the result of calling `frame.insert` many times, which has poor performance.  Consider joining all columns at once using pd.concat(axis=1) instead. To get a de-fragmented frame, use `newframe = frame.copy()`\n",
            "  df['lag_{}'.format(lag)] = df['num_orders'].shift(lag)\n",
            "<ipython-input-21-d4cd72930e7b>:6: PerformanceWarning: DataFrame is highly fragmented.  This is usually the result of calling `frame.insert` many times, which has poor performance.  Consider joining all columns at once using pd.concat(axis=1) instead. To get a de-fragmented frame, use `newframe = frame.copy()`\n",
            "  df['lag_{}'.format(lag)] = df['num_orders'].shift(lag)\n",
            "<ipython-input-21-d4cd72930e7b>:6: PerformanceWarning: DataFrame is highly fragmented.  This is usually the result of calling `frame.insert` many times, which has poor performance.  Consider joining all columns at once using pd.concat(axis=1) instead. To get a de-fragmented frame, use `newframe = frame.copy()`\n",
            "  df['lag_{}'.format(lag)] = df['num_orders'].shift(lag)\n",
            "<ipython-input-21-d4cd72930e7b>:6: PerformanceWarning: DataFrame is highly fragmented.  This is usually the result of calling `frame.insert` many times, which has poor performance.  Consider joining all columns at once using pd.concat(axis=1) instead. To get a de-fragmented frame, use `newframe = frame.copy()`\n",
            "  df['lag_{}'.format(lag)] = df['num_orders'].shift(lag)\n",
            "<ipython-input-21-d4cd72930e7b>:6: PerformanceWarning: DataFrame is highly fragmented.  This is usually the result of calling `frame.insert` many times, which has poor performance.  Consider joining all columns at once using pd.concat(axis=1) instead. To get a de-fragmented frame, use `newframe = frame.copy()`\n",
            "  df['lag_{}'.format(lag)] = df['num_orders'].shift(lag)\n",
            "<ipython-input-21-d4cd72930e7b>:6: PerformanceWarning: DataFrame is highly fragmented.  This is usually the result of calling `frame.insert` many times, which has poor performance.  Consider joining all columns at once using pd.concat(axis=1) instead. To get a de-fragmented frame, use `newframe = frame.copy()`\n",
            "  df['lag_{}'.format(lag)] = df['num_orders'].shift(lag)\n",
            "<ipython-input-21-d4cd72930e7b>:6: PerformanceWarning: DataFrame is highly fragmented.  This is usually the result of calling `frame.insert` many times, which has poor performance.  Consider joining all columns at once using pd.concat(axis=1) instead. To get a de-fragmented frame, use `newframe = frame.copy()`\n",
            "  df['lag_{}'.format(lag)] = df['num_orders'].shift(lag)\n",
            "<ipython-input-21-d4cd72930e7b>:6: PerformanceWarning: DataFrame is highly fragmented.  This is usually the result of calling `frame.insert` many times, which has poor performance.  Consider joining all columns at once using pd.concat(axis=1) instead. To get a de-fragmented frame, use `newframe = frame.copy()`\n",
            "  df['lag_{}'.format(lag)] = df['num_orders'].shift(lag)\n",
            "<ipython-input-21-d4cd72930e7b>:6: PerformanceWarning: DataFrame is highly fragmented.  This is usually the result of calling `frame.insert` many times, which has poor performance.  Consider joining all columns at once using pd.concat(axis=1) instead. To get a de-fragmented frame, use `newframe = frame.copy()`\n",
            "  df['lag_{}'.format(lag)] = df['num_orders'].shift(lag)\n",
            "<ipython-input-21-d4cd72930e7b>:6: PerformanceWarning: DataFrame is highly fragmented.  This is usually the result of calling `frame.insert` many times, which has poor performance.  Consider joining all columns at once using pd.concat(axis=1) instead. To get a de-fragmented frame, use `newframe = frame.copy()`\n",
            "  df['lag_{}'.format(lag)] = df['num_orders'].shift(lag)\n",
            "<ipython-input-21-d4cd72930e7b>:6: PerformanceWarning: DataFrame is highly fragmented.  This is usually the result of calling `frame.insert` many times, which has poor performance.  Consider joining all columns at once using pd.concat(axis=1) instead. To get a de-fragmented frame, use `newframe = frame.copy()`\n",
            "  df['lag_{}'.format(lag)] = df['num_orders'].shift(lag)\n",
            "<ipython-input-21-d4cd72930e7b>:6: PerformanceWarning: DataFrame is highly fragmented.  This is usually the result of calling `frame.insert` many times, which has poor performance.  Consider joining all columns at once using pd.concat(axis=1) instead. To get a de-fragmented frame, use `newframe = frame.copy()`\n",
            "  df['lag_{}'.format(lag)] = df['num_orders'].shift(lag)\n",
            "<ipython-input-21-d4cd72930e7b>:6: PerformanceWarning: DataFrame is highly fragmented.  This is usually the result of calling `frame.insert` many times, which has poor performance.  Consider joining all columns at once using pd.concat(axis=1) instead. To get a de-fragmented frame, use `newframe = frame.copy()`\n",
            "  df['lag_{}'.format(lag)] = df['num_orders'].shift(lag)\n",
            "<ipython-input-21-d4cd72930e7b>:6: PerformanceWarning: DataFrame is highly fragmented.  This is usually the result of calling `frame.insert` many times, which has poor performance.  Consider joining all columns at once using pd.concat(axis=1) instead. To get a de-fragmented frame, use `newframe = frame.copy()`\n",
            "  df['lag_{}'.format(lag)] = df['num_orders'].shift(lag)\n",
            "<ipython-input-21-d4cd72930e7b>:6: PerformanceWarning: DataFrame is highly fragmented.  This is usually the result of calling `frame.insert` many times, which has poor performance.  Consider joining all columns at once using pd.concat(axis=1) instead. To get a de-fragmented frame, use `newframe = frame.copy()`\n",
            "  df['lag_{}'.format(lag)] = df['num_orders'].shift(lag)\n",
            "<ipython-input-21-d4cd72930e7b>:6: PerformanceWarning: DataFrame is highly fragmented.  This is usually the result of calling `frame.insert` many times, which has poor performance.  Consider joining all columns at once using pd.concat(axis=1) instead. To get a de-fragmented frame, use `newframe = frame.copy()`\n",
            "  df['lag_{}'.format(lag)] = df['num_orders'].shift(lag)\n",
            "<ipython-input-21-d4cd72930e7b>:6: PerformanceWarning: DataFrame is highly fragmented.  This is usually the result of calling `frame.insert` many times, which has poor performance.  Consider joining all columns at once using pd.concat(axis=1) instead. To get a de-fragmented frame, use `newframe = frame.copy()`\n",
            "  df['lag_{}'.format(lag)] = df['num_orders'].shift(lag)\n",
            "<ipython-input-21-d4cd72930e7b>:6: PerformanceWarning: DataFrame is highly fragmented.  This is usually the result of calling `frame.insert` many times, which has poor performance.  Consider joining all columns at once using pd.concat(axis=1) instead. To get a de-fragmented frame, use `newframe = frame.copy()`\n",
            "  df['lag_{}'.format(lag)] = df['num_orders'].shift(lag)\n",
            "<ipython-input-21-d4cd72930e7b>:6: PerformanceWarning: DataFrame is highly fragmented.  This is usually the result of calling `frame.insert` many times, which has poor performance.  Consider joining all columns at once using pd.concat(axis=1) instead. To get a de-fragmented frame, use `newframe = frame.copy()`\n",
            "  df['lag_{}'.format(lag)] = df['num_orders'].shift(lag)\n",
            "<ipython-input-21-d4cd72930e7b>:6: PerformanceWarning: DataFrame is highly fragmented.  This is usually the result of calling `frame.insert` many times, which has poor performance.  Consider joining all columns at once using pd.concat(axis=1) instead. To get a de-fragmented frame, use `newframe = frame.copy()`\n",
            "  df['lag_{}'.format(lag)] = df['num_orders'].shift(lag)\n",
            "<ipython-input-21-d4cd72930e7b>:6: PerformanceWarning: DataFrame is highly fragmented.  This is usually the result of calling `frame.insert` many times, which has poor performance.  Consider joining all columns at once using pd.concat(axis=1) instead. To get a de-fragmented frame, use `newframe = frame.copy()`\n",
            "  df['lag_{}'.format(lag)] = df['num_orders'].shift(lag)\n",
            "<ipython-input-21-d4cd72930e7b>:6: PerformanceWarning: DataFrame is highly fragmented.  This is usually the result of calling `frame.insert` many times, which has poor performance.  Consider joining all columns at once using pd.concat(axis=1) instead. To get a de-fragmented frame, use `newframe = frame.copy()`\n",
            "  df['lag_{}'.format(lag)] = df['num_orders'].shift(lag)\n",
            "<ipython-input-21-d4cd72930e7b>:6: PerformanceWarning: DataFrame is highly fragmented.  This is usually the result of calling `frame.insert` many times, which has poor performance.  Consider joining all columns at once using pd.concat(axis=1) instead. To get a de-fragmented frame, use `newframe = frame.copy()`\n",
            "  df['lag_{}'.format(lag)] = df['num_orders'].shift(lag)\n",
            "<ipython-input-21-d4cd72930e7b>:6: PerformanceWarning: DataFrame is highly fragmented.  This is usually the result of calling `frame.insert` many times, which has poor performance.  Consider joining all columns at once using pd.concat(axis=1) instead. To get a de-fragmented frame, use `newframe = frame.copy()`\n",
            "  df['lag_{}'.format(lag)] = df['num_orders'].shift(lag)\n",
            "<ipython-input-21-d4cd72930e7b>:6: PerformanceWarning: DataFrame is highly fragmented.  This is usually the result of calling `frame.insert` many times, which has poor performance.  Consider joining all columns at once using pd.concat(axis=1) instead. To get a de-fragmented frame, use `newframe = frame.copy()`\n",
            "  df['lag_{}'.format(lag)] = df['num_orders'].shift(lag)\n",
            "<ipython-input-21-d4cd72930e7b>:6: PerformanceWarning: DataFrame is highly fragmented.  This is usually the result of calling `frame.insert` many times, which has poor performance.  Consider joining all columns at once using pd.concat(axis=1) instead. To get a de-fragmented frame, use `newframe = frame.copy()`\n",
            "  df['lag_{}'.format(lag)] = df['num_orders'].shift(lag)\n",
            "<ipython-input-21-d4cd72930e7b>:6: PerformanceWarning: DataFrame is highly fragmented.  This is usually the result of calling `frame.insert` many times, which has poor performance.  Consider joining all columns at once using pd.concat(axis=1) instead. To get a de-fragmented frame, use `newframe = frame.copy()`\n",
            "  df['lag_{}'.format(lag)] = df['num_orders'].shift(lag)\n",
            "<ipython-input-21-d4cd72930e7b>:6: PerformanceWarning: DataFrame is highly fragmented.  This is usually the result of calling `frame.insert` many times, which has poor performance.  Consider joining all columns at once using pd.concat(axis=1) instead. To get a de-fragmented frame, use `newframe = frame.copy()`\n",
            "  df['lag_{}'.format(lag)] = df['num_orders'].shift(lag)\n",
            "<ipython-input-21-d4cd72930e7b>:6: PerformanceWarning: DataFrame is highly fragmented.  This is usually the result of calling `frame.insert` many times, which has poor performance.  Consider joining all columns at once using pd.concat(axis=1) instead. To get a de-fragmented frame, use `newframe = frame.copy()`\n",
            "  df['lag_{}'.format(lag)] = df['num_orders'].shift(lag)\n",
            "<ipython-input-21-d4cd72930e7b>:6: PerformanceWarning: DataFrame is highly fragmented.  This is usually the result of calling `frame.insert` many times, which has poor performance.  Consider joining all columns at once using pd.concat(axis=1) instead. To get a de-fragmented frame, use `newframe = frame.copy()`\n",
            "  df['lag_{}'.format(lag)] = df['num_orders'].shift(lag)\n",
            "<ipython-input-21-d4cd72930e7b>:6: PerformanceWarning: DataFrame is highly fragmented.  This is usually the result of calling `frame.insert` many times, which has poor performance.  Consider joining all columns at once using pd.concat(axis=1) instead. To get a de-fragmented frame, use `newframe = frame.copy()`\n",
            "  df['lag_{}'.format(lag)] = df['num_orders'].shift(lag)\n",
            "<ipython-input-21-d4cd72930e7b>:6: PerformanceWarning: DataFrame is highly fragmented.  This is usually the result of calling `frame.insert` many times, which has poor performance.  Consider joining all columns at once using pd.concat(axis=1) instead. To get a de-fragmented frame, use `newframe = frame.copy()`\n",
            "  df['lag_{}'.format(lag)] = df['num_orders'].shift(lag)\n",
            "<ipython-input-21-d4cd72930e7b>:6: PerformanceWarning: DataFrame is highly fragmented.  This is usually the result of calling `frame.insert` many times, which has poor performance.  Consider joining all columns at once using pd.concat(axis=1) instead. To get a de-fragmented frame, use `newframe = frame.copy()`\n",
            "  df['lag_{}'.format(lag)] = df['num_orders'].shift(lag)\n",
            "<ipython-input-21-d4cd72930e7b>:6: PerformanceWarning: DataFrame is highly fragmented.  This is usually the result of calling `frame.insert` many times, which has poor performance.  Consider joining all columns at once using pd.concat(axis=1) instead. To get a de-fragmented frame, use `newframe = frame.copy()`\n",
            "  df['lag_{}'.format(lag)] = df['num_orders'].shift(lag)\n",
            "<ipython-input-21-d4cd72930e7b>:6: PerformanceWarning: DataFrame is highly fragmented.  This is usually the result of calling `frame.insert` many times, which has poor performance.  Consider joining all columns at once using pd.concat(axis=1) instead. To get a de-fragmented frame, use `newframe = frame.copy()`\n",
            "  df['lag_{}'.format(lag)] = df['num_orders'].shift(lag)\n",
            "<ipython-input-21-d4cd72930e7b>:6: PerformanceWarning: DataFrame is highly fragmented.  This is usually the result of calling `frame.insert` many times, which has poor performance.  Consider joining all columns at once using pd.concat(axis=1) instead. To get a de-fragmented frame, use `newframe = frame.copy()`\n",
            "  df['lag_{}'.format(lag)] = df['num_orders'].shift(lag)\n",
            "<ipython-input-21-d4cd72930e7b>:6: PerformanceWarning: DataFrame is highly fragmented.  This is usually the result of calling `frame.insert` many times, which has poor performance.  Consider joining all columns at once using pd.concat(axis=1) instead. To get a de-fragmented frame, use `newframe = frame.copy()`\n",
            "  df['lag_{}'.format(lag)] = df['num_orders'].shift(lag)\n",
            "<ipython-input-21-d4cd72930e7b>:6: PerformanceWarning: DataFrame is highly fragmented.  This is usually the result of calling `frame.insert` many times, which has poor performance.  Consider joining all columns at once using pd.concat(axis=1) instead. To get a de-fragmented frame, use `newframe = frame.copy()`\n",
            "  df['lag_{}'.format(lag)] = df['num_orders'].shift(lag)\n",
            "<ipython-input-21-d4cd72930e7b>:6: PerformanceWarning: DataFrame is highly fragmented.  This is usually the result of calling `frame.insert` many times, which has poor performance.  Consider joining all columns at once using pd.concat(axis=1) instead. To get a de-fragmented frame, use `newframe = frame.copy()`\n",
            "  df['lag_{}'.format(lag)] = df['num_orders'].shift(lag)\n",
            "<ipython-input-21-d4cd72930e7b>:6: PerformanceWarning: DataFrame is highly fragmented.  This is usually the result of calling `frame.insert` many times, which has poor performance.  Consider joining all columns at once using pd.concat(axis=1) instead. To get a de-fragmented frame, use `newframe = frame.copy()`\n",
            "  df['lag_{}'.format(lag)] = df['num_orders'].shift(lag)\n",
            "<ipython-input-21-d4cd72930e7b>:6: PerformanceWarning: DataFrame is highly fragmented.  This is usually the result of calling `frame.insert` many times, which has poor performance.  Consider joining all columns at once using pd.concat(axis=1) instead. To get a de-fragmented frame, use `newframe = frame.copy()`\n",
            "  df['lag_{}'.format(lag)] = df['num_orders'].shift(lag)\n",
            "<ipython-input-21-d4cd72930e7b>:6: PerformanceWarning: DataFrame is highly fragmented.  This is usually the result of calling `frame.insert` many times, which has poor performance.  Consider joining all columns at once using pd.concat(axis=1) instead. To get a de-fragmented frame, use `newframe = frame.copy()`\n",
            "  df['lag_{}'.format(lag)] = df['num_orders'].shift(lag)\n",
            "<ipython-input-21-d4cd72930e7b>:6: PerformanceWarning: DataFrame is highly fragmented.  This is usually the result of calling `frame.insert` many times, which has poor performance.  Consider joining all columns at once using pd.concat(axis=1) instead. To get a de-fragmented frame, use `newframe = frame.copy()`\n",
            "  df['lag_{}'.format(lag)] = df['num_orders'].shift(lag)\n",
            "<ipython-input-21-d4cd72930e7b>:8: PerformanceWarning: DataFrame is highly fragmented.  This is usually the result of calling `frame.insert` many times, which has poor performance.  Consider joining all columns at once using pd.concat(axis=1) instead. To get a de-fragmented frame, use `newframe = frame.copy()`\n",
            "  df['rolling_mean'] = df['num_orders'].shift().rolling(rolling_mean_size).mean()\n"
          ]
        }
      ],
      "source": [
        "df_last = make_features(df_1H, 168, 24)"
      ]
    },
    {
      "cell_type": "code",
      "execution_count": null,
      "metadata": {
        "scrolled": false,
        "colab": {
          "base_uri": "https://localhost:8080/",
          "height": 121
        },
        "id": "jhYnrTcdSkDl",
        "outputId": "5cf333af-3f62-4a24-8329-b81d4c7c6c3c"
      },
      "outputs": [
        {
          "output_type": "display_data",
          "data": {
            "text/plain": [
              "(3425, 171)"
            ]
          },
          "metadata": {}
        },
        {
          "output_type": "display_data",
          "data": {
            "text/plain": [
              "(3425,)"
            ]
          },
          "metadata": {}
        },
        {
          "output_type": "display_data",
          "data": {
            "text/plain": [
              "(381, 171)"
            ]
          },
          "metadata": {}
        },
        {
          "output_type": "display_data",
          "data": {
            "text/plain": [
              "(381,)"
            ]
          },
          "metadata": {}
        },
        {
          "output_type": "display_data",
          "data": {
            "text/plain": [
              "(442, 171)"
            ]
          },
          "metadata": {}
        },
        {
          "output_type": "display_data",
          "data": {
            "text/plain": [
              "(442,)"
            ]
          },
          "metadata": {}
        }
      ],
      "source": [
        "valid_train, test = train_test_split(df_last, shuffle=False, test_size=0.1)\n",
        "valid_train = valid_train.dropna()\n",
        "train, valid = train_test_split(valid_train, shuffle=False, test_size=0.1)\n",
        "\n",
        "train_features = train.drop(['num_orders'], axis=1)\n",
        "train_target = train['num_orders']\n",
        "\n",
        "valid_features = valid.drop(['num_orders'], axis=1)\n",
        "valid_target = valid['num_orders']\n",
        "\n",
        "test_features = test.drop(['num_orders'], axis=1)\n",
        "test_target = test['num_orders']\n",
        "\n",
        "display(train_features.shape)\n",
        "display(train_target.shape)\n",
        "\n",
        "display(valid_features.shape)\n",
        "display(valid_target.shape)\n",
        "\n",
        "display(test_features.shape)\n",
        "display(test_target.shape)"
      ]
    },
    {
      "cell_type": "markdown",
      "metadata": {
        "id": "LX3CKX3sSkDn"
      },
      "source": [
        "### CatBoost"
      ]
    },
    {
      "cell_type": "code",
      "execution_count": null,
      "metadata": {
        "scrolled": true,
        "colab": {
          "base_uri": "https://localhost:8080/"
        },
        "id": "RbvE1q7kSkDn",
        "outputId": "d0e86dcd-056d-4803-bf57-b9ad121f8952"
      },
      "outputs": [
        {
          "output_type": "stream",
          "name": "stdout",
          "text": [
            "Learning rate set to 0.183298\n",
            "0:\tlearn: 32.9709063\ttotal: 265ms\tremaining: 52.9s\n",
            "25:\tlearn: 14.7611617\ttotal: 6.38s\tremaining: 42.9s\n",
            "50:\tlearn: 11.8604879\ttotal: 11.7s\tremaining: 34.3s\n",
            "75:\tlearn: 9.5360520\ttotal: 17.7s\tremaining: 29.2s\n",
            "100:\tlearn: 7.4589386\ttotal: 23s\tremaining: 22.8s\n",
            "125:\tlearn: 5.7826478\ttotal: 29.6s\tremaining: 17.6s\n",
            "150:\tlearn: 4.5035387\ttotal: 35.2s\tremaining: 11.7s\n",
            "175:\tlearn: 3.5886897\ttotal: 41.3s\tremaining: 5.86s\n",
            "200:\tlearn: 2.8158755\ttotal: 46.6s\tremaining: 0us\n",
            "RMSE 29.862287681612575\n",
            "CPU times: user 1min 22s, sys: 241 ms, total: 1min 23s\n",
            "Wall time: 46.7 s\n"
          ]
        }
      ],
      "source": [
        "%%time\n",
        "\n",
        "model_cat_boost = CatBoostRegressor(loss_function='RMSE', depth=10, iterations=201, random_state=2802)\n",
        "model_cat_boost.fit(train_features, train_target, verbose=25)\n",
        "predictions = model_cat_boost.predict(valid_features)\n",
        "\n",
        "print('RMSE', sqrt(mean_squared_error(valid_target, predictions)))"
      ]
    },
    {
      "cell_type": "markdown",
      "metadata": {
        "id": "SfeHv7NLSkDo"
      },
      "source": [
        "### LightGBM"
      ]
    },
    {
      "cell_type": "code",
      "execution_count": null,
      "metadata": {
        "colab": {
          "base_uri": "https://localhost:8080/"
        },
        "id": "D7UeauhgSkDo",
        "outputId": "f4467adf-14f1-44e6-9305-b76c7bd15aaa"
      },
      "outputs": [
        {
          "output_type": "stream",
          "name": "stderr",
          "text": [
            "\r  0%|          | 0/3 [00:00<?, ?it/s]"
          ]
        },
        {
          "output_type": "stream",
          "name": "stdout",
          "text": [
            "[LightGBM] [Warning] num_leaves is set=31, max_leaves=1 will be ignored. Current value: num_leaves=31\n",
            "[LightGBM] [Warning] num_leaves is set=31, max_leaves=1 will be ignored. Current value: num_leaves=31\n",
            "[LightGBM] [Warning] Auto-choosing col-wise multi-threading, the overhead of testing was 0.005044 seconds.\n",
            "You can set `force_col_wise=true` to remove the overhead.\n",
            "[LightGBM] [Info] Total Bins 29744\n",
            "[LightGBM] [Info] Number of data points in the train set: 3425, number of used features: 171\n",
            "[LightGBM] [Info] Start training from score 75.936350\n",
            "[LightGBM] [Warning] num_leaves is set=31, max_leaves=1 will be ignored. Current value: num_leaves=31\n",
            "[LightGBM] [Warning] num_leaves is set=31, max_leaves=3 will be ignored. Current value: num_leaves=31\n",
            "[LightGBM] [Warning] num_leaves is set=31, max_leaves=3 will be ignored. Current value: num_leaves=31\n",
            "[LightGBM] [Warning] Auto-choosing col-wise multi-threading, the overhead of testing was 0.005667 seconds.\n",
            "You can set `force_col_wise=true` to remove the overhead.\n",
            "[LightGBM] [Info] Total Bins 29744\n",
            "[LightGBM] [Info] Number of data points in the train set: 3425, number of used features: 171\n",
            "[LightGBM] [Info] Start training from score 75.936350\n",
            "[LightGBM] [Warning] num_leaves is set=31, max_leaves=3 will be ignored. Current value: num_leaves=31\n",
            "[LightGBM] [Warning] num_leaves is set=31, max_leaves=5 will be ignored. Current value: num_leaves=31\n",
            "[LightGBM] [Warning] num_leaves is set=31, max_leaves=5 will be ignored. Current value: num_leaves=31\n",
            "[LightGBM] [Warning] Auto-choosing col-wise multi-threading, the overhead of testing was 0.005430 seconds.\n",
            "You can set `force_col_wise=true` to remove the overhead.\n",
            "[LightGBM] [Info] Total Bins 29744\n",
            "[LightGBM] [Info] Number of data points in the train set: 3425, number of used features: 171\n",
            "[LightGBM] [Info] Start training from score 75.936350\n",
            "[LightGBM] [Warning] num_leaves is set=31, max_leaves=5 will be ignored. Current value: num_leaves=31\n",
            "[LightGBM] [Warning] num_leaves is set=31, max_leaves=1 will be ignored. Current value: num_leaves=31\n",
            "[LightGBM] [Warning] num_leaves is set=31, max_leaves=1 will be ignored. Current value: num_leaves=31\n",
            "[LightGBM] [Warning] Auto-choosing col-wise multi-threading, the overhead of testing was 0.005360 seconds.\n",
            "You can set `force_col_wise=true` to remove the overhead.\n",
            "[LightGBM] [Info] Total Bins 29744\n",
            "[LightGBM] [Info] Number of data points in the train set: 3425, number of used features: 171\n",
            "[LightGBM] [Info] Start training from score 75.936350\n",
            "[LightGBM] [Warning] num_leaves is set=31, max_leaves=1 will be ignored. Current value: num_leaves=31\n",
            "[LightGBM] [Warning] num_leaves is set=31, max_leaves=3 will be ignored. Current value: num_leaves=31\n",
            "[LightGBM] [Warning] num_leaves is set=31, max_leaves=3 will be ignored. Current value: num_leaves=31\n",
            "[LightGBM] [Warning] Auto-choosing col-wise multi-threading, the overhead of testing was 0.005177 seconds.\n",
            "You can set `force_col_wise=true` to remove the overhead.\n",
            "[LightGBM] [Info] Total Bins 29744\n",
            "[LightGBM] [Info] Number of data points in the train set: 3425, number of used features: 171\n",
            "[LightGBM] [Info] Start training from score 75.936350\n",
            "[LightGBM] [Warning] num_leaves is set=31, max_leaves=3 will be ignored. Current value: num_leaves=31\n",
            "[LightGBM] [Warning] num_leaves is set=31, max_leaves=5 will be ignored. Current value: num_leaves=31\n",
            "[LightGBM] [Warning] num_leaves is set=31, max_leaves=5 will be ignored. Current value: num_leaves=31\n",
            "[LightGBM] [Warning] Auto-choosing col-wise multi-threading, the overhead of testing was 0.005291 seconds.\n",
            "You can set `force_col_wise=true` to remove the overhead.\n",
            "[LightGBM] [Info] Total Bins 29744\n",
            "[LightGBM] [Info] Number of data points in the train set: 3425, number of used features: 171\n",
            "[LightGBM] [Info] Start training from score 75.936350\n",
            "[LightGBM] [Warning] num_leaves is set=31, max_leaves=5 will be ignored. Current value: num_leaves=31\n",
            "[LightGBM] [Warning] num_leaves is set=31, max_leaves=1 will be ignored. Current value: num_leaves=31\n",
            "[LightGBM] [Warning] Accuracy may be bad since you didn't explicitly set num_leaves OR 2^max_depth > num_leaves. (num_leaves=31).\n",
            "[LightGBM] [Warning] num_leaves is set=31, max_leaves=1 will be ignored. Current value: num_leaves=31\n",
            "[LightGBM] [Warning] Accuracy may be bad since you didn't explicitly set num_leaves OR 2^max_depth > num_leaves. (num_leaves=31).\n",
            "[LightGBM] [Warning] Auto-choosing col-wise multi-threading, the overhead of testing was 0.005651 seconds.\n",
            "You can set `force_col_wise=true` to remove the overhead.\n",
            "[LightGBM] [Info] Total Bins 29744\n",
            "[LightGBM] [Info] Number of data points in the train set: 3425, number of used features: 171\n",
            "[LightGBM] [Info] Start training from score 75.936350\n",
            "[LightGBM] [Warning] No further splits with positive gain, best gain: -inf\n",
            "[LightGBM] [Warning] num_leaves is set=31, max_leaves=1 will be ignored. Current value: num_leaves=31\n",
            "[LightGBM] [Warning] Accuracy may be bad since you didn't explicitly set num_leaves OR 2^max_depth > num_leaves. (num_leaves=31).\n",
            "[LightGBM] [Warning] num_leaves is set=31, max_leaves=3 will be ignored. Current value: num_leaves=31\n",
            "[LightGBM] [Warning] Accuracy may be bad since you didn't explicitly set num_leaves OR 2^max_depth > num_leaves. (num_leaves=31).\n",
            "[LightGBM] [Warning] num_leaves is set=31, max_leaves=3 will be ignored. Current value: num_leaves=31\n",
            "[LightGBM] [Warning] Accuracy may be bad since you didn't explicitly set num_leaves OR 2^max_depth > num_leaves. (num_leaves=31).\n",
            "[LightGBM] [Warning] Auto-choosing col-wise multi-threading, the overhead of testing was 0.005455 seconds.\n",
            "You can set `force_col_wise=true` to remove the overhead.\n",
            "[LightGBM] [Info] Total Bins 29744\n",
            "[LightGBM] [Info] Number of data points in the train set: 3425, number of used features: 171\n",
            "[LightGBM] [Info] Start training from score 75.936350\n",
            "[LightGBM] [Warning] No further splits with positive gain, best gain: -inf\n",
            "[LightGBM] [Warning] num_leaves is set=31, max_leaves=3 will be ignored. Current value: num_leaves=31\n",
            "[LightGBM] [Warning] Accuracy may be bad since you didn't explicitly set num_leaves OR 2^max_depth > num_leaves. (num_leaves=31).\n",
            "[LightGBM] [Warning] num_leaves is set=31, max_leaves=5 will be ignored. Current value: num_leaves=31\n",
            "[LightGBM] [Warning] Accuracy may be bad since you didn't explicitly set num_leaves OR 2^max_depth > num_leaves. (num_leaves=31).\n"
          ]
        },
        {
          "output_type": "stream",
          "name": "stderr",
          "text": [
            "\r 33%|███▎      | 1/3 [00:00<00:01,  1.34it/s]"
          ]
        },
        {
          "output_type": "stream",
          "name": "stdout",
          "text": [
            "[LightGBM] [Warning] num_leaves is set=31, max_leaves=5 will be ignored. Current value: num_leaves=31\n",
            "[LightGBM] [Warning] Accuracy may be bad since you didn't explicitly set num_leaves OR 2^max_depth > num_leaves. (num_leaves=31).\n",
            "[LightGBM] [Warning] Auto-choosing col-wise multi-threading, the overhead of testing was 0.005258 seconds.\n",
            "You can set `force_col_wise=true` to remove the overhead.\n",
            "[LightGBM] [Info] Total Bins 29744\n",
            "[LightGBM] [Info] Number of data points in the train set: 3425, number of used features: 171\n",
            "[LightGBM] [Info] Start training from score 75.936350\n",
            "[LightGBM] [Warning] No further splits with positive gain, best gain: -inf\n",
            "[LightGBM] [Warning] num_leaves is set=31, max_leaves=5 will be ignored. Current value: num_leaves=31\n",
            "[LightGBM] [Warning] Accuracy may be bad since you didn't explicitly set num_leaves OR 2^max_depth > num_leaves. (num_leaves=31).\n",
            "[LightGBM] [Warning] num_leaves is set=31, max_leaves=1 will be ignored. Current value: num_leaves=31\n",
            "[LightGBM] [Warning] num_leaves is set=31, max_leaves=1 will be ignored. Current value: num_leaves=31\n",
            "[LightGBM] [Warning] Auto-choosing col-wise multi-threading, the overhead of testing was 0.005479 seconds.\n",
            "You can set `force_col_wise=true` to remove the overhead.\n",
            "[LightGBM] [Info] Total Bins 29744\n",
            "[LightGBM] [Info] Number of data points in the train set: 3425, number of used features: 171\n",
            "[LightGBM] [Info] Start training from score 75.936350\n",
            "[LightGBM] [Warning] num_leaves is set=31, max_leaves=1 will be ignored. Current value: num_leaves=31\n",
            "[LightGBM] [Warning] num_leaves is set=31, max_leaves=3 will be ignored. Current value: num_leaves=31\n",
            "[LightGBM] [Warning] num_leaves is set=31, max_leaves=3 will be ignored. Current value: num_leaves=31\n",
            "[LightGBM] [Warning] Auto-choosing col-wise multi-threading, the overhead of testing was 0.005732 seconds.\n",
            "You can set `force_col_wise=true` to remove the overhead.\n",
            "[LightGBM] [Info] Total Bins 29744\n",
            "[LightGBM] [Info] Number of data points in the train set: 3425, number of used features: 171\n",
            "[LightGBM] [Info] Start training from score 75.936350\n",
            "[LightGBM] [Warning] num_leaves is set=31, max_leaves=3 will be ignored. Current value: num_leaves=31\n",
            "[LightGBM] [Warning] num_leaves is set=31, max_leaves=5 will be ignored. Current value: num_leaves=31\n",
            "[LightGBM] [Warning] num_leaves is set=31, max_leaves=5 will be ignored. Current value: num_leaves=31\n",
            "[LightGBM] [Warning] Auto-choosing col-wise multi-threading, the overhead of testing was 0.005744 seconds.\n",
            "You can set `force_col_wise=true` to remove the overhead.\n",
            "[LightGBM] [Info] Total Bins 29744\n",
            "[LightGBM] [Info] Number of data points in the train set: 3425, number of used features: 171\n",
            "[LightGBM] [Info] Start training from score 75.936350\n",
            "[LightGBM] [Warning] num_leaves is set=31, max_leaves=5 will be ignored. Current value: num_leaves=31\n",
            "[LightGBM] [Warning] num_leaves is set=31, max_leaves=1 will be ignored. Current value: num_leaves=31\n",
            "[LightGBM] [Warning] num_leaves is set=31, max_leaves=1 will be ignored. Current value: num_leaves=31\n",
            "[LightGBM] [Warning] Auto-choosing col-wise multi-threading, the overhead of testing was 0.005353 seconds.\n",
            "You can set `force_col_wise=true` to remove the overhead.\n",
            "[LightGBM] [Info] Total Bins 29744\n",
            "[LightGBM] [Info] Number of data points in the train set: 3425, number of used features: 171\n",
            "[LightGBM] [Info] Start training from score 75.936350\n",
            "[LightGBM] [Warning] num_leaves is set=31, max_leaves=1 will be ignored. Current value: num_leaves=31\n",
            "[LightGBM] [Warning] num_leaves is set=31, max_leaves=3 will be ignored. Current value: num_leaves=31\n",
            "[LightGBM] [Warning] num_leaves is set=31, max_leaves=3 will be ignored. Current value: num_leaves=31\n",
            "[LightGBM] [Warning] Auto-choosing col-wise multi-threading, the overhead of testing was 0.006313 seconds.\n",
            "You can set `force_col_wise=true` to remove the overhead.\n",
            "[LightGBM] [Info] Total Bins 29744\n",
            "[LightGBM] [Info] Number of data points in the train set: 3425, number of used features: 171\n",
            "[LightGBM] [Info] Start training from score 75.936350\n",
            "[LightGBM] [Warning] num_leaves is set=31, max_leaves=3 will be ignored. Current value: num_leaves=31\n",
            "[LightGBM] [Warning] num_leaves is set=31, max_leaves=5 will be ignored. Current value: num_leaves=31\n",
            "[LightGBM] [Warning] num_leaves is set=31, max_leaves=5 will be ignored. Current value: num_leaves=31\n",
            "[LightGBM] [Warning] Auto-choosing col-wise multi-threading, the overhead of testing was 0.009998 seconds.\n",
            "You can set `force_col_wise=true` to remove the overhead.\n",
            "[LightGBM] [Info] Total Bins 29744\n",
            "[LightGBM] [Info] Number of data points in the train set: 3425, number of used features: 171\n",
            "[LightGBM] [Info] Start training from score 75.936350\n",
            "[LightGBM] [Warning] num_leaves is set=31, max_leaves=5 will be ignored. Current value: num_leaves=31\n",
            "[LightGBM] [Warning] num_leaves is set=31, max_leaves=1 will be ignored. Current value: num_leaves=31\n",
            "[LightGBM] [Warning] Accuracy may be bad since you didn't explicitly set num_leaves OR 2^max_depth > num_leaves. (num_leaves=31).\n",
            "[LightGBM] [Warning] num_leaves is set=31, max_leaves=1 will be ignored. Current value: num_leaves=31\n",
            "[LightGBM] [Warning] Accuracy may be bad since you didn't explicitly set num_leaves OR 2^max_depth > num_leaves. (num_leaves=31).\n",
            "[LightGBM] [Warning] Auto-choosing col-wise multi-threading, the overhead of testing was 0.005833 seconds.\n",
            "You can set `force_col_wise=true` to remove the overhead.\n",
            "[LightGBM] [Info] Total Bins 29744\n",
            "[LightGBM] [Info] Number of data points in the train set: 3425, number of used features: 171\n",
            "[LightGBM] [Info] Start training from score 75.936350\n",
            "[LightGBM] [Warning] No further splits with positive gain, best gain: -inf\n",
            "[LightGBM] [Warning] No further splits with positive gain, best gain: -inf\n",
            "[LightGBM] [Warning] No further splits with positive gain, best gain: -inf\n",
            "[LightGBM] [Warning] num_leaves is set=31, max_leaves=1 will be ignored. Current value: num_leaves=31\n",
            "[LightGBM] [Warning] Accuracy may be bad since you didn't explicitly set num_leaves OR 2^max_depth > num_leaves. (num_leaves=31).\n",
            "[LightGBM] [Warning] num_leaves is set=31, max_leaves=3 will be ignored. Current value: num_leaves=31\n",
            "[LightGBM] [Warning] Accuracy may be bad since you didn't explicitly set num_leaves OR 2^max_depth > num_leaves. (num_leaves=31).\n",
            "[LightGBM] [Warning] num_leaves is set=31, max_leaves=3 will be ignored. Current value: num_leaves=31\n",
            "[LightGBM] [Warning] Accuracy may be bad since you didn't explicitly set num_leaves OR 2^max_depth > num_leaves. (num_leaves=31).\n",
            "[LightGBM] [Warning] Auto-choosing col-wise multi-threading, the overhead of testing was 0.005306 seconds.\n",
            "You can set `force_col_wise=true` to remove the overhead.\n",
            "[LightGBM] [Info] Total Bins 29744\n",
            "[LightGBM] [Info] Number of data points in the train set: 3425, number of used features: 171\n",
            "[LightGBM] [Info] Start training from score 75.936350\n",
            "[LightGBM] [Warning] No further splits with positive gain, best gain: -inf\n",
            "[LightGBM] [Warning] No further splits with positive gain, best gain: -inf\n"
          ]
        },
        {
          "output_type": "stream",
          "name": "stderr",
          "text": [
            "\r 67%|██████▋   | 2/3 [00:01<00:00,  1.31it/s]"
          ]
        },
        {
          "output_type": "stream",
          "name": "stdout",
          "text": [
            "[LightGBM] [Warning] No further splits with positive gain, best gain: -inf\n",
            "[LightGBM] [Warning] num_leaves is set=31, max_leaves=3 will be ignored. Current value: num_leaves=31\n",
            "[LightGBM] [Warning] Accuracy may be bad since you didn't explicitly set num_leaves OR 2^max_depth > num_leaves. (num_leaves=31).\n",
            "[LightGBM] [Warning] num_leaves is set=31, max_leaves=5 will be ignored. Current value: num_leaves=31\n",
            "[LightGBM] [Warning] Accuracy may be bad since you didn't explicitly set num_leaves OR 2^max_depth > num_leaves. (num_leaves=31).\n",
            "[LightGBM] [Warning] num_leaves is set=31, max_leaves=5 will be ignored. Current value: num_leaves=31\n",
            "[LightGBM] [Warning] Accuracy may be bad since you didn't explicitly set num_leaves OR 2^max_depth > num_leaves. (num_leaves=31).\n",
            "[LightGBM] [Warning] Auto-choosing col-wise multi-threading, the overhead of testing was 0.005621 seconds.\n",
            "You can set `force_col_wise=true` to remove the overhead.\n",
            "[LightGBM] [Info] Total Bins 29744\n",
            "[LightGBM] [Info] Number of data points in the train set: 3425, number of used features: 171\n",
            "[LightGBM] [Info] Start training from score 75.936350\n",
            "[LightGBM] [Warning] No further splits with positive gain, best gain: -inf\n",
            "[LightGBM] [Warning] No further splits with positive gain, best gain: -inf\n",
            "[LightGBM] [Warning] No further splits with positive gain, best gain: -inf\n",
            "[LightGBM] [Warning] num_leaves is set=31, max_leaves=5 will be ignored. Current value: num_leaves=31\n",
            "[LightGBM] [Warning] Accuracy may be bad since you didn't explicitly set num_leaves OR 2^max_depth > num_leaves. (num_leaves=31).\n",
            "[LightGBM] [Warning] num_leaves is set=31, max_leaves=1 will be ignored. Current value: num_leaves=31\n",
            "[LightGBM] [Warning] num_leaves is set=31, max_leaves=1 will be ignored. Current value: num_leaves=31\n",
            "[LightGBM] [Warning] Auto-choosing col-wise multi-threading, the overhead of testing was 0.005603 seconds.\n",
            "You can set `force_col_wise=true` to remove the overhead.\n",
            "[LightGBM] [Info] Total Bins 29744\n",
            "[LightGBM] [Info] Number of data points in the train set: 3425, number of used features: 171\n",
            "[LightGBM] [Info] Start training from score 75.936350\n",
            "[LightGBM] [Warning] num_leaves is set=31, max_leaves=1 will be ignored. Current value: num_leaves=31\n",
            "[LightGBM] [Warning] num_leaves is set=31, max_leaves=3 will be ignored. Current value: num_leaves=31\n",
            "[LightGBM] [Warning] num_leaves is set=31, max_leaves=3 will be ignored. Current value: num_leaves=31\n",
            "[LightGBM] [Warning] Auto-choosing col-wise multi-threading, the overhead of testing was 0.005646 seconds.\n",
            "You can set `force_col_wise=true` to remove the overhead.\n",
            "[LightGBM] [Info] Total Bins 29744\n",
            "[LightGBM] [Info] Number of data points in the train set: 3425, number of used features: 171\n",
            "[LightGBM] [Info] Start training from score 75.936350\n",
            "[LightGBM] [Warning] num_leaves is set=31, max_leaves=3 will be ignored. Current value: num_leaves=31\n",
            "[LightGBM] [Warning] num_leaves is set=31, max_leaves=5 will be ignored. Current value: num_leaves=31\n",
            "[LightGBM] [Warning] num_leaves is set=31, max_leaves=5 will be ignored. Current value: num_leaves=31\n",
            "[LightGBM] [Warning] Auto-choosing col-wise multi-threading, the overhead of testing was 0.005227 seconds.\n",
            "You can set `force_col_wise=true` to remove the overhead.\n",
            "[LightGBM] [Info] Total Bins 29744\n",
            "[LightGBM] [Info] Number of data points in the train set: 3425, number of used features: 171\n",
            "[LightGBM] [Info] Start training from score 75.936350\n",
            "[LightGBM] [Warning] num_leaves is set=31, max_leaves=5 will be ignored. Current value: num_leaves=31\n",
            "[LightGBM] [Warning] num_leaves is set=31, max_leaves=1 will be ignored. Current value: num_leaves=31\n",
            "[LightGBM] [Warning] num_leaves is set=31, max_leaves=1 will be ignored. Current value: num_leaves=31\n",
            "[LightGBM] [Warning] Auto-choosing col-wise multi-threading, the overhead of testing was 0.005714 seconds.\n",
            "You can set `force_col_wise=true` to remove the overhead.\n",
            "[LightGBM] [Info] Total Bins 29744\n",
            "[LightGBM] [Info] Number of data points in the train set: 3425, number of used features: 171\n",
            "[LightGBM] [Info] Start training from score 75.936350\n",
            "[LightGBM] [Warning] num_leaves is set=31, max_leaves=1 will be ignored. Current value: num_leaves=31\n",
            "[LightGBM] [Warning] num_leaves is set=31, max_leaves=3 will be ignored. Current value: num_leaves=31\n",
            "[LightGBM] [Warning] num_leaves is set=31, max_leaves=3 will be ignored. Current value: num_leaves=31\n",
            "[LightGBM] [Warning] Auto-choosing col-wise multi-threading, the overhead of testing was 0.006222 seconds.\n",
            "You can set `force_col_wise=true` to remove the overhead.\n",
            "[LightGBM] [Info] Total Bins 29744\n",
            "[LightGBM] [Info] Number of data points in the train set: 3425, number of used features: 171\n",
            "[LightGBM] [Info] Start training from score 75.936350\n",
            "[LightGBM] [Warning] num_leaves is set=31, max_leaves=3 will be ignored. Current value: num_leaves=31\n",
            "[LightGBM] [Warning] num_leaves is set=31, max_leaves=5 will be ignored. Current value: num_leaves=31\n",
            "[LightGBM] [Warning] num_leaves is set=31, max_leaves=5 will be ignored. Current value: num_leaves=31\n",
            "[LightGBM] [Warning] Auto-choosing col-wise multi-threading, the overhead of testing was 0.005493 seconds.\n",
            "You can set `force_col_wise=true` to remove the overhead.\n",
            "[LightGBM] [Info] Total Bins 29744\n",
            "[LightGBM] [Info] Number of data points in the train set: 3425, number of used features: 171\n",
            "[LightGBM] [Info] Start training from score 75.936350\n",
            "[LightGBM] [Warning] num_leaves is set=31, max_leaves=5 will be ignored. Current value: num_leaves=31\n",
            "[LightGBM] [Warning] num_leaves is set=31, max_leaves=1 will be ignored. Current value: num_leaves=31\n",
            "[LightGBM] [Warning] Accuracy may be bad since you didn't explicitly set num_leaves OR 2^max_depth > num_leaves. (num_leaves=31).\n",
            "[LightGBM] [Warning] num_leaves is set=31, max_leaves=1 will be ignored. Current value: num_leaves=31\n",
            "[LightGBM] [Warning] Accuracy may be bad since you didn't explicitly set num_leaves OR 2^max_depth > num_leaves. (num_leaves=31).\n",
            "[LightGBM] [Warning] Auto-choosing col-wise multi-threading, the overhead of testing was 0.005394 seconds.\n",
            "You can set `force_col_wise=true` to remove the overhead.\n",
            "[LightGBM] [Info] Total Bins 29744\n",
            "[LightGBM] [Info] Number of data points in the train set: 3425, number of used features: 171\n",
            "[LightGBM] [Info] Start training from score 75.936350\n",
            "[LightGBM] [Warning] No further splits with positive gain, best gain: -inf\n",
            "[LightGBM] [Warning] No further splits with positive gain, best gain: -inf\n",
            "[LightGBM] [Warning] No further splits with positive gain, best gain: -inf\n",
            "[LightGBM] [Warning] No further splits with positive gain, best gain: -inf\n",
            "[LightGBM] [Warning] num_leaves is set=31, max_leaves=1 will be ignored. Current value: num_leaves=31\n",
            "[LightGBM] [Warning] Accuracy may be bad since you didn't explicitly set num_leaves OR 2^max_depth > num_leaves. (num_leaves=31).\n",
            "[LightGBM] [Warning] num_leaves is set=31, max_leaves=3 will be ignored. Current value: num_leaves=31\n",
            "[LightGBM] [Warning] Accuracy may be bad since you didn't explicitly set num_leaves OR 2^max_depth > num_leaves. (num_leaves=31).\n",
            "[LightGBM] [Warning] num_leaves is set=31, max_leaves=3 will be ignored. Current value: num_leaves=31\n",
            "[LightGBM] [Warning] Accuracy may be bad since you didn't explicitly set num_leaves OR 2^max_depth > num_leaves. (num_leaves=31).\n",
            "[LightGBM] [Warning] Auto-choosing col-wise multi-threading, the overhead of testing was 0.006755 seconds.\n",
            "You can set `force_col_wise=true` to remove the overhead.\n",
            "[LightGBM] [Info] Total Bins 29744\n",
            "[LightGBM] [Info] Number of data points in the train set: 3425, number of used features: 171\n",
            "[LightGBM] [Info] Start training from score 75.936350\n",
            "[LightGBM] [Warning] No further splits with positive gain, best gain: -inf\n",
            "[LightGBM] [Warning] No further splits with positive gain, best gain: -inf\n",
            "[LightGBM] [Warning] No further splits with positive gain, best gain: -inf\n",
            "[LightGBM] [Warning] No further splits with positive gain, best gain: -inf\n",
            "[LightGBM] [Warning] num_leaves is set=31, max_leaves=3 will be ignored. Current value: num_leaves=31\n",
            "[LightGBM] [Warning] Accuracy may be bad since you didn't explicitly set num_leaves OR 2^max_depth > num_leaves. (num_leaves=31).\n",
            "[LightGBM] [Warning] num_leaves is set=31, max_leaves=5 will be ignored. Current value: num_leaves=31\n",
            "[LightGBM] [Warning] Accuracy may be bad since you didn't explicitly set num_leaves OR 2^max_depth > num_leaves. (num_leaves=31).\n",
            "[LightGBM] [Warning] num_leaves is set=31, max_leaves=5 will be ignored. Current value: num_leaves=31\n",
            "[LightGBM] [Warning] Accuracy may be bad since you didn't explicitly set num_leaves OR 2^max_depth > num_leaves. (num_leaves=31).\n",
            "[LightGBM] [Warning] Auto-choosing col-wise multi-threading, the overhead of testing was 0.005400 seconds.\n",
            "You can set `force_col_wise=true` to remove the overhead.\n",
            "[LightGBM] [Info] Total Bins 29744\n",
            "[LightGBM] [Info] Number of data points in the train set: 3425, number of used features: 171\n",
            "[LightGBM] [Info] Start training from score 75.936350\n"
          ]
        },
        {
          "output_type": "stream",
          "name": "stderr",
          "text": [
            "100%|██████████| 3/3 [00:02<00:00,  1.28it/s]"
          ]
        },
        {
          "output_type": "stream",
          "name": "stdout",
          "text": [
            "[LightGBM] [Warning] No further splits with positive gain, best gain: -inf\n",
            "[LightGBM] [Warning] No further splits with positive gain, best gain: -inf\n",
            "[LightGBM] [Warning] No further splits with positive gain, best gain: -inf\n",
            "[LightGBM] [Warning] No further splits with positive gain, best gain: -inf\n",
            "[LightGBM] [Warning] num_leaves is set=31, max_leaves=5 will be ignored. Current value: num_leaves=31\n",
            "[LightGBM] [Warning] Accuracy may be bad since you didn't explicitly set num_leaves OR 2^max_depth > num_leaves. (num_leaves=31).\n",
            "Лучшее количество деревьев: 5\n",
            "Лучшая глубина деревьев: 5\n",
            "Лучшее количество терминальных узлов: 5\n",
            "Лучший квадратный корень среднеквадратичной ошибки: 43.52569918600835\n",
            "CPU times: user 2.34 s, sys: 33 ms, total: 2.37 s\n",
            "Wall time: 2.35 s\n"
          ]
        },
        {
          "output_type": "stream",
          "name": "stderr",
          "text": [
            "\n"
          ]
        }
      ],
      "source": [
        "%%time\n",
        "\n",
        "best_rmse = 1000000\n",
        "n_estimators = 0\n",
        "max_depth = 0\n",
        "max_leaves = 0\n",
        "\n",
        "for n_estimators in tqdm(range(1, 7, 2)):\n",
        "    for max_depth in range(1, 7, 2):\n",
        "        for max_leaves in range(1, 7, 2):\n",
        "            model_lgbm = LGBMRegressor(n_estimators=n_estimators, max_depth=max_depth, max_leaves=max_leaves)\n",
        "            model_lgbm.fit(train_features, train_target)\n",
        "            predictions = model_lgbm.predict(valid_features)\n",
        "            rmse = sqrt(mean_squared_error(valid_target, predictions))\n",
        "    if rmse < best_rmse:\n",
        "        best_rmse = rmse\n",
        "        best_n_estimators = n_estimators\n",
        "        best_max_depth = max_depth\n",
        "        best_max_leaves = max_leaves\n",
        "\n",
        "print('Лучшее количество деревьев:', best_n_estimators)\n",
        "print('Лучшая глубина деревьев:', best_max_depth)\n",
        "print('Лучшее количество терминальных узлов:', best_max_leaves)\n",
        "print('Лучший квадратный корень среднеквадратичной ошибки:', best_rmse)"
      ]
    },
    {
      "cell_type": "code",
      "execution_count": null,
      "metadata": {
        "colab": {
          "base_uri": "https://localhost:8080/",
          "height": 300
        },
        "id": "8bUtcZZZSkDo",
        "outputId": "658994f1-5181-4315-d2ca-1ffdefa4d431"
      },
      "outputs": [
        {
          "output_type": "stream",
          "name": "stdout",
          "text": [
            "[LightGBM] [Warning] num_leaves is set=31, max_leaves=5 will be ignored. Current value: num_leaves=31\n",
            "[LightGBM] [Warning] Accuracy may be bad since you didn't explicitly set num_leaves OR 2^max_depth > num_leaves. (num_leaves=31).\n",
            "[LightGBM] [Warning] num_leaves is set=31, max_leaves=5 will be ignored. Current value: num_leaves=31\n",
            "[LightGBM] [Warning] Accuracy may be bad since you didn't explicitly set num_leaves OR 2^max_depth > num_leaves. (num_leaves=31).\n",
            "[LightGBM] [Warning] Auto-choosing col-wise multi-threading, the overhead of testing was 0.005349 seconds.\n",
            "You can set `force_col_wise=true` to remove the overhead.\n",
            "[LightGBM] [Info] Total Bins 29744\n",
            "[LightGBM] [Info] Number of data points in the train set: 3425, number of used features: 171\n",
            "[LightGBM] [Info] Start training from score 75.936350\n",
            "[LightGBM] [Warning] No further splits with positive gain, best gain: -inf\n",
            "[LightGBM] [Warning] No further splits with positive gain, best gain: -inf\n",
            "[LightGBM] [Warning] No further splits with positive gain, best gain: -inf\n",
            "[LightGBM] [Warning] No further splits with positive gain, best gain: -inf\n"
          ]
        },
        {
          "output_type": "execute_result",
          "data": {
            "text/plain": [
              "LGBMRegressor(max_depth=5, max_leaves=5, n_estimators=5)"
            ],
            "text/html": [
              "<style>#sk-container-id-1 {color: black;background-color: white;}#sk-container-id-1 pre{padding: 0;}#sk-container-id-1 div.sk-toggleable {background-color: white;}#sk-container-id-1 label.sk-toggleable__label {cursor: pointer;display: block;width: 100%;margin-bottom: 0;padding: 0.3em;box-sizing: border-box;text-align: center;}#sk-container-id-1 label.sk-toggleable__label-arrow:before {content: \"▸\";float: left;margin-right: 0.25em;color: #696969;}#sk-container-id-1 label.sk-toggleable__label-arrow:hover:before {color: black;}#sk-container-id-1 div.sk-estimator:hover label.sk-toggleable__label-arrow:before {color: black;}#sk-container-id-1 div.sk-toggleable__content {max-height: 0;max-width: 0;overflow: hidden;text-align: left;background-color: #f0f8ff;}#sk-container-id-1 div.sk-toggleable__content pre {margin: 0.2em;color: black;border-radius: 0.25em;background-color: #f0f8ff;}#sk-container-id-1 input.sk-toggleable__control:checked~div.sk-toggleable__content {max-height: 200px;max-width: 100%;overflow: auto;}#sk-container-id-1 input.sk-toggleable__control:checked~label.sk-toggleable__label-arrow:before {content: \"▾\";}#sk-container-id-1 div.sk-estimator input.sk-toggleable__control:checked~label.sk-toggleable__label {background-color: #d4ebff;}#sk-container-id-1 div.sk-label input.sk-toggleable__control:checked~label.sk-toggleable__label {background-color: #d4ebff;}#sk-container-id-1 input.sk-hidden--visually {border: 0;clip: rect(1px 1px 1px 1px);clip: rect(1px, 1px, 1px, 1px);height: 1px;margin: -1px;overflow: hidden;padding: 0;position: absolute;width: 1px;}#sk-container-id-1 div.sk-estimator {font-family: monospace;background-color: #f0f8ff;border: 1px dotted black;border-radius: 0.25em;box-sizing: border-box;margin-bottom: 0.5em;}#sk-container-id-1 div.sk-estimator:hover {background-color: #d4ebff;}#sk-container-id-1 div.sk-parallel-item::after {content: \"\";width: 100%;border-bottom: 1px solid gray;flex-grow: 1;}#sk-container-id-1 div.sk-label:hover label.sk-toggleable__label {background-color: #d4ebff;}#sk-container-id-1 div.sk-serial::before {content: \"\";position: absolute;border-left: 1px solid gray;box-sizing: border-box;top: 0;bottom: 0;left: 50%;z-index: 0;}#sk-container-id-1 div.sk-serial {display: flex;flex-direction: column;align-items: center;background-color: white;padding-right: 0.2em;padding-left: 0.2em;position: relative;}#sk-container-id-1 div.sk-item {position: relative;z-index: 1;}#sk-container-id-1 div.sk-parallel {display: flex;align-items: stretch;justify-content: center;background-color: white;position: relative;}#sk-container-id-1 div.sk-item::before, #sk-container-id-1 div.sk-parallel-item::before {content: \"\";position: absolute;border-left: 1px solid gray;box-sizing: border-box;top: 0;bottom: 0;left: 50%;z-index: -1;}#sk-container-id-1 div.sk-parallel-item {display: flex;flex-direction: column;z-index: 1;position: relative;background-color: white;}#sk-container-id-1 div.sk-parallel-item:first-child::after {align-self: flex-end;width: 50%;}#sk-container-id-1 div.sk-parallel-item:last-child::after {align-self: flex-start;width: 50%;}#sk-container-id-1 div.sk-parallel-item:only-child::after {width: 0;}#sk-container-id-1 div.sk-dashed-wrapped {border: 1px dashed gray;margin: 0 0.4em 0.5em 0.4em;box-sizing: border-box;padding-bottom: 0.4em;background-color: white;}#sk-container-id-1 div.sk-label label {font-family: monospace;font-weight: bold;display: inline-block;line-height: 1.2em;}#sk-container-id-1 div.sk-label-container {text-align: center;}#sk-container-id-1 div.sk-container {/* jupyter's `normalize.less` sets `[hidden] { display: none; }` but bootstrap.min.css set `[hidden] { display: none !important; }` so we also need the `!important` here to be able to override the default hidden behavior on the sphinx rendered scikit-learn.org. See: https://github.com/scikit-learn/scikit-learn/issues/21755 */display: inline-block !important;position: relative;}#sk-container-id-1 div.sk-text-repr-fallback {display: none;}</style><div id=\"sk-container-id-1\" class=\"sk-top-container\"><div class=\"sk-text-repr-fallback\"><pre>LGBMRegressor(max_depth=5, max_leaves=5, n_estimators=5)</pre><b>In a Jupyter environment, please rerun this cell to show the HTML representation or trust the notebook. <br />On GitHub, the HTML representation is unable to render, please try loading this page with nbviewer.org.</b></div><div class=\"sk-container\" hidden><div class=\"sk-item\"><div class=\"sk-estimator sk-toggleable\"><input class=\"sk-toggleable__control sk-hidden--visually\" id=\"sk-estimator-id-1\" type=\"checkbox\" checked><label for=\"sk-estimator-id-1\" class=\"sk-toggleable__label sk-toggleable__label-arrow\">LGBMRegressor</label><div class=\"sk-toggleable__content\"><pre>LGBMRegressor(max_depth=5, max_leaves=5, n_estimators=5)</pre></div></div></div></div></div>"
            ]
          },
          "metadata": {},
          "execution_count": 26
        }
      ],
      "source": [
        "best_model_lightgbm = LGBMRegressor(n_estimators=5, max_depth=5, max_leaves=5)\n",
        "best_model_lightgbm.fit(train_features, train_target)"
      ]
    },
    {
      "cell_type": "markdown",
      "metadata": {
        "id": "hyRDy5I4SkDp"
      },
      "source": [
        " ### LinearRegression"
      ]
    },
    {
      "cell_type": "code",
      "execution_count": null,
      "metadata": {
        "colab": {
          "base_uri": "https://localhost:8080/"
        },
        "id": "p_zsEGbcSkDp",
        "outputId": "47fb8d22-e2c9-4b1a-d331-5dea73092b76"
      },
      "outputs": [
        {
          "output_type": "stream",
          "name": "stdout",
          "text": [
            "RMSE 28.117487441009793\n",
            "CPU times: user 41 ms, sys: 17 ms, total: 58 ms\n",
            "Wall time: 88.4 ms\n"
          ]
        }
      ],
      "source": [
        "%%time\n",
        "\n",
        "model_lr = LinearRegression()\n",
        "model_lr.fit(train_features, train_target)\n",
        "predictions = model_lr.predict(valid_features)\n",
        "print('RMSE', sqrt(mean_squared_error(valid_target, predictions)))"
      ]
    },
    {
      "cell_type": "markdown",
      "metadata": {
        "id": "v8DwHeEYSkDp"
      },
      "source": [
        "### Небольшой вывод по третьему пункту"
      ]
    },
    {
      "cell_type": "markdown",
      "metadata": {
        "id": "Bh1I2zThSkDq"
      },
      "source": [
        "Лучший результат получил у линейной регрессии, также самое быстро время выполнения. Буду в дальнейшем исполшьзовать именно эту модель."
      ]
    },
    {
      "cell_type": "markdown",
      "metadata": {
        "id": "Lq7BeAMwSkDq"
      },
      "source": [
        "## Тестирование"
      ]
    },
    {
      "cell_type": "code",
      "execution_count": null,
      "metadata": {
        "colab": {
          "base_uri": "https://localhost:8080/"
        },
        "id": "JmYEfNuASkDq",
        "outputId": "d5a98e6f-3be5-47df-eeca-dfccfcfda579"
      },
      "outputs": [
        {
          "output_type": "stream",
          "name": "stdout",
          "text": [
            "RMSE 34.81292827240772\n"
          ]
        }
      ],
      "source": [
        "test_predictions = model_lr.predict(test_features)\n",
        "print('RMSE', sqrt(mean_squared_error(test_target, test_predictions)))"
      ]
    },
    {
      "cell_type": "markdown",
      "metadata": {
        "id": "_dfrrDVVSkDs"
      },
      "source": [
        "## Вывод ко всему проекту"
      ]
    },
    {
      "cell_type": "markdown",
      "metadata": {
        "id": "4_J2VwPjSkDs"
      },
      "source": [
        "В этом проекте я изучил данные, обработал пропуски и дубликаты, аномальных значений не выявил. Заметил, что прослеживается тренд на увеличение количество поездок и рост количества поездок от утра к вечеру каждый день. Получил отличное значение метрики RMSE на тестовой выборке, которое более, чем удовлетворяет заказчика."
      ]
    }
  ],
  "metadata": {
    "ExecuteTimeLog": [
      {
        "duration": 369,
        "start_time": "2023-06-24T15:16:56.864Z"
      },
      {
        "duration": 89,
        "start_time": "2023-06-24T15:17:51.557Z"
      },
      {
        "duration": 135,
        "start_time": "2023-06-24T15:17:56.043Z"
      },
      {
        "duration": 59,
        "start_time": "2023-06-24T15:18:41.526Z"
      },
      {
        "duration": 55,
        "start_time": "2023-06-24T15:18:55.717Z"
      },
      {
        "duration": 7,
        "start_time": "2023-06-24T15:19:55.523Z"
      },
      {
        "duration": 64,
        "start_time": "2023-06-24T15:20:37.144Z"
      },
      {
        "duration": 11,
        "start_time": "2023-06-24T15:22:14.046Z"
      },
      {
        "duration": 13,
        "start_time": "2023-06-24T15:28:13.007Z"
      },
      {
        "duration": 10,
        "start_time": "2023-06-24T15:28:32.432Z"
      },
      {
        "duration": 9,
        "start_time": "2023-06-24T15:28:41.469Z"
      },
      {
        "duration": 8,
        "start_time": "2023-06-24T15:36:14.440Z"
      },
      {
        "duration": 87,
        "start_time": "2023-06-24T15:44:06.160Z"
      },
      {
        "duration": 53,
        "start_time": "2023-06-24T15:44:21.810Z"
      },
      {
        "duration": 1413,
        "start_time": "2023-06-24T15:48:09.948Z"
      },
      {
        "duration": 45,
        "start_time": "2023-06-24T15:48:26.899Z"
      },
      {
        "duration": 48,
        "start_time": "2023-06-24T15:48:27.538Z"
      },
      {
        "duration": 3,
        "start_time": "2023-06-24T15:51:24.149Z"
      },
      {
        "duration": 8,
        "start_time": "2023-06-24T15:51:50.430Z"
      },
      {
        "duration": 3,
        "start_time": "2023-06-24T15:52:09.666Z"
      },
      {
        "duration": 883,
        "start_time": "2023-06-24T15:54:01.247Z"
      },
      {
        "duration": 6,
        "start_time": "2023-06-24T16:00:10.914Z"
      },
      {
        "duration": 455,
        "start_time": "2023-06-24T16:00:18.900Z"
      },
      {
        "duration": 461,
        "start_time": "2023-06-24T16:00:34.244Z"
      },
      {
        "duration": 504,
        "start_time": "2023-06-24T16:00:39.502Z"
      },
      {
        "duration": 194,
        "start_time": "2023-06-24T16:00:49.731Z"
      },
      {
        "duration": 116,
        "start_time": "2023-06-24T16:00:58.534Z"
      },
      {
        "duration": 167,
        "start_time": "2023-06-24T16:01:06.759Z"
      },
      {
        "duration": 171,
        "start_time": "2023-06-24T16:01:18.547Z"
      },
      {
        "duration": 160,
        "start_time": "2023-06-24T16:01:42.856Z"
      },
      {
        "duration": 151,
        "start_time": "2023-06-24T16:01:56.223Z"
      },
      {
        "duration": 5,
        "start_time": "2023-06-24T16:01:57.290Z"
      },
      {
        "duration": 6,
        "start_time": "2023-06-24T16:01:58.833Z"
      },
      {
        "duration": 5,
        "start_time": "2023-06-24T16:02:08.413Z"
      },
      {
        "duration": 3,
        "start_time": "2023-06-24T16:03:23.213Z"
      },
      {
        "duration": 16,
        "start_time": "2023-06-24T16:03:33.300Z"
      },
      {
        "duration": 7,
        "start_time": "2023-06-24T16:03:37.211Z"
      },
      {
        "duration": 6,
        "start_time": "2023-06-24T16:03:41.709Z"
      },
      {
        "duration": 7,
        "start_time": "2023-06-24T16:03:42.008Z"
      },
      {
        "duration": 2,
        "start_time": "2023-06-24T16:03:51.639Z"
      },
      {
        "duration": 48,
        "start_time": "2023-06-24T16:03:51.952Z"
      },
      {
        "duration": 117,
        "start_time": "2023-06-24T16:03:52.500Z"
      },
      {
        "duration": 3,
        "start_time": "2023-06-24T16:03:53.200Z"
      },
      {
        "duration": 178,
        "start_time": "2023-06-24T16:03:53.632Z"
      },
      {
        "duration": 153,
        "start_time": "2023-06-24T16:04:14.810Z"
      },
      {
        "duration": 3,
        "start_time": "2023-06-24T16:04:16.120Z"
      },
      {
        "duration": 8,
        "start_time": "2023-06-24T16:04:19.673Z"
      },
      {
        "duration": 7,
        "start_time": "2023-06-24T16:04:24.351Z"
      },
      {
        "duration": 7,
        "start_time": "2023-06-24T16:04:27.921Z"
      },
      {
        "duration": 2,
        "start_time": "2023-06-24T16:04:34.800Z"
      },
      {
        "duration": 47,
        "start_time": "2023-06-24T16:04:35.151Z"
      },
      {
        "duration": 46,
        "start_time": "2023-06-24T16:04:35.409Z"
      },
      {
        "duration": 4,
        "start_time": "2023-06-24T16:04:35.712Z"
      },
      {
        "duration": 175,
        "start_time": "2023-06-24T16:04:36.004Z"
      },
      {
        "duration": 3,
        "start_time": "2023-06-24T16:04:36.306Z"
      },
      {
        "duration": 9,
        "start_time": "2023-06-24T16:04:37.117Z"
      },
      {
        "duration": 8,
        "start_time": "2023-06-24T16:04:38.502Z"
      },
      {
        "duration": 7,
        "start_time": "2023-06-24T16:06:00.217Z"
      },
      {
        "duration": 8,
        "start_time": "2023-06-24T16:06:01.601Z"
      },
      {
        "duration": 338,
        "start_time": "2023-06-24T16:06:51.148Z"
      },
      {
        "duration": 50,
        "start_time": "2023-06-24T16:06:51.515Z"
      },
      {
        "duration": 47,
        "start_time": "2023-06-24T16:06:51.900Z"
      },
      {
        "duration": 3,
        "start_time": "2023-06-24T16:06:52.329Z"
      },
      {
        "duration": 408,
        "start_time": "2023-06-24T16:06:52.726Z"
      },
      {
        "duration": 3,
        "start_time": "2023-06-24T16:06:53.248Z"
      },
      {
        "duration": 75,
        "start_time": "2023-06-24T16:06:57.301Z"
      },
      {
        "duration": 7,
        "start_time": "2023-06-24T16:07:00.738Z"
      },
      {
        "duration": 7,
        "start_time": "2023-06-24T16:10:58.660Z"
      },
      {
        "duration": 7,
        "start_time": "2023-06-24T16:11:00.262Z"
      },
      {
        "duration": 2,
        "start_time": "2023-06-24T16:11:05.361Z"
      },
      {
        "duration": 45,
        "start_time": "2023-06-24T16:11:05.642Z"
      },
      {
        "duration": 50,
        "start_time": "2023-06-24T16:11:06.062Z"
      },
      {
        "duration": 5,
        "start_time": "2023-06-24T16:11:06.607Z"
      },
      {
        "duration": 153,
        "start_time": "2023-06-24T16:11:07.041Z"
      },
      {
        "duration": 5,
        "start_time": "2023-06-24T16:11:07.942Z"
      },
      {
        "duration": 5,
        "start_time": "2023-06-24T16:11:10.588Z"
      },
      {
        "duration": 3,
        "start_time": "2023-06-24T16:11:58.853Z"
      },
      {
        "duration": 45,
        "start_time": "2023-06-24T16:11:59.385Z"
      },
      {
        "duration": 44,
        "start_time": "2023-06-24T16:11:59.900Z"
      },
      {
        "duration": 3,
        "start_time": "2023-06-24T16:11:59.946Z"
      },
      {
        "duration": 179,
        "start_time": "2023-06-24T16:11:59.950Z"
      },
      {
        "duration": 5,
        "start_time": "2023-06-24T16:12:00.131Z"
      },
      {
        "duration": 5,
        "start_time": "2023-06-24T16:12:00.764Z"
      },
      {
        "duration": 221,
        "start_time": "2023-06-24T16:16:25.109Z"
      },
      {
        "duration": 5,
        "start_time": "2023-06-24T16:16:32.584Z"
      },
      {
        "duration": 4,
        "start_time": "2023-06-24T16:16:33.716Z"
      },
      {
        "duration": 162,
        "start_time": "2023-06-24T16:17:44.510Z"
      },
      {
        "duration": 379,
        "start_time": "2023-06-24T16:20:18.838Z"
      },
      {
        "duration": 3,
        "start_time": "2023-06-24T16:22:37.215Z"
      },
      {
        "duration": 40,
        "start_time": "2023-06-24T16:23:57.218Z"
      },
      {
        "duration": 2,
        "start_time": "2023-06-24T16:24:39.037Z"
      },
      {
        "duration": 47,
        "start_time": "2023-06-24T16:24:39.143Z"
      },
      {
        "duration": 57,
        "start_time": "2023-06-24T16:24:39.498Z"
      },
      {
        "duration": 4,
        "start_time": "2023-06-24T16:24:39.822Z"
      },
      {
        "duration": 165,
        "start_time": "2023-06-24T16:24:40.428Z"
      },
      {
        "duration": 7,
        "start_time": "2023-06-24T16:24:41.712Z"
      },
      {
        "duration": 6,
        "start_time": "2023-06-24T16:24:42.921Z"
      },
      {
        "duration": 13,
        "start_time": "2023-06-24T16:24:45.516Z"
      },
      {
        "duration": 4,
        "start_time": "2023-06-24T16:25:09.516Z"
      },
      {
        "duration": 377,
        "start_time": "2023-06-24T16:25:10.466Z"
      },
      {
        "duration": 10,
        "start_time": "2023-06-24T16:26:10.306Z"
      },
      {
        "duration": 9,
        "start_time": "2023-06-24T16:26:20.746Z"
      },
      {
        "duration": 2,
        "start_time": "2023-06-24T16:26:26.649Z"
      },
      {
        "duration": 43,
        "start_time": "2023-06-24T16:26:26.933Z"
      },
      {
        "duration": 43,
        "start_time": "2023-06-24T16:26:27.050Z"
      },
      {
        "duration": 4,
        "start_time": "2023-06-24T16:26:27.543Z"
      },
      {
        "duration": 154,
        "start_time": "2023-06-24T16:26:27.625Z"
      },
      {
        "duration": 5,
        "start_time": "2023-06-24T16:26:41.122Z"
      },
      {
        "duration": 5,
        "start_time": "2023-06-24T16:26:42.130Z"
      },
      {
        "duration": 5,
        "start_time": "2023-06-24T16:26:44.163Z"
      },
      {
        "duration": 10,
        "start_time": "2023-06-24T16:26:46.742Z"
      },
      {
        "duration": 7,
        "start_time": "2023-06-24T16:26:56.497Z"
      },
      {
        "duration": 5,
        "start_time": "2023-06-24T16:49:57.412Z"
      },
      {
        "duration": 378,
        "start_time": "2023-06-24T16:50:12.808Z"
      },
      {
        "duration": 4,
        "start_time": "2023-06-24T16:51:30.644Z"
      },
      {
        "duration": 456,
        "start_time": "2023-06-24T16:51:31.216Z"
      },
      {
        "duration": 4,
        "start_time": "2023-06-24T16:51:52.720Z"
      },
      {
        "duration": 328,
        "start_time": "2023-06-24T16:51:53.334Z"
      },
      {
        "duration": 4,
        "start_time": "2023-06-24T16:52:11.279Z"
      },
      {
        "duration": 378,
        "start_time": "2023-06-24T16:52:11.800Z"
      },
      {
        "duration": 4,
        "start_time": "2023-06-24T16:52:23.217Z"
      },
      {
        "duration": 346,
        "start_time": "2023-06-24T16:52:23.551Z"
      },
      {
        "duration": 3,
        "start_time": "2023-06-24T16:52:38.572Z"
      },
      {
        "duration": 1082,
        "start_time": "2023-06-24T16:53:03.175Z"
      },
      {
        "duration": 49,
        "start_time": "2023-06-24T16:53:04.259Z"
      },
      {
        "duration": 70,
        "start_time": "2023-06-24T16:53:04.322Z"
      },
      {
        "duration": 5,
        "start_time": "2023-06-24T16:53:04.621Z"
      },
      {
        "duration": 197,
        "start_time": "2023-06-24T16:53:04.928Z"
      },
      {
        "duration": 5,
        "start_time": "2023-06-24T16:53:05.766Z"
      },
      {
        "duration": 6,
        "start_time": "2023-06-24T16:53:06.539Z"
      },
      {
        "duration": 5,
        "start_time": "2023-06-24T16:53:07.737Z"
      },
      {
        "duration": 7,
        "start_time": "2023-06-24T16:53:08.380Z"
      },
      {
        "duration": 3,
        "start_time": "2023-06-24T16:53:08.723Z"
      },
      {
        "duration": 416,
        "start_time": "2023-06-24T16:53:09.443Z"
      },
      {
        "duration": 4,
        "start_time": "2023-06-24T16:54:52.216Z"
      },
      {
        "duration": 371,
        "start_time": "2023-06-24T16:54:52.512Z"
      },
      {
        "duration": 7,
        "start_time": "2023-06-24T16:55:34.382Z"
      },
      {
        "duration": 14,
        "start_time": "2023-06-24T16:56:03.926Z"
      },
      {
        "duration": 4,
        "start_time": "2023-06-24T16:56:11.757Z"
      },
      {
        "duration": 9,
        "start_time": "2023-06-24T16:56:20.026Z"
      },
      {
        "duration": 8,
        "start_time": "2023-06-24T16:56:42.216Z"
      },
      {
        "duration": 17,
        "start_time": "2023-06-24T16:56:42.714Z"
      },
      {
        "duration": 1018,
        "start_time": "2023-06-24T16:57:02.539Z"
      },
      {
        "duration": 53,
        "start_time": "2023-06-24T16:57:03.559Z"
      },
      {
        "duration": 54,
        "start_time": "2023-06-24T16:57:03.615Z"
      },
      {
        "duration": 4,
        "start_time": "2023-06-24T16:57:03.670Z"
      },
      {
        "duration": 186,
        "start_time": "2023-06-24T16:57:03.934Z"
      },
      {
        "duration": 5,
        "start_time": "2023-06-24T16:57:04.881Z"
      },
      {
        "duration": 6,
        "start_time": "2023-06-24T16:57:05.800Z"
      },
      {
        "duration": 10,
        "start_time": "2023-06-24T16:57:07.483Z"
      },
      {
        "duration": 113,
        "start_time": "2023-06-24T16:57:08.184Z"
      },
      {
        "duration": 4,
        "start_time": "2023-06-24T16:57:21.088Z"
      },
      {
        "duration": 8,
        "start_time": "2023-06-24T16:57:21.413Z"
      },
      {
        "duration": 351,
        "start_time": "2023-06-24T16:57:27.334Z"
      },
      {
        "duration": 4,
        "start_time": "2023-06-24T16:57:42.438Z"
      },
      {
        "duration": 430,
        "start_time": "2023-06-24T16:57:43.575Z"
      },
      {
        "duration": 8,
        "start_time": "2023-06-24T16:58:01.582Z"
      },
      {
        "duration": 12,
        "start_time": "2023-06-24T16:58:04.898Z"
      },
      {
        "duration": 10,
        "start_time": "2023-06-24T16:58:10.416Z"
      },
      {
        "duration": 212,
        "start_time": "2023-06-24T16:58:19.964Z"
      },
      {
        "duration": 12,
        "start_time": "2023-06-24T16:59:00.642Z"
      },
      {
        "duration": 5,
        "start_time": "2023-06-24T16:59:27.000Z"
      },
      {
        "duration": 8,
        "start_time": "2023-06-24T16:59:27.628Z"
      },
      {
        "duration": 3,
        "start_time": "2023-06-24T16:59:39.984Z"
      },
      {
        "duration": 9,
        "start_time": "2023-06-24T16:59:40.580Z"
      },
      {
        "duration": 438,
        "start_time": "2023-06-24T16:59:53.915Z"
      },
      {
        "duration": 6,
        "start_time": "2023-06-24T17:00:02.074Z"
      },
      {
        "duration": 6,
        "start_time": "2023-06-24T17:00:03.638Z"
      },
      {
        "duration": 4,
        "start_time": "2023-06-24T17:00:04.514Z"
      },
      {
        "duration": 390,
        "start_time": "2023-06-24T17:00:05.192Z"
      },
      {
        "duration": 4,
        "start_time": "2023-06-24T17:06:41.138Z"
      },
      {
        "duration": 709,
        "start_time": "2023-06-24T17:06:42.933Z"
      },
      {
        "duration": 9,
        "start_time": "2023-06-24T17:10:54.111Z"
      },
      {
        "duration": 14,
        "start_time": "2023-06-24T17:11:26.812Z"
      },
      {
        "duration": 27,
        "start_time": "2023-06-24T17:11:43.895Z"
      },
      {
        "duration": 1022,
        "start_time": "2023-06-24T17:12:48.438Z"
      },
      {
        "duration": 56,
        "start_time": "2023-06-24T17:12:49.462Z"
      },
      {
        "duration": 46,
        "start_time": "2023-06-24T17:12:49.519Z"
      },
      {
        "duration": 3,
        "start_time": "2023-06-24T17:12:49.567Z"
      },
      {
        "duration": 172,
        "start_time": "2023-06-24T17:12:49.776Z"
      },
      {
        "duration": 7,
        "start_time": "2023-06-24T17:12:50.711Z"
      },
      {
        "duration": 6,
        "start_time": "2023-06-24T17:12:51.632Z"
      },
      {
        "duration": 6,
        "start_time": "2023-06-24T17:12:53.311Z"
      },
      {
        "duration": 6,
        "start_time": "2023-06-24T17:12:54.027Z"
      },
      {
        "duration": 4,
        "start_time": "2023-06-24T17:12:56.411Z"
      },
      {
        "duration": 700,
        "start_time": "2023-06-24T17:12:57.138Z"
      },
      {
        "duration": 102,
        "start_time": "2023-06-24T17:12:57.839Z"
      },
      {
        "duration": 9,
        "start_time": "2023-06-24T17:14:32.321Z"
      },
      {
        "duration": 12,
        "start_time": "2023-06-24T17:14:42.916Z"
      },
      {
        "duration": 4,
        "start_time": "2023-06-24T17:14:43.262Z"
      },
      {
        "duration": 8,
        "start_time": "2023-06-24T17:17:03.019Z"
      },
      {
        "duration": 1059,
        "start_time": "2023-06-24T17:17:20.745Z"
      },
      {
        "duration": 53,
        "start_time": "2023-06-24T17:17:21.809Z"
      },
      {
        "duration": 53,
        "start_time": "2023-06-24T17:17:21.863Z"
      },
      {
        "duration": 4,
        "start_time": "2023-06-24T17:17:21.918Z"
      },
      {
        "duration": 186,
        "start_time": "2023-06-24T17:17:22.015Z"
      },
      {
        "duration": 6,
        "start_time": "2023-06-24T17:17:22.868Z"
      },
      {
        "duration": 6,
        "start_time": "2023-06-24T17:17:23.667Z"
      },
      {
        "duration": 8,
        "start_time": "2023-06-24T17:17:24.928Z"
      },
      {
        "duration": 120,
        "start_time": "2023-06-24T17:17:25.532Z"
      },
      {
        "duration": 5,
        "start_time": "2023-06-24T17:17:26.567Z"
      },
      {
        "duration": 47,
        "start_time": "2023-06-24T17:20:11.424Z"
      },
      {
        "duration": 2150,
        "start_time": "2023-06-24T17:20:11.772Z"
      },
      {
        "duration": 3,
        "start_time": "2023-06-24T17:20:16.316Z"
      },
      {
        "duration": 1039,
        "start_time": "2023-06-24T17:21:01.531Z"
      },
      {
        "duration": 50,
        "start_time": "2023-06-24T17:21:02.616Z"
      },
      {
        "duration": 96,
        "start_time": "2023-06-24T17:21:03.271Z"
      },
      {
        "duration": 46,
        "start_time": "2023-06-24T17:22:07.623Z"
      },
      {
        "duration": 48,
        "start_time": "2023-06-24T17:22:08.446Z"
      },
      {
        "duration": 4,
        "start_time": "2023-06-24T17:22:18.320Z"
      },
      {
        "duration": 276,
        "start_time": "2023-06-24T17:22:18.643Z"
      },
      {
        "duration": 6,
        "start_time": "2023-06-24T17:22:22.928Z"
      },
      {
        "duration": 5,
        "start_time": "2023-06-24T17:22:23.628Z"
      },
      {
        "duration": 8,
        "start_time": "2023-06-24T17:22:24.661Z"
      },
      {
        "duration": 14,
        "start_time": "2023-06-24T17:22:25.058Z"
      },
      {
        "duration": 4,
        "start_time": "2023-06-24T17:22:25.261Z"
      },
      {
        "duration": 710,
        "start_time": "2023-06-24T17:22:25.436Z"
      },
      {
        "duration": 16,
        "start_time": "2023-06-24T18:00:26.061Z"
      },
      {
        "duration": 6,
        "start_time": "2023-06-24T18:00:31.692Z"
      },
      {
        "duration": 5,
        "start_time": "2023-06-24T18:00:32.534Z"
      },
      {
        "duration": 665,
        "start_time": "2023-06-24T18:00:32.950Z"
      },
      {
        "duration": 5,
        "start_time": "2023-06-24T18:00:47.942Z"
      },
      {
        "duration": 9,
        "start_time": "2023-06-24T18:00:57.489Z"
      },
      {
        "duration": 11,
        "start_time": "2023-06-24T18:01:37.520Z"
      },
      {
        "duration": 6,
        "start_time": "2023-06-24T18:03:16.915Z"
      },
      {
        "duration": 10,
        "start_time": "2023-06-24T18:04:01.041Z"
      },
      {
        "duration": 66,
        "start_time": "2023-06-24T18:04:02.794Z"
      },
      {
        "duration": 626,
        "start_time": "2023-06-24T18:04:04.687Z"
      },
      {
        "duration": 642,
        "start_time": "2023-06-24T18:04:20.389Z"
      },
      {
        "duration": 237,
        "start_time": "2023-06-24T18:36:08.814Z"
      },
      {
        "duration": 7,
        "start_time": "2023-06-24T18:36:18.365Z"
      },
      {
        "duration": 3,
        "start_time": "2023-06-24T18:36:38.936Z"
      },
      {
        "duration": 1827,
        "start_time": "2023-06-25T10:29:51.527Z"
      },
      {
        "duration": 154,
        "start_time": "2023-06-25T10:29:53.357Z"
      },
      {
        "duration": 63,
        "start_time": "2023-06-25T10:29:53.513Z"
      },
      {
        "duration": 5,
        "start_time": "2023-06-25T10:29:53.579Z"
      },
      {
        "duration": 273,
        "start_time": "2023-06-25T10:29:53.585Z"
      },
      {
        "duration": 7,
        "start_time": "2023-06-25T10:29:54.743Z"
      },
      {
        "duration": 6,
        "start_time": "2023-06-25T10:29:56.016Z"
      },
      {
        "duration": 7,
        "start_time": "2023-06-25T10:29:57.900Z"
      },
      {
        "duration": 7,
        "start_time": "2023-06-25T10:29:58.356Z"
      },
      {
        "duration": 12,
        "start_time": "2023-06-25T10:29:59.222Z"
      },
      {
        "duration": 4,
        "start_time": "2023-06-25T10:29:59.734Z"
      },
      {
        "duration": 807,
        "start_time": "2023-06-25T10:30:00.490Z"
      },
      {
        "duration": 880,
        "start_time": "2023-06-25T10:30:02.154Z"
      },
      {
        "duration": 2,
        "start_time": "2023-06-25T10:30:06.050Z"
      },
      {
        "duration": 4,
        "start_time": "2023-06-25T10:33:14.663Z"
      },
      {
        "duration": 3,
        "start_time": "2023-06-25T10:36:34.960Z"
      },
      {
        "duration": 4,
        "start_time": "2023-06-25T10:43:58.162Z"
      },
      {
        "duration": 4,
        "start_time": "2023-06-25T10:50:54.165Z"
      },
      {
        "duration": 3,
        "start_time": "2023-06-25T10:52:51.243Z"
      },
      {
        "duration": 10,
        "start_time": "2023-06-25T10:53:24.360Z"
      },
      {
        "duration": 12,
        "start_time": "2023-06-25T10:53:39.560Z"
      },
      {
        "duration": 6,
        "start_time": "2023-06-25T10:56:37.464Z"
      },
      {
        "duration": 4,
        "start_time": "2023-06-25T11:00:40.867Z"
      },
      {
        "duration": 4,
        "start_time": "2023-06-25T11:00:41.526Z"
      },
      {
        "duration": 7,
        "start_time": "2023-06-25T11:00:41.729Z"
      },
      {
        "duration": 13,
        "start_time": "2023-06-25T11:00:42.073Z"
      },
      {
        "duration": 8,
        "start_time": "2023-06-25T11:00:42.680Z"
      },
      {
        "duration": 9,
        "start_time": "2023-06-25T11:02:04.580Z"
      },
      {
        "duration": 11,
        "start_time": "2023-06-25T11:02:34.588Z"
      },
      {
        "duration": 119,
        "start_time": "2023-06-25T11:02:44.590Z"
      },
      {
        "duration": 13,
        "start_time": "2023-06-25T11:02:50.187Z"
      },
      {
        "duration": 53,
        "start_time": "2023-06-25T11:04:08.324Z"
      },
      {
        "duration": 17,
        "start_time": "2023-06-25T11:04:55.670Z"
      },
      {
        "duration": 123,
        "start_time": "2023-06-25T11:06:31.197Z"
      },
      {
        "duration": 4,
        "start_time": "2023-06-25T11:07:49.669Z"
      },
      {
        "duration": 14,
        "start_time": "2023-06-25T11:10:36.204Z"
      },
      {
        "duration": 119,
        "start_time": "2023-06-25T11:12:32.425Z"
      },
      {
        "duration": 139,
        "start_time": "2023-06-25T11:13:42.136Z"
      },
      {
        "duration": 2120,
        "start_time": "2023-06-25T11:13:51.811Z"
      },
      {
        "duration": 2001,
        "start_time": "2023-06-25T11:14:10.299Z"
      },
      {
        "duration": 128,
        "start_time": "2023-06-25T11:27:08.506Z"
      },
      {
        "duration": 211444,
        "start_time": "2023-06-25T11:27:38.436Z"
      },
      {
        "duration": 129,
        "start_time": "2023-06-25T11:31:37.303Z"
      },
      {
        "duration": 142,
        "start_time": "2023-06-25T11:33:46.032Z"
      },
      {
        "duration": 8,
        "start_time": "2023-06-25T11:34:18.518Z"
      },
      {
        "duration": 110,
        "start_time": "2023-06-25T11:38:11.110Z"
      },
      {
        "duration": 102,
        "start_time": "2023-06-25T11:38:23.456Z"
      },
      {
        "duration": 128,
        "start_time": "2023-06-25T11:38:29.778Z"
      },
      {
        "duration": 10,
        "start_time": "2023-06-25T11:38:35.516Z"
      },
      {
        "duration": 4,
        "start_time": "2023-06-25T11:39:00.830Z"
      },
      {
        "duration": 11,
        "start_time": "2023-06-25T11:39:25.132Z"
      },
      {
        "duration": 12,
        "start_time": "2023-06-25T11:39:31.942Z"
      },
      {
        "duration": 18,
        "start_time": "2023-06-25T11:40:19.626Z"
      },
      {
        "duration": 128,
        "start_time": "2023-06-25T11:46:03.679Z"
      },
      {
        "duration": 180,
        "start_time": "2023-06-25T11:46:10.099Z"
      },
      {
        "duration": 112,
        "start_time": "2023-06-25T11:46:14.662Z"
      },
      {
        "duration": 7,
        "start_time": "2023-06-25T11:46:17.567Z"
      },
      {
        "duration": 1039,
        "start_time": "2023-06-25T13:53:11.395Z"
      },
      {
        "duration": 2582,
        "start_time": "2023-06-25T13:53:16.719Z"
      },
      {
        "duration": 288,
        "start_time": "2023-06-25T13:53:19.303Z"
      },
      {
        "duration": 58,
        "start_time": "2023-06-25T13:53:19.594Z"
      },
      {
        "duration": 5,
        "start_time": "2023-06-25T13:53:19.654Z"
      },
      {
        "duration": 281,
        "start_time": "2023-06-25T13:53:19.660Z"
      },
      {
        "duration": 8,
        "start_time": "2023-06-25T13:53:19.943Z"
      },
      {
        "duration": 74,
        "start_time": "2023-06-25T13:53:19.972Z"
      },
      {
        "duration": 52,
        "start_time": "2023-06-25T13:53:20.049Z"
      },
      {
        "duration": 108,
        "start_time": "2023-06-25T13:53:20.103Z"
      },
      {
        "duration": 136,
        "start_time": "2023-06-25T13:53:20.213Z"
      },
      {
        "duration": 33,
        "start_time": "2023-06-25T13:53:20.351Z"
      },
      {
        "duration": 996,
        "start_time": "2023-06-25T13:53:20.386Z"
      },
      {
        "duration": 763,
        "start_time": "2023-06-25T13:53:21.384Z"
      },
      {
        "duration": 3,
        "start_time": "2023-06-25T13:53:22.149Z"
      },
      {
        "duration": 42,
        "start_time": "2023-06-25T13:53:22.154Z"
      },
      {
        "duration": 32,
        "start_time": "2023-06-25T13:53:22.198Z"
      },
      {
        "duration": 355,
        "start_time": "2023-06-25T13:53:22.232Z"
      },
      {
        "duration": 4,
        "start_time": "2023-06-25T13:56:17.065Z"
      },
      {
        "duration": 62,
        "start_time": "2023-06-25T13:56:17.071Z"
      },
      {
        "duration": 60,
        "start_time": "2023-06-25T13:56:17.135Z"
      },
      {
        "duration": 4,
        "start_time": "2023-06-25T13:56:17.197Z"
      },
      {
        "duration": 216,
        "start_time": "2023-06-25T13:56:17.203Z"
      },
      {
        "duration": 7,
        "start_time": "2023-06-25T13:56:17.421Z"
      },
      {
        "duration": 11,
        "start_time": "2023-06-25T13:56:17.429Z"
      },
      {
        "duration": 13,
        "start_time": "2023-06-25T13:56:17.442Z"
      },
      {
        "duration": 8,
        "start_time": "2023-06-25T13:56:17.472Z"
      },
      {
        "duration": 13,
        "start_time": "2023-06-25T13:56:17.482Z"
      },
      {
        "duration": 17,
        "start_time": "2023-06-25T13:56:17.498Z"
      },
      {
        "duration": 947,
        "start_time": "2023-06-25T13:56:17.517Z"
      },
      {
        "duration": 787,
        "start_time": "2023-06-25T13:56:18.466Z"
      },
      {
        "duration": 21,
        "start_time": "2023-06-25T13:56:19.255Z"
      },
      {
        "duration": 17,
        "start_time": "2023-06-25T13:56:19.279Z"
      },
      {
        "duration": 25,
        "start_time": "2023-06-25T13:56:19.298Z"
      },
      {
        "duration": 20,
        "start_time": "2023-06-25T13:56:19.324Z"
      },
      {
        "duration": 2088,
        "start_time": "2023-06-25T14:22:41.291Z"
      },
      {
        "duration": 413,
        "start_time": "2023-06-25T14:22:43.384Z"
      },
      {
        "duration": 59,
        "start_time": "2023-06-25T14:22:43.799Z"
      },
      {
        "duration": 4,
        "start_time": "2023-06-25T14:23:05.123Z"
      },
      {
        "duration": 259,
        "start_time": "2023-06-25T14:23:05.650Z"
      },
      {
        "duration": 6,
        "start_time": "2023-06-25T14:23:19.492Z"
      },
      {
        "duration": 7,
        "start_time": "2023-06-25T14:23:20.540Z"
      },
      {
        "duration": 10,
        "start_time": "2023-06-25T14:23:38.306Z"
      },
      {
        "duration": 9,
        "start_time": "2023-06-25T14:23:38.991Z"
      },
      {
        "duration": 18,
        "start_time": "2023-06-25T14:23:39.795Z"
      },
      {
        "duration": 5,
        "start_time": "2023-06-25T14:23:40.082Z"
      },
      {
        "duration": 1123,
        "start_time": "2023-06-25T14:23:40.400Z"
      },
      {
        "duration": 924,
        "start_time": "2023-06-25T14:23:41.525Z"
      },
      {
        "duration": 15,
        "start_time": "2023-06-25T14:23:45.482Z"
      },
      {
        "duration": 6,
        "start_time": "2023-06-25T14:23:45.703Z"
      },
      {
        "duration": 9,
        "start_time": "2023-06-25T14:23:46.337Z"
      },
      {
        "duration": 419,
        "start_time": "2023-06-25T14:23:53.678Z"
      },
      {
        "duration": 12,
        "start_time": "2023-06-25T14:23:54.100Z"
      },
      {
        "duration": 18,
        "start_time": "2023-06-25T14:24:00.203Z"
      },
      {
        "duration": 2489,
        "start_time": "2023-06-25T14:24:05.734Z"
      },
      {
        "duration": 95555,
        "start_time": "2023-06-25T14:24:08.225Z"
      },
      {
        "duration": 5,
        "start_time": "2023-06-25T15:08:08.225Z"
      },
      {
        "duration": 61,
        "start_time": "2023-06-25T15:08:08.523Z"
      },
      {
        "duration": 56,
        "start_time": "2023-06-25T15:08:08.791Z"
      },
      {
        "duration": 4,
        "start_time": "2023-06-25T15:08:09.407Z"
      },
      {
        "duration": 226,
        "start_time": "2023-06-25T15:08:09.695Z"
      },
      {
        "duration": 15,
        "start_time": "2023-06-25T15:08:11.593Z"
      },
      {
        "duration": 11,
        "start_time": "2023-06-25T15:08:12.753Z"
      },
      {
        "duration": 9,
        "start_time": "2023-06-25T15:08:34.389Z"
      },
      {
        "duration": 6,
        "start_time": "2023-06-25T15:08:35.692Z"
      },
      {
        "duration": 17,
        "start_time": "2023-06-25T15:08:37.271Z"
      },
      {
        "duration": 5,
        "start_time": "2023-06-25T15:08:37.820Z"
      },
      {
        "duration": 1154,
        "start_time": "2023-06-25T15:08:38.379Z"
      },
      {
        "duration": 929,
        "start_time": "2023-06-25T15:08:39.535Z"
      },
      {
        "duration": 5,
        "start_time": "2023-06-25T18:55:55.076Z"
      },
      {
        "duration": 54,
        "start_time": "2023-06-25T18:55:55.375Z"
      },
      {
        "duration": 70,
        "start_time": "2023-06-25T18:55:55.652Z"
      },
      {
        "duration": 5,
        "start_time": "2023-06-25T18:55:56.409Z"
      },
      {
        "duration": 283,
        "start_time": "2023-06-25T18:55:56.711Z"
      },
      {
        "duration": 6,
        "start_time": "2023-06-25T18:55:58.032Z"
      },
      {
        "duration": 6,
        "start_time": "2023-06-25T18:55:58.980Z"
      },
      {
        "duration": 6,
        "start_time": "2023-06-25T18:56:09.340Z"
      },
      {
        "duration": 6,
        "start_time": "2023-06-25T18:56:20.146Z"
      },
      {
        "duration": 16,
        "start_time": "2023-06-25T18:56:21.589Z"
      },
      {
        "duration": 4,
        "start_time": "2023-06-25T18:56:27.090Z"
      },
      {
        "duration": 835,
        "start_time": "2023-06-25T18:56:31.490Z"
      },
      {
        "duration": 965,
        "start_time": "2023-06-25T18:56:32.328Z"
      },
      {
        "duration": 3,
        "start_time": "2023-06-25T18:57:28.150Z"
      },
      {
        "duration": 4,
        "start_time": "2023-06-25T18:57:28.416Z"
      },
      {
        "duration": 12,
        "start_time": "2023-06-25T18:57:29.080Z"
      },
      {
        "duration": 412,
        "start_time": "2023-06-25T18:57:30.510Z"
      },
      {
        "duration": 20,
        "start_time": "2023-06-25T18:57:38.650Z"
      },
      {
        "duration": 16,
        "start_time": "2023-06-25T18:57:39.928Z"
      },
      {
        "duration": 2522,
        "start_time": "2023-06-25T18:57:45.602Z"
      },
      {
        "duration": 8,
        "start_time": "2023-06-25T19:00:18.011Z"
      },
      {
        "duration": 6,
        "start_time": "2023-06-25T19:00:21.890Z"
      },
      {
        "duration": 173,
        "start_time": "2023-06-25T19:01:00.638Z"
      },
      {
        "duration": 14,
        "start_time": "2023-06-25T19:01:07.605Z"
      },
      {
        "duration": 16,
        "start_time": "2023-06-25T19:01:20.972Z"
      },
      {
        "duration": 15,
        "start_time": "2023-06-25T19:01:44.802Z"
      },
      {
        "duration": 17,
        "start_time": "2023-06-25T19:01:56.793Z"
      },
      {
        "duration": 2058,
        "start_time": "2023-06-25T19:02:13.268Z"
      },
      {
        "duration": 65,
        "start_time": "2023-06-25T19:02:15.328Z"
      },
      {
        "duration": 97,
        "start_time": "2023-06-25T19:02:15.395Z"
      },
      {
        "duration": 6,
        "start_time": "2023-06-25T19:02:15.495Z"
      },
      {
        "duration": 279,
        "start_time": "2023-06-25T19:02:15.502Z"
      },
      {
        "duration": 8,
        "start_time": "2023-06-25T19:02:16.947Z"
      },
      {
        "duration": 6,
        "start_time": "2023-06-25T19:02:22.016Z"
      },
      {
        "duration": 13,
        "start_time": "2023-06-25T19:02:25.252Z"
      },
      {
        "duration": 11,
        "start_time": "2023-06-25T19:02:27.248Z"
      },
      {
        "duration": 158,
        "start_time": "2023-06-25T19:02:30.130Z"
      },
      {
        "duration": 10,
        "start_time": "2023-06-25T19:02:47.848Z"
      },
      {
        "duration": 13,
        "start_time": "2023-06-25T19:03:39.198Z"
      },
      {
        "duration": 8,
        "start_time": "2023-06-25T19:03:43.775Z"
      },
      {
        "duration": 7,
        "start_time": "2023-06-25T19:03:44.255Z"
      },
      {
        "duration": 1034,
        "start_time": "2023-06-25T19:03:44.973Z"
      },
      {
        "duration": 15,
        "start_time": "2023-06-25T19:03:47.094Z"
      },
      {
        "duration": 9,
        "start_time": "2023-06-25T19:04:12.900Z"
      },
      {
        "duration": 22,
        "start_time": "2023-06-25T19:04:13.556Z"
      },
      {
        "duration": 7,
        "start_time": "2023-06-25T19:04:55.324Z"
      },
      {
        "duration": 9,
        "start_time": "2023-06-25T19:04:55.916Z"
      },
      {
        "duration": 19,
        "start_time": "2023-06-25T19:04:56.731Z"
      },
      {
        "duration": 25,
        "start_time": "2023-06-25T19:05:08.382Z"
      },
      {
        "duration": 9,
        "start_time": "2023-06-25T19:07:28.086Z"
      },
      {
        "duration": 11,
        "start_time": "2023-06-25T19:07:49.995Z"
      },
      {
        "duration": 14,
        "start_time": "2023-06-25T19:08:17.388Z"
      },
      {
        "duration": 16,
        "start_time": "2023-06-25T19:08:18.097Z"
      },
      {
        "duration": 2037,
        "start_time": "2023-06-25T19:12:44.380Z"
      },
      {
        "duration": 88,
        "start_time": "2023-06-25T19:12:47.324Z"
      },
      {
        "duration": 127,
        "start_time": "2023-06-25T19:12:47.900Z"
      },
      {
        "duration": 4,
        "start_time": "2023-06-25T19:12:48.932Z"
      },
      {
        "duration": 252,
        "start_time": "2023-06-25T19:12:49.422Z"
      },
      {
        "duration": 6,
        "start_time": "2023-06-25T19:13:08.746Z"
      },
      {
        "duration": 13,
        "start_time": "2023-06-25T19:13:10.204Z"
      },
      {
        "duration": 8,
        "start_time": "2023-06-25T19:13:19.613Z"
      },
      {
        "duration": 9,
        "start_time": "2023-06-25T19:13:20.792Z"
      },
      {
        "duration": 175,
        "start_time": "2023-06-25T19:13:22.910Z"
      },
      {
        "duration": 12,
        "start_time": "2023-06-25T19:19:25.993Z"
      },
      {
        "duration": 7,
        "start_time": "2023-06-25T19:19:29.072Z"
      },
      {
        "duration": 1041,
        "start_time": "2023-06-25T19:19:29.530Z"
      },
      {
        "duration": 21,
        "start_time": "2023-06-25T19:19:42.157Z"
      },
      {
        "duration": 15,
        "start_time": "2023-06-25T19:19:48.746Z"
      },
      {
        "duration": 875,
        "start_time": "2023-06-25T19:19:57.276Z"
      },
      {
        "duration": 15,
        "start_time": "2023-06-25T19:21:35.108Z"
      },
      {
        "duration": 4,
        "start_time": "2023-06-25T19:21:35.738Z"
      },
      {
        "duration": 868,
        "start_time": "2023-06-25T19:21:38.478Z"
      },
      {
        "duration": 1055,
        "start_time": "2023-06-25T19:22:04.403Z"
      },
      {
        "duration": 833,
        "start_time": "2023-06-25T19:22:31.199Z"
      },
      {
        "duration": 21,
        "start_time": "2023-06-25T19:24:00.400Z"
      },
      {
        "duration": 30,
        "start_time": "2023-06-25T19:24:07.238Z"
      },
      {
        "duration": 9,
        "start_time": "2023-06-25T19:24:49.076Z"
      },
      {
        "duration": 16,
        "start_time": "2023-06-25T19:24:53.091Z"
      },
      {
        "duration": 22,
        "start_time": "2023-06-25T19:27:18.570Z"
      },
      {
        "duration": 15,
        "start_time": "2023-06-25T19:42:45.826Z"
      },
      {
        "duration": 2154,
        "start_time": "2023-06-26T08:18:25.300Z"
      },
      {
        "duration": 161,
        "start_time": "2023-06-26T08:18:27.456Z"
      },
      {
        "duration": 67,
        "start_time": "2023-06-26T08:18:27.620Z"
      },
      {
        "duration": 4,
        "start_time": "2023-06-26T08:18:27.689Z"
      },
      {
        "duration": 246,
        "start_time": "2023-06-26T08:18:27.694Z"
      },
      {
        "duration": 7,
        "start_time": "2023-06-26T08:18:37.970Z"
      },
      {
        "duration": 7,
        "start_time": "2023-06-26T08:18:38.972Z"
      },
      {
        "duration": 7,
        "start_time": "2023-06-26T08:18:40.648Z"
      },
      {
        "duration": 10,
        "start_time": "2023-06-26T08:18:41.907Z"
      },
      {
        "duration": 135,
        "start_time": "2023-06-26T08:21:03.870Z"
      },
      {
        "duration": 12,
        "start_time": "2023-06-26T08:21:09.871Z"
      },
      {
        "duration": 13,
        "start_time": "2023-06-26T08:22:09.797Z"
      },
      {
        "duration": 25,
        "start_time": "2023-06-26T08:24:50.264Z"
      },
      {
        "duration": 20,
        "start_time": "2023-06-26T08:25:06.809Z"
      },
      {
        "duration": 10,
        "start_time": "2023-06-26T08:25:19.727Z"
      },
      {
        "duration": 7,
        "start_time": "2023-06-26T08:25:33.469Z"
      },
      {
        "duration": 10,
        "start_time": "2023-06-26T08:25:34.594Z"
      },
      {
        "duration": 5,
        "start_time": "2023-06-26T08:25:35.070Z"
      },
      {
        "duration": 990,
        "start_time": "2023-06-26T08:25:40.543Z"
      },
      {
        "duration": 10,
        "start_time": "2023-06-26T08:25:43.319Z"
      },
      {
        "duration": 19,
        "start_time": "2023-06-26T08:26:01.455Z"
      },
      {
        "duration": 750,
        "start_time": "2023-06-26T08:26:10.008Z"
      },
      {
        "duration": 13,
        "start_time": "2023-06-26T08:30:08.937Z"
      },
      {
        "duration": 17,
        "start_time": "2023-06-26T08:33:38.726Z"
      },
      {
        "duration": 15,
        "start_time": "2023-06-26T08:33:56.902Z"
      },
      {
        "duration": 4,
        "start_time": "2023-06-26T08:34:14.547Z"
      },
      {
        "duration": 846,
        "start_time": "2023-06-26T08:34:17.042Z"
      },
      {
        "duration": 794,
        "start_time": "2023-06-26T08:34:17.896Z"
      },
      {
        "duration": 950,
        "start_time": "2023-06-26T08:34:44.598Z"
      },
      {
        "duration": 25,
        "start_time": "2023-06-26T08:43:27.171Z"
      },
      {
        "duration": 22,
        "start_time": "2023-06-26T08:46:45.067Z"
      },
      {
        "duration": 24,
        "start_time": "2023-06-26T08:46:45.471Z"
      },
      {
        "duration": 5,
        "start_time": "2023-06-26T08:46:46.901Z"
      },
      {
        "duration": 879,
        "start_time": "2023-06-26T08:46:47.471Z"
      },
      {
        "duration": 971,
        "start_time": "2023-06-26T08:46:48.357Z"
      },
      {
        "duration": 795,
        "start_time": "2023-06-26T08:46:49.331Z"
      },
      {
        "duration": 12,
        "start_time": "2023-06-26T08:47:32.610Z"
      },
      {
        "duration": 16,
        "start_time": "2023-06-26T08:47:39.413Z"
      },
      {
        "duration": 19,
        "start_time": "2023-06-26T08:47:51.546Z"
      },
      {
        "duration": 1123,
        "start_time": "2023-06-26T08:47:57.026Z"
      },
      {
        "duration": 22,
        "start_time": "2023-06-26T08:50:07.794Z"
      },
      {
        "duration": 648,
        "start_time": "2023-06-26T08:50:29.728Z"
      },
      {
        "duration": 4,
        "start_time": "2023-06-26T08:53:12.619Z"
      },
      {
        "duration": 18,
        "start_time": "2023-06-26T08:53:13.349Z"
      },
      {
        "duration": 429,
        "start_time": "2023-06-26T08:53:39.223Z"
      },
      {
        "duration": 24,
        "start_time": "2023-06-26T08:53:39.654Z"
      },
      {
        "duration": 25,
        "start_time": "2023-06-26T08:53:39.941Z"
      },
      {
        "duration": 4,
        "start_time": "2023-06-26T08:53:45.323Z"
      },
      {
        "duration": 3,
        "start_time": "2023-06-26T08:53:45.542Z"
      },
      {
        "duration": 7,
        "start_time": "2023-06-26T08:53:45.971Z"
      },
      {
        "duration": 357,
        "start_time": "2023-06-26T08:53:46.499Z"
      },
      {
        "duration": 19,
        "start_time": "2023-06-26T08:53:46.860Z"
      },
      {
        "duration": 28,
        "start_time": "2023-06-26T08:53:46.881Z"
      },
      {
        "duration": 2482,
        "start_time": "2023-06-26T08:53:48.371Z"
      },
      {
        "duration": 206180,
        "start_time": "2023-06-26T08:57:29.199Z"
      },
      {
        "duration": 8,
        "start_time": "2023-06-26T09:00:55.382Z"
      },
      {
        "duration": 19,
        "start_time": "2023-06-26T09:00:55.393Z"
      },
      {
        "duration": 13,
        "start_time": "2023-06-26T09:02:44.285Z"
      },
      {
        "duration": 6,
        "start_time": "2023-06-26T09:03:03.281Z"
      },
      {
        "duration": 67,
        "start_time": "2023-06-26T09:03:03.619Z"
      },
      {
        "duration": 72,
        "start_time": "2023-06-26T09:03:03.918Z"
      },
      {
        "duration": 6,
        "start_time": "2023-06-26T09:03:04.539Z"
      },
      {
        "duration": 232,
        "start_time": "2023-06-26T09:03:04.870Z"
      },
      {
        "duration": 9,
        "start_time": "2023-06-26T09:03:05.920Z"
      },
      {
        "duration": 6,
        "start_time": "2023-06-26T09:03:06.714Z"
      },
      {
        "duration": 8,
        "start_time": "2023-06-26T09:03:08.010Z"
      },
      {
        "duration": 10,
        "start_time": "2023-06-26T09:03:08.623Z"
      },
      {
        "duration": 38,
        "start_time": "2023-06-26T09:03:09.230Z"
      },
      {
        "duration": 10,
        "start_time": "2023-06-26T09:03:09.556Z"
      },
      {
        "duration": 1017,
        "start_time": "2023-06-26T09:03:09.920Z"
      },
      {
        "duration": 902,
        "start_time": "2023-06-26T09:03:10.939Z"
      },
      {
        "duration": 590,
        "start_time": "2023-06-26T09:03:11.843Z"
      },
      {
        "duration": 817,
        "start_time": "2023-06-26T09:03:12.435Z"
      },
      {
        "duration": 36,
        "start_time": "2023-06-26T09:03:13.254Z"
      },
      {
        "duration": 1880,
        "start_time": "2023-06-26T09:04:08.737Z"
      },
      {
        "duration": 69,
        "start_time": "2023-06-26T09:04:10.619Z"
      },
      {
        "duration": 86,
        "start_time": "2023-06-26T09:04:10.690Z"
      },
      {
        "duration": 5,
        "start_time": "2023-06-26T09:04:10.779Z"
      },
      {
        "duration": 289,
        "start_time": "2023-06-26T09:04:10.786Z"
      },
      {
        "duration": 7,
        "start_time": "2023-06-26T09:04:11.079Z"
      },
      {
        "duration": 7,
        "start_time": "2023-06-26T09:04:11.828Z"
      },
      {
        "duration": 9,
        "start_time": "2023-06-26T09:04:13.244Z"
      },
      {
        "duration": 10,
        "start_time": "2023-06-26T09:04:13.510Z"
      },
      {
        "duration": 22,
        "start_time": "2023-06-26T09:04:13.975Z"
      },
      {
        "duration": 5,
        "start_time": "2023-06-26T09:04:14.393Z"
      },
      {
        "duration": 1150,
        "start_time": "2023-06-26T09:04:18.327Z"
      },
      {
        "duration": 801,
        "start_time": "2023-06-26T09:04:19.479Z"
      },
      {
        "duration": 555,
        "start_time": "2023-06-26T09:04:20.282Z"
      },
      {
        "duration": 824,
        "start_time": "2023-06-26T09:04:20.839Z"
      },
      {
        "duration": 138,
        "start_time": "2023-06-26T09:04:21.669Z"
      },
      {
        "duration": 215,
        "start_time": "2023-06-26T09:04:57.416Z"
      },
      {
        "duration": 347,
        "start_time": "2023-06-26T09:06:24.053Z"
      },
      {
        "duration": 183,
        "start_time": "2023-06-26T09:06:54.596Z"
      },
      {
        "duration": 3,
        "start_time": "2023-06-26T09:25:46.226Z"
      },
      {
        "duration": 5,
        "start_time": "2023-06-26T09:25:46.496Z"
      },
      {
        "duration": 4,
        "start_time": "2023-06-26T09:27:09.803Z"
      },
      {
        "duration": 19,
        "start_time": "2023-06-26T09:27:50.053Z"
      },
      {
        "duration": 21,
        "start_time": "2023-06-26T09:30:57.406Z"
      },
      {
        "duration": 432,
        "start_time": "2023-06-26T09:30:59.051Z"
      },
      {
        "duration": 34,
        "start_time": "2023-06-26T09:31:07.770Z"
      },
      {
        "duration": 4,
        "start_time": "2023-06-26T09:31:23.424Z"
      },
      {
        "duration": 10,
        "start_time": "2023-06-26T09:31:24.025Z"
      },
      {
        "duration": 387,
        "start_time": "2023-06-26T09:31:24.598Z"
      },
      {
        "duration": 29,
        "start_time": "2023-06-26T09:31:24.991Z"
      },
      {
        "duration": 20,
        "start_time": "2023-06-26T09:31:26.002Z"
      },
      {
        "duration": 18,
        "start_time": "2023-06-26T09:31:47.433Z"
      },
      {
        "duration": 16,
        "start_time": "2023-06-26T09:32:27.924Z"
      },
      {
        "duration": 7560,
        "start_time": "2023-06-26T09:32:38.229Z"
      },
      {
        "duration": 216356,
        "start_time": "2023-06-26T09:32:49.610Z"
      },
      {
        "duration": 9,
        "start_time": "2023-06-26T09:38:06.825Z"
      },
      {
        "duration": 13577,
        "start_time": "2023-06-26T09:38:44.042Z"
      },
      {
        "duration": 9561,
        "start_time": "2023-06-26T09:39:10.575Z"
      },
      {
        "duration": 11977,
        "start_time": "2023-06-26T09:39:26.805Z"
      },
      {
        "duration": 10,
        "start_time": "2023-06-26T09:39:45.377Z"
      },
      {
        "duration": 7,
        "start_time": "2023-06-26T09:39:47.102Z"
      },
      {
        "duration": 32078,
        "start_time": "2023-06-26T09:39:59.514Z"
      },
      {
        "duration": 7,
        "start_time": "2023-06-26T09:40:49.434Z"
      },
      {
        "duration": 11,
        "start_time": "2023-06-26T09:40:50.201Z"
      },
      {
        "duration": 10,
        "start_time": "2023-06-26T09:40:50.810Z"
      },
      {
        "duration": 7,
        "start_time": "2023-06-26T09:40:51.026Z"
      },
      {
        "duration": 11,
        "start_time": "2023-06-26T09:40:51.582Z"
      },
      {
        "duration": 16,
        "start_time": "2023-06-26T09:40:51.749Z"
      },
      {
        "duration": 1677,
        "start_time": "2023-06-26T09:52:06.259Z"
      },
      {
        "duration": 63,
        "start_time": "2023-06-26T09:52:07.939Z"
      },
      {
        "duration": 62,
        "start_time": "2023-06-26T09:52:08.004Z"
      },
      {
        "duration": 5,
        "start_time": "2023-06-26T09:52:08.070Z"
      },
      {
        "duration": 267,
        "start_time": "2023-06-26T09:52:08.078Z"
      },
      {
        "duration": 8,
        "start_time": "2023-06-26T09:52:08.946Z"
      },
      {
        "duration": 6,
        "start_time": "2023-06-26T09:52:09.818Z"
      },
      {
        "duration": 8,
        "start_time": "2023-06-26T09:52:11.186Z"
      },
      {
        "duration": 9,
        "start_time": "2023-06-26T09:52:11.658Z"
      },
      {
        "duration": 31,
        "start_time": "2023-06-26T09:52:13.149Z"
      },
      {
        "duration": 6,
        "start_time": "2023-06-26T09:52:13.437Z"
      },
      {
        "duration": 1052,
        "start_time": "2023-06-26T09:52:13.765Z"
      },
      {
        "duration": 849,
        "start_time": "2023-06-26T09:52:14.819Z"
      },
      {
        "duration": 553,
        "start_time": "2023-06-26T09:52:15.671Z"
      },
      {
        "duration": 802,
        "start_time": "2023-06-26T09:52:16.226Z"
      },
      {
        "duration": 211,
        "start_time": "2023-06-26T09:52:17.030Z"
      },
      {
        "duration": 219,
        "start_time": "2023-06-26T09:52:17.243Z"
      },
      {
        "duration": 4,
        "start_time": "2023-06-26T09:52:20.026Z"
      },
      {
        "duration": 30,
        "start_time": "2023-06-26T09:52:21.495Z"
      },
      {
        "duration": 527,
        "start_time": "2023-06-26T09:52:22.573Z"
      },
      {
        "duration": 21,
        "start_time": "2023-06-26T09:52:29.523Z"
      },
      {
        "duration": 29520,
        "start_time": "2023-06-26T09:52:31.318Z"
      },
      {
        "duration": 373950,
        "start_time": "2023-06-26T09:53:12.963Z"
      },
      {
        "duration": 32,
        "start_time": "2023-06-26T10:00:26.847Z"
      },
      {
        "duration": 385,
        "start_time": "2023-06-26T10:00:28.798Z"
      },
      {
        "duration": 20,
        "start_time": "2023-06-26T10:00:29.201Z"
      },
      {
        "duration": 49905,
        "start_time": "2023-06-26T10:00:36.117Z"
      },
      {
        "duration": 10,
        "start_time": "2023-06-26T10:01:41.596Z"
      },
      {
        "duration": 17,
        "start_time": "2023-06-26T10:02:00.131Z"
      },
      {
        "duration": 362,
        "start_time": "2023-06-26T10:02:15.125Z"
      },
      {
        "duration": 18,
        "start_time": "2023-06-26T10:02:16.426Z"
      },
      {
        "duration": 13,
        "start_time": "2023-06-26T10:02:25.037Z"
      },
      {
        "duration": 346,
        "start_time": "2023-06-26T10:02:25.668Z"
      },
      {
        "duration": 18,
        "start_time": "2023-06-26T10:02:26.214Z"
      },
      {
        "duration": 51477,
        "start_time": "2023-06-26T10:02:28.141Z"
      },
      {
        "duration": 9,
        "start_time": "2023-06-26T10:03:52.197Z"
      },
      {
        "duration": 918655,
        "start_time": "2023-06-26T10:04:02.712Z"
      },
      {
        "duration": 45480,
        "start_time": "2023-06-26T10:22:40.789Z"
      },
      {
        "duration": 3,
        "start_time": "2023-06-26T10:23:26.271Z"
      },
      {
        "duration": 12,
        "start_time": "2023-06-26T10:23:41.090Z"
      },
      {
        "duration": 8,
        "start_time": "2023-06-26T10:24:51.150Z"
      },
      {
        "duration": 11,
        "start_time": "2023-06-26T10:25:02.798Z"
      },
      {
        "duration": 488,
        "start_time": "2023-06-26T10:26:40.180Z"
      },
      {
        "duration": 11,
        "start_time": "2023-06-26T10:26:45.404Z"
      },
      {
        "duration": 178635,
        "start_time": "2023-06-26T10:27:34.940Z"
      },
      {
        "duration": 18,
        "start_time": "2023-06-26T10:30:50.561Z"
      },
      {
        "duration": 4,
        "start_time": "2023-06-26T10:31:17.044Z"
      },
      {
        "duration": 15,
        "start_time": "2023-06-26T10:31:17.728Z"
      },
      {
        "duration": 329,
        "start_time": "2023-06-26T10:31:18.405Z"
      },
      {
        "duration": 17,
        "start_time": "2023-06-26T10:31:18.797Z"
      },
      {
        "duration": 89732,
        "start_time": "2023-06-26T10:31:34.620Z"
      },
      {
        "duration": 14,
        "start_time": "2023-06-26T10:33:17.108Z"
      },
      {
        "duration": 4,
        "start_time": "2023-06-26T10:34:48.153Z"
      },
      {
        "duration": 10,
        "start_time": "2023-06-26T10:35:23.622Z"
      },
      {
        "duration": 330,
        "start_time": "2023-06-26T10:35:33.730Z"
      },
      {
        "duration": 17,
        "start_time": "2023-06-26T10:35:34.197Z"
      },
      {
        "duration": 89578,
        "start_time": "2023-06-26T10:35:45.988Z"
      },
      {
        "duration": 227040,
        "start_time": "2023-06-26T10:37:32.217Z"
      },
      {
        "duration": 351,
        "start_time": "2023-06-26T10:41:32.608Z"
      },
      {
        "duration": 12,
        "start_time": "2023-06-26T10:41:36.446Z"
      },
      {
        "duration": 12,
        "start_time": "2023-06-26T10:42:04.365Z"
      },
      {
        "duration": 4440,
        "start_time": "2023-06-26T14:35:41.988Z"
      },
      {
        "duration": 55,
        "start_time": "2023-06-26T14:35:46.430Z"
      },
      {
        "duration": 74,
        "start_time": "2023-06-26T14:35:46.488Z"
      },
      {
        "duration": 4,
        "start_time": "2023-06-26T14:35:46.564Z"
      },
      {
        "duration": 215,
        "start_time": "2023-06-26T14:35:46.570Z"
      },
      {
        "duration": 6,
        "start_time": "2023-06-26T14:35:46.787Z"
      },
      {
        "duration": 15,
        "start_time": "2023-06-26T14:35:46.794Z"
      },
      {
        "duration": 14,
        "start_time": "2023-06-26T14:35:46.811Z"
      },
      {
        "duration": 16,
        "start_time": "2023-06-26T14:35:46.827Z"
      },
      {
        "duration": 45,
        "start_time": "2023-06-26T14:35:46.845Z"
      },
      {
        "duration": 6,
        "start_time": "2023-06-26T14:35:46.892Z"
      },
      {
        "duration": 897,
        "start_time": "2023-06-26T14:35:46.899Z"
      },
      {
        "duration": 732,
        "start_time": "2023-06-26T14:35:47.797Z"
      },
      {
        "duration": 596,
        "start_time": "2023-06-26T14:35:48.532Z"
      },
      {
        "duration": 756,
        "start_time": "2023-06-26T14:35:49.130Z"
      },
      {
        "duration": 176,
        "start_time": "2023-06-26T14:35:49.887Z"
      },
      {
        "duration": 282,
        "start_time": "2023-06-26T14:35:50.065Z"
      },
      {
        "duration": 4,
        "start_time": "2023-06-26T14:35:50.356Z"
      },
      {
        "duration": 34,
        "start_time": "2023-06-26T14:35:50.362Z"
      },
      {
        "duration": 348,
        "start_time": "2023-06-26T14:35:50.398Z"
      },
      {
        "duration": 24,
        "start_time": "2023-06-26T14:35:50.748Z"
      },
      {
        "duration": 237,
        "start_time": "2023-06-26T14:36:30.799Z"
      },
      {
        "duration": 13,
        "start_time": "2023-06-26T14:38:01.536Z"
      },
      {
        "duration": 21,
        "start_time": "2023-06-26T14:38:22.193Z"
      },
      {
        "duration": 39,
        "start_time": "2023-06-26T14:38:52.950Z"
      },
      {
        "duration": 2095,
        "start_time": "2023-06-26T20:59:29.428Z"
      },
      {
        "duration": 396,
        "start_time": "2023-06-26T20:59:31.525Z"
      },
      {
        "duration": 64,
        "start_time": "2023-06-26T20:59:31.922Z"
      },
      {
        "duration": 5,
        "start_time": "2023-06-26T20:59:31.988Z"
      },
      {
        "duration": 335,
        "start_time": "2023-06-26T20:59:31.995Z"
      },
      {
        "duration": 20,
        "start_time": "2023-06-26T20:59:34.258Z"
      },
      {
        "duration": 6,
        "start_time": "2023-06-26T20:59:35.396Z"
      },
      {
        "duration": 8,
        "start_time": "2023-06-26T20:59:39.025Z"
      },
      {
        "duration": 7,
        "start_time": "2023-06-26T20:59:40.714Z"
      },
      {
        "duration": 37,
        "start_time": "2023-06-26T20:59:42.724Z"
      },
      {
        "duration": 5,
        "start_time": "2023-06-26T20:59:43.105Z"
      },
      {
        "duration": 1037,
        "start_time": "2023-06-26T20:59:43.552Z"
      },
      {
        "duration": 810,
        "start_time": "2023-06-26T20:59:44.592Z"
      },
      {
        "duration": 555,
        "start_time": "2023-06-26T20:59:45.404Z"
      },
      {
        "duration": 846,
        "start_time": "2023-06-26T20:59:45.961Z"
      },
      {
        "duration": 292,
        "start_time": "2023-06-26T20:59:46.809Z"
      },
      {
        "duration": 233,
        "start_time": "2023-06-26T20:59:47.103Z"
      },
      {
        "duration": 4,
        "start_time": "2023-06-26T20:59:50.006Z"
      },
      {
        "duration": 35,
        "start_time": "2023-06-26T20:59:52.534Z"
      },
      {
        "duration": 493,
        "start_time": "2023-06-26T20:59:54.620Z"
      },
      {
        "duration": 34,
        "start_time": "2023-06-26T20:59:55.140Z"
      },
      {
        "duration": 35,
        "start_time": "2023-06-26T20:59:55.704Z"
      },
      {
        "duration": 4192,
        "start_time": "2023-06-27T09:05:14.839Z"
      },
      {
        "duration": 269,
        "start_time": "2023-06-27T09:05:19.034Z"
      },
      {
        "duration": 139,
        "start_time": "2023-06-27T09:05:19.305Z"
      },
      {
        "duration": 24,
        "start_time": "2023-06-27T09:05:19.446Z"
      },
      {
        "duration": 455,
        "start_time": "2023-06-27T09:05:19.473Z"
      },
      {
        "duration": 18,
        "start_time": "2023-06-27T09:05:20.734Z"
      },
      {
        "duration": 8,
        "start_time": "2023-06-27T09:05:22.008Z"
      },
      {
        "duration": 9,
        "start_time": "2023-06-27T09:05:23.732Z"
      },
      {
        "duration": 8,
        "start_time": "2023-06-27T09:05:27.315Z"
      },
      {
        "duration": 25,
        "start_time": "2023-06-27T09:05:29.412Z"
      },
      {
        "duration": 12,
        "start_time": "2023-06-27T09:05:29.971Z"
      },
      {
        "duration": 1237,
        "start_time": "2023-06-27T09:05:30.744Z"
      },
      {
        "duration": 949,
        "start_time": "2023-06-27T09:05:31.984Z"
      },
      {
        "duration": 636,
        "start_time": "2023-06-27T09:05:32.935Z"
      },
      {
        "duration": 838,
        "start_time": "2023-06-27T09:05:33.573Z"
      },
      {
        "duration": 221,
        "start_time": "2023-06-27T09:05:34.416Z"
      },
      {
        "duration": 206,
        "start_time": "2023-06-27T09:05:34.639Z"
      },
      {
        "duration": 7,
        "start_time": "2023-06-27T09:05:53.312Z"
      },
      {
        "duration": 21,
        "start_time": "2023-06-27T09:05:54.418Z"
      },
      {
        "duration": 639,
        "start_time": "2023-06-27T09:05:58.829Z"
      },
      {
        "duration": 26,
        "start_time": "2023-06-27T09:05:59.471Z"
      },
      {
        "duration": 43,
        "start_time": "2023-06-27T09:05:59.920Z"
      },
      {
        "duration": 21,
        "start_time": "2023-06-27T09:12:19.570Z"
      },
      {
        "duration": 23,
        "start_time": "2023-06-27T09:13:28.109Z"
      },
      {
        "duration": 404,
        "start_time": "2023-06-27T09:14:18.112Z"
      },
      {
        "duration": 9,
        "start_time": "2023-06-27T09:16:11.513Z"
      },
      {
        "duration": 6,
        "start_time": "2023-06-27T09:17:10.813Z"
      },
      {
        "duration": 12,
        "start_time": "2023-06-27T09:17:19.578Z"
      },
      {
        "duration": 10,
        "start_time": "2023-06-27T09:19:56.415Z"
      },
      {
        "duration": 15,
        "start_time": "2023-06-27T09:19:56.902Z"
      },
      {
        "duration": 10,
        "start_time": "2023-06-27T09:20:42.530Z"
      },
      {
        "duration": 23,
        "start_time": "2023-06-27T09:21:52.444Z"
      },
      {
        "duration": 30,
        "start_time": "2023-06-27T09:21:52.892Z"
      },
      {
        "duration": 26,
        "start_time": "2023-06-27T09:35:51.211Z"
      },
      {
        "duration": 46,
        "start_time": "2023-06-27T09:37:51.015Z"
      },
      {
        "duration": 10,
        "start_time": "2023-06-27T09:38:01.401Z"
      },
      {
        "duration": 12,
        "start_time": "2023-06-27T09:38:01.800Z"
      },
      {
        "duration": 11,
        "start_time": "2023-06-27T09:38:02.605Z"
      },
      {
        "duration": 51,
        "start_time": "2023-06-27T09:38:15.748Z"
      },
      {
        "duration": 39,
        "start_time": "2023-06-27T09:38:21.601Z"
      },
      {
        "duration": 77590,
        "start_time": "2023-06-27T09:38:24.011Z"
      },
      {
        "duration": 776836,
        "start_time": "2023-06-27T09:39:50.421Z"
      },
      {
        "duration": 91444,
        "start_time": "2023-06-27T09:53:01.311Z"
      },
      {
        "duration": 12528,
        "start_time": "2023-06-27T09:55:03.947Z"
      },
      {
        "duration": 17,
        "start_time": "2023-06-27T09:55:43.303Z"
      },
      {
        "duration": 13,
        "start_time": "2023-06-27T09:55:44.610Z"
      },
      {
        "duration": 108,
        "start_time": "2023-06-27T09:56:24.573Z"
      },
      {
        "duration": 504,
        "start_time": "2023-06-27T09:56:26.236Z"
      },
      {
        "duration": 67,
        "start_time": "2023-06-27T09:56:26.742Z"
      },
      {
        "duration": 43,
        "start_time": "2023-06-27T09:56:27.701Z"
      },
      {
        "duration": 21858,
        "start_time": "2023-06-27T09:56:34.692Z"
      },
      {
        "duration": 79623,
        "start_time": "2023-06-27T09:57:01.171Z"
      },
      {
        "duration": 98548,
        "start_time": "2023-06-27T09:58:27.532Z"
      },
      {
        "duration": 14583,
        "start_time": "2023-06-27T10:00:53.409Z"
      },
      {
        "duration": 52,
        "start_time": "2023-06-27T10:01:08.009Z"
      },
      {
        "duration": 105,
        "start_time": "2023-06-27T10:01:08.063Z"
      },
      {
        "duration": 75,
        "start_time": "2023-06-27T10:01:51.690Z"
      },
      {
        "duration": 414,
        "start_time": "2023-06-27T10:01:53.971Z"
      },
      {
        "duration": 49,
        "start_time": "2023-06-27T10:01:54.707Z"
      },
      {
        "duration": 71,
        "start_time": "2023-06-27T10:01:57.500Z"
      },
      {
        "duration": 101747,
        "start_time": "2023-06-27T10:02:21.427Z"
      },
      {
        "duration": 107015,
        "start_time": "2023-06-27T10:04:03.187Z"
      },
      {
        "duration": 13266,
        "start_time": "2023-06-27T10:05:50.208Z"
      },
      {
        "duration": 5402,
        "start_time": "2023-06-27T10:06:03.491Z"
      },
      {
        "duration": 117,
        "start_time": "2023-06-27T10:07:04.166Z"
      },
      {
        "duration": 26,
        "start_time": "2023-06-27T10:08:50.098Z"
      }
    ],
    "kernelspec": {
      "display_name": "Python 3 (ipykernel)",
      "language": "python",
      "name": "python3"
    },
    "language_info": {
      "codemirror_mode": {
        "name": "ipython",
        "version": 3
      },
      "file_extension": ".py",
      "mimetype": "text/x-python",
      "name": "python",
      "nbconvert_exporter": "python",
      "pygments_lexer": "ipython3",
      "version": "3.9.5"
    },
    "toc": {
      "base_numbering": 1,
      "nav_menu": {},
      "number_sections": true,
      "sideBar": true,
      "skip_h1_title": true,
      "title_cell": "Содержание",
      "title_sidebar": "Contents",
      "toc_cell": true,
      "toc_position": {},
      "toc_section_display": true,
      "toc_window_display": false
    },
    "colab": {
      "provenance": []
    }
  },
  "nbformat": 4,
  "nbformat_minor": 0
}