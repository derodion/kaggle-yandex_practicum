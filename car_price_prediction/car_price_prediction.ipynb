{
  "cells": [
    {
      "cell_type": "markdown",
      "metadata": {
        "id": "b1OxkLFycwj0"
      },
      "source": [
        "# Определение стоимости автомобилей"
      ]
    },
    {
      "cell_type": "markdown",
      "metadata": {
        "id": "iR0sB71icwj1"
      },
      "source": [
        "Сервис по продаже автомобилей с пробегом разрабатывает приложение для привлечения новых клиентов. В нём можно быстро узнать рыночную стоимость своего автомобиля. В вашем распоряжении исторические данные: технические характеристики, комплектации и цены автомобилей. Вам нужно построить модель для определения стоимости.\n",
        "\n",
        "Заказчику важны:\n",
        "\n",
        "- качество предсказания;\n",
        "- скорость предсказания;\n",
        "- время обучения."
      ]
    },
    {
      "cell_type": "markdown",
      "metadata": {
        "id": "D588ez6_cwj3"
      },
      "source": [
        "## Подготовка данных"
      ]
    },
    {
      "cell_type": "code",
      "execution_count": null,
      "metadata": {
        "id": "PXu1vPQpcwj4"
      },
      "outputs": [],
      "source": [
        "import pandas as pd\n",
        "import seaborn as sns\n",
        "\n",
        "from catboost import CatBoostRegressor\n",
        "from lightgbm import LGBMRegressor\n",
        "from math import sqrt\n",
        "from sklearn.ensemble import RandomForestRegressor\n",
        "from lightgbm import LGBMRegressor\n",
        "from sklearn.metrics import mean_squared_error\n",
        "from sklearn.model_selection import train_test_split\n",
        "from sklearn.preprocessing import StandardScaler\n",
        "\n",
        "from tqdm import tqdm"
      ]
    },
    {
      "cell_type": "code",
      "execution_count": null,
      "metadata": {
        "scrolled": false,
        "id": "rw01qTaLcwj8",
        "outputId": "091e2258-2955-45f0-c103-54acd7041c27"
      },
      "outputs": [
        {
          "name": "stdout",
          "output_type": "stream",
          "text": [
            "<class 'pandas.core.frame.DataFrame'>\n",
            "RangeIndex: 354369 entries, 0 to 354368\n",
            "Data columns (total 16 columns):\n",
            " #   Column             Non-Null Count   Dtype \n",
            "---  ------             --------------   ----- \n",
            " 0   DateCrawled        354369 non-null  object\n",
            " 1   Price              354369 non-null  int64 \n",
            " 2   VehicleType        316879 non-null  object\n",
            " 3   RegistrationYear   354369 non-null  int64 \n",
            " 4   Gearbox            334536 non-null  object\n",
            " 5   Power              354369 non-null  int64 \n",
            " 6   Model              334664 non-null  object\n",
            " 7   Kilometer          354369 non-null  int64 \n",
            " 8   RegistrationMonth  354369 non-null  int64 \n",
            " 9   FuelType           321474 non-null  object\n",
            " 10  Brand              354369 non-null  object\n",
            " 11  Repaired           283215 non-null  object\n",
            " 12  DateCreated        354369 non-null  object\n",
            " 13  NumberOfPictures   354369 non-null  int64 \n",
            " 14  PostalCode         354369 non-null  int64 \n",
            " 15  LastSeen           354369 non-null  object\n",
            "dtypes: int64(7), object(9)\n",
            "memory usage: 43.3+ MB\n"
          ]
        },
        {
          "data": {
            "text/plain": [
              "None"
            ]
          },
          "metadata": {},
          "output_type": "display_data"
        },
        {
          "data": {
            "text/html": [
              "<div>\n",
              "<style scoped>\n",
              "    .dataframe tbody tr th:only-of-type {\n",
              "        vertical-align: middle;\n",
              "    }\n",
              "\n",
              "    .dataframe tbody tr th {\n",
              "        vertical-align: top;\n",
              "    }\n",
              "\n",
              "    .dataframe thead th {\n",
              "        text-align: right;\n",
              "    }\n",
              "</style>\n",
              "<table border=\"1\" class=\"dataframe\">\n",
              "  <thead>\n",
              "    <tr style=\"text-align: right;\">\n",
              "      <th></th>\n",
              "      <th>Price</th>\n",
              "      <th>RegistrationYear</th>\n",
              "      <th>Power</th>\n",
              "      <th>Kilometer</th>\n",
              "      <th>RegistrationMonth</th>\n",
              "      <th>NumberOfPictures</th>\n",
              "      <th>PostalCode</th>\n",
              "    </tr>\n",
              "  </thead>\n",
              "  <tbody>\n",
              "    <tr>\n",
              "      <th>count</th>\n",
              "      <td>354369.000000</td>\n",
              "      <td>354369.000000</td>\n",
              "      <td>354369.000000</td>\n",
              "      <td>354369.000000</td>\n",
              "      <td>354369.000000</td>\n",
              "      <td>354369.0</td>\n",
              "      <td>354369.000000</td>\n",
              "    </tr>\n",
              "    <tr>\n",
              "      <th>mean</th>\n",
              "      <td>4416.656776</td>\n",
              "      <td>2004.234448</td>\n",
              "      <td>110.094337</td>\n",
              "      <td>128211.172535</td>\n",
              "      <td>5.714645</td>\n",
              "      <td>0.0</td>\n",
              "      <td>50508.689087</td>\n",
              "    </tr>\n",
              "    <tr>\n",
              "      <th>std</th>\n",
              "      <td>4514.158514</td>\n",
              "      <td>90.227958</td>\n",
              "      <td>189.850405</td>\n",
              "      <td>37905.341530</td>\n",
              "      <td>3.726421</td>\n",
              "      <td>0.0</td>\n",
              "      <td>25783.096248</td>\n",
              "    </tr>\n",
              "    <tr>\n",
              "      <th>min</th>\n",
              "      <td>0.000000</td>\n",
              "      <td>1000.000000</td>\n",
              "      <td>0.000000</td>\n",
              "      <td>5000.000000</td>\n",
              "      <td>0.000000</td>\n",
              "      <td>0.0</td>\n",
              "      <td>1067.000000</td>\n",
              "    </tr>\n",
              "    <tr>\n",
              "      <th>25%</th>\n",
              "      <td>1050.000000</td>\n",
              "      <td>1999.000000</td>\n",
              "      <td>69.000000</td>\n",
              "      <td>125000.000000</td>\n",
              "      <td>3.000000</td>\n",
              "      <td>0.0</td>\n",
              "      <td>30165.000000</td>\n",
              "    </tr>\n",
              "    <tr>\n",
              "      <th>50%</th>\n",
              "      <td>2700.000000</td>\n",
              "      <td>2003.000000</td>\n",
              "      <td>105.000000</td>\n",
              "      <td>150000.000000</td>\n",
              "      <td>6.000000</td>\n",
              "      <td>0.0</td>\n",
              "      <td>49413.000000</td>\n",
              "    </tr>\n",
              "    <tr>\n",
              "      <th>75%</th>\n",
              "      <td>6400.000000</td>\n",
              "      <td>2008.000000</td>\n",
              "      <td>143.000000</td>\n",
              "      <td>150000.000000</td>\n",
              "      <td>9.000000</td>\n",
              "      <td>0.0</td>\n",
              "      <td>71083.000000</td>\n",
              "    </tr>\n",
              "    <tr>\n",
              "      <th>max</th>\n",
              "      <td>20000.000000</td>\n",
              "      <td>9999.000000</td>\n",
              "      <td>20000.000000</td>\n",
              "      <td>150000.000000</td>\n",
              "      <td>12.000000</td>\n",
              "      <td>0.0</td>\n",
              "      <td>99998.000000</td>\n",
              "    </tr>\n",
              "  </tbody>\n",
              "</table>\n",
              "</div>"
            ],
            "text/plain": [
              "               Price  RegistrationYear          Power      Kilometer  \\\n",
              "count  354369.000000     354369.000000  354369.000000  354369.000000   \n",
              "mean     4416.656776       2004.234448     110.094337  128211.172535   \n",
              "std      4514.158514         90.227958     189.850405   37905.341530   \n",
              "min         0.000000       1000.000000       0.000000    5000.000000   \n",
              "25%      1050.000000       1999.000000      69.000000  125000.000000   \n",
              "50%      2700.000000       2003.000000     105.000000  150000.000000   \n",
              "75%      6400.000000       2008.000000     143.000000  150000.000000   \n",
              "max     20000.000000       9999.000000   20000.000000  150000.000000   \n",
              "\n",
              "       RegistrationMonth  NumberOfPictures     PostalCode  \n",
              "count      354369.000000          354369.0  354369.000000  \n",
              "mean            5.714645               0.0   50508.689087  \n",
              "std             3.726421               0.0   25783.096248  \n",
              "min             0.000000               0.0    1067.000000  \n",
              "25%             3.000000               0.0   30165.000000  \n",
              "50%             6.000000               0.0   49413.000000  \n",
              "75%             9.000000               0.0   71083.000000  \n",
              "max            12.000000               0.0   99998.000000  "
            ]
          },
          "metadata": {},
          "output_type": "display_data"
        },
        {
          "data": {
            "text/html": [
              "<div>\n",
              "<style scoped>\n",
              "    .dataframe tbody tr th:only-of-type {\n",
              "        vertical-align: middle;\n",
              "    }\n",
              "\n",
              "    .dataframe tbody tr th {\n",
              "        vertical-align: top;\n",
              "    }\n",
              "\n",
              "    .dataframe thead th {\n",
              "        text-align: right;\n",
              "    }\n",
              "</style>\n",
              "<table border=\"1\" class=\"dataframe\">\n",
              "  <thead>\n",
              "    <tr style=\"text-align: right;\">\n",
              "      <th></th>\n",
              "      <th>DateCrawled</th>\n",
              "      <th>Price</th>\n",
              "      <th>VehicleType</th>\n",
              "      <th>RegistrationYear</th>\n",
              "      <th>Gearbox</th>\n",
              "      <th>Power</th>\n",
              "      <th>Model</th>\n",
              "      <th>Kilometer</th>\n",
              "      <th>RegistrationMonth</th>\n",
              "      <th>FuelType</th>\n",
              "      <th>Brand</th>\n",
              "      <th>Repaired</th>\n",
              "      <th>DateCreated</th>\n",
              "      <th>NumberOfPictures</th>\n",
              "      <th>PostalCode</th>\n",
              "      <th>LastSeen</th>\n",
              "    </tr>\n",
              "  </thead>\n",
              "  <tbody>\n",
              "    <tr>\n",
              "      <th>0</th>\n",
              "      <td>2016-03-24 11:52:17</td>\n",
              "      <td>480</td>\n",
              "      <td>NaN</td>\n",
              "      <td>1993</td>\n",
              "      <td>manual</td>\n",
              "      <td>0</td>\n",
              "      <td>golf</td>\n",
              "      <td>150000</td>\n",
              "      <td>0</td>\n",
              "      <td>petrol</td>\n",
              "      <td>volkswagen</td>\n",
              "      <td>NaN</td>\n",
              "      <td>2016-03-24 00:00:00</td>\n",
              "      <td>0</td>\n",
              "      <td>70435</td>\n",
              "      <td>2016-04-07 03:16:57</td>\n",
              "    </tr>\n",
              "    <tr>\n",
              "      <th>1</th>\n",
              "      <td>2016-03-24 10:58:45</td>\n",
              "      <td>18300</td>\n",
              "      <td>coupe</td>\n",
              "      <td>2011</td>\n",
              "      <td>manual</td>\n",
              "      <td>190</td>\n",
              "      <td>NaN</td>\n",
              "      <td>125000</td>\n",
              "      <td>5</td>\n",
              "      <td>gasoline</td>\n",
              "      <td>audi</td>\n",
              "      <td>yes</td>\n",
              "      <td>2016-03-24 00:00:00</td>\n",
              "      <td>0</td>\n",
              "      <td>66954</td>\n",
              "      <td>2016-04-07 01:46:50</td>\n",
              "    </tr>\n",
              "    <tr>\n",
              "      <th>2</th>\n",
              "      <td>2016-03-14 12:52:21</td>\n",
              "      <td>9800</td>\n",
              "      <td>suv</td>\n",
              "      <td>2004</td>\n",
              "      <td>auto</td>\n",
              "      <td>163</td>\n",
              "      <td>grand</td>\n",
              "      <td>125000</td>\n",
              "      <td>8</td>\n",
              "      <td>gasoline</td>\n",
              "      <td>jeep</td>\n",
              "      <td>NaN</td>\n",
              "      <td>2016-03-14 00:00:00</td>\n",
              "      <td>0</td>\n",
              "      <td>90480</td>\n",
              "      <td>2016-04-05 12:47:46</td>\n",
              "    </tr>\n",
              "    <tr>\n",
              "      <th>3</th>\n",
              "      <td>2016-03-17 16:54:04</td>\n",
              "      <td>1500</td>\n",
              "      <td>small</td>\n",
              "      <td>2001</td>\n",
              "      <td>manual</td>\n",
              "      <td>75</td>\n",
              "      <td>golf</td>\n",
              "      <td>150000</td>\n",
              "      <td>6</td>\n",
              "      <td>petrol</td>\n",
              "      <td>volkswagen</td>\n",
              "      <td>no</td>\n",
              "      <td>2016-03-17 00:00:00</td>\n",
              "      <td>0</td>\n",
              "      <td>91074</td>\n",
              "      <td>2016-03-17 17:40:17</td>\n",
              "    </tr>\n",
              "    <tr>\n",
              "      <th>4</th>\n",
              "      <td>2016-03-31 17:25:20</td>\n",
              "      <td>3600</td>\n",
              "      <td>small</td>\n",
              "      <td>2008</td>\n",
              "      <td>manual</td>\n",
              "      <td>69</td>\n",
              "      <td>fabia</td>\n",
              "      <td>90000</td>\n",
              "      <td>7</td>\n",
              "      <td>gasoline</td>\n",
              "      <td>skoda</td>\n",
              "      <td>no</td>\n",
              "      <td>2016-03-31 00:00:00</td>\n",
              "      <td>0</td>\n",
              "      <td>60437</td>\n",
              "      <td>2016-04-06 10:17:21</td>\n",
              "    </tr>\n",
              "  </tbody>\n",
              "</table>\n",
              "</div>"
            ],
            "text/plain": [
              "           DateCrawled  Price VehicleType  RegistrationYear Gearbox  Power  \\\n",
              "0  2016-03-24 11:52:17    480         NaN              1993  manual      0   \n",
              "1  2016-03-24 10:58:45  18300       coupe              2011  manual    190   \n",
              "2  2016-03-14 12:52:21   9800         suv              2004    auto    163   \n",
              "3  2016-03-17 16:54:04   1500       small              2001  manual     75   \n",
              "4  2016-03-31 17:25:20   3600       small              2008  manual     69   \n",
              "\n",
              "   Model  Kilometer  RegistrationMonth  FuelType       Brand Repaired  \\\n",
              "0   golf     150000                  0    petrol  volkswagen      NaN   \n",
              "1    NaN     125000                  5  gasoline        audi      yes   \n",
              "2  grand     125000                  8  gasoline        jeep      NaN   \n",
              "3   golf     150000                  6    petrol  volkswagen       no   \n",
              "4  fabia      90000                  7  gasoline       skoda       no   \n",
              "\n",
              "           DateCreated  NumberOfPictures  PostalCode             LastSeen  \n",
              "0  2016-03-24 00:00:00                 0       70435  2016-04-07 03:16:57  \n",
              "1  2016-03-24 00:00:00                 0       66954  2016-04-07 01:46:50  \n",
              "2  2016-03-14 00:00:00                 0       90480  2016-04-05 12:47:46  \n",
              "3  2016-03-17 00:00:00                 0       91074  2016-03-17 17:40:17  \n",
              "4  2016-03-31 00:00:00                 0       60437  2016-04-06 10:17:21  "
            ]
          },
          "metadata": {},
          "output_type": "display_data"
        }
      ],
      "source": [
        "df = pd.read_csv('/datasets/autos.csv')\n",
        "display(df.info())\n",
        "display(df.describe())\n",
        "display(df.head())"
      ]
    },
    {
      "cell_type": "code",
      "execution_count": null,
      "metadata": {
        "scrolled": true,
        "id": "Bs6uDAH8cwj-",
        "outputId": "1347bac2-32dc-489d-f512-6e285e8937c0"
      },
      "outputs": [
        {
          "data": {
            "text/plain": [
              "Index(['datecrawled', 'price', 'vehicletype', 'registrationyear', 'gearbox',\n",
              "       'power', 'model', 'kilometer', 'registrationmonth', 'fueltype', 'brand',\n",
              "       'repaired', 'datecreated', 'numberofpictures', 'postalcode',\n",
              "       'lastseen'],\n",
              "      dtype='object')"
            ]
          },
          "metadata": {},
          "output_type": "display_data"
        }
      ],
      "source": [
        "df.columns = df.columns.str.lower()\n",
        "display(df.columns)"
      ]
    },
    {
      "cell_type": "markdown",
      "metadata": {
        "id": "TTycITR7cwj_"
      },
      "source": [
        "### Удалим ненужные столбцы"
      ]
    },
    {
      "cell_type": "code",
      "execution_count": null,
      "metadata": {
        "id": "iGujIx-RcwkA"
      },
      "outputs": [],
      "source": [
        "dropped_columns = ['datecrawled', 'registrationmonth', 'datecreated', 'numberofpictures', 'postalcode', 'lastseen']\n",
        "df = df.drop(dropped_columns, axis=1)"
      ]
    },
    {
      "cell_type": "markdown",
      "metadata": {
        "id": "hmMz2t9ycwkB"
      },
      "source": [
        "### Обработка пропусков"
      ]
    },
    {
      "cell_type": "code",
      "execution_count": null,
      "metadata": {
        "scrolled": false,
        "id": "S5k88bCNcwkB",
        "outputId": "7803191e-a755-47ac-cffc-d9132a3b3978"
      },
      "outputs": [
        {
          "data": {
            "text/plain": [
              "price                   0\n",
              "vehicletype         37490\n",
              "registrationyear        0\n",
              "gearbox             19833\n",
              "power                   0\n",
              "model               19705\n",
              "kilometer               0\n",
              "fueltype            32895\n",
              "brand                   0\n",
              "repaired            71154\n",
              "dtype: int64"
            ]
          },
          "metadata": {},
          "output_type": "display_data"
        }
      ],
      "source": [
        "display(df.isna().sum())"
      ]
    },
    {
      "cell_type": "code",
      "execution_count": null,
      "metadata": {
        "scrolled": true,
        "id": "wt59PSNFcwkC",
        "outputId": "03a05e95-6c6c-45f8-d80b-e55b8dc31e48"
      },
      "outputs": [
        {
          "name": "stdout",
          "output_type": "stream",
          "text": [
            "Доля пропусков в стобце \"vehicletype\" 0.1057936783409384\n",
            "Доля пропусков в стобце \"gearbox\" 0.055967085156997366\n",
            "Доля пропусков в стобце \"model\" 0.055605879746817584\n",
            "Доля пропусков в стобце \"fueltype\" 0.09282696849893755\n",
            "Доля пропусков в стобце \"repaired\" 0.20079070121822168\n"
          ]
        }
      ],
      "source": [
        "print('Доля пропусков в стобце \"vehicletype\"', df['vehicletype'].isna().sum() / df.shape[0])\n",
        "print('Доля пропусков в стобце \"gearbox\"', df['gearbox'].isna().sum() / df.shape[0])\n",
        "print('Доля пропусков в стобце \"model\"', df['model'].isna().sum() / df.shape[0])\n",
        "print('Доля пропусков в стобце \"fueltype\"', df['fueltype'].isna().sum() / df.shape[0])\n",
        "print('Доля пропусков в стобце \"repaired\"', df['repaired'].isna().sum() / df.shape[0])"
      ]
    },
    {
      "cell_type": "code",
      "execution_count": null,
      "metadata": {
        "id": "UCb-YvlFcwkC",
        "outputId": "86337728-625c-403d-83dc-f266d170fb36"
      },
      "outputs": [
        {
          "data": {
            "text/plain": [
              "price               0.000000\n",
              "vehicletype         0.105794\n",
              "registrationyear    0.000000\n",
              "gearbox             0.055967\n",
              "power               0.000000\n",
              "model               0.055606\n",
              "kilometer           0.000000\n",
              "fueltype            0.092827\n",
              "brand               0.000000\n",
              "repaired            0.200791\n",
              "dtype: float64"
            ]
          },
          "execution_count": 7,
          "metadata": {},
          "output_type": "execute_result"
        }
      ],
      "source": [
        "df.isna().sum() / df.shape[0]"
      ]
    },
    {
      "cell_type": "code",
      "execution_count": null,
      "metadata": {
        "scrolled": true,
        "id": "n6EoDGrKcwkD",
        "outputId": "a3313157-799c-4112-a5c0-032d8143d13f"
      },
      "outputs": [
        {
          "data": {
            "text/plain": [
              "price               0\n",
              "vehicletype         0\n",
              "registrationyear    0\n",
              "gearbox             0\n",
              "power               0\n",
              "model               0\n",
              "kilometer           0\n",
              "fueltype            0\n",
              "brand               0\n",
              "repaired            0\n",
              "dtype: int64"
            ]
          },
          "metadata": {},
          "output_type": "display_data"
        }
      ],
      "source": [
        "df_new = df.dropna()\n",
        "display(df_new.isna().sum())"
      ]
    },
    {
      "cell_type": "code",
      "execution_count": null,
      "metadata": {
        "id": "B90aylYicwkD",
        "outputId": "64277ed9-1c3b-4af2-9651-1b9e99b2de8c"
      },
      "outputs": [
        {
          "data": {
            "text/plain": [
              "0.6936667710776055"
            ]
          },
          "metadata": {},
          "output_type": "display_data"
        }
      ],
      "source": [
        "display(df_new.shape[0] / df.shape[0])"
      ]
    },
    {
      "cell_type": "markdown",
      "metadata": {
        "id": "Y_Mjm6sqcwkE"
      },
      "source": [
        "Слишком большое количесто пропусков относительно исходной ткаблицы, также наш таргетный столбец 'price' без пропусков. Удалить их мы не можем, но так как неоткуда взять данные, заполним значением 'unknown'."
      ]
    },
    {
      "cell_type": "code",
      "execution_count": null,
      "metadata": {
        "id": "XEKrDB5NcwkE",
        "outputId": "2864ff95-c4e2-4dee-fb0c-30475ce2ecfe"
      },
      "outputs": [
        {
          "data": {
            "text/plain": [
              "price               0\n",
              "vehicletype         0\n",
              "registrationyear    0\n",
              "gearbox             0\n",
              "power               0\n",
              "model               0\n",
              "kilometer           0\n",
              "fueltype            0\n",
              "brand               0\n",
              "repaired            0\n",
              "dtype: int64"
            ]
          },
          "execution_count": 10,
          "metadata": {},
          "output_type": "execute_result"
        }
      ],
      "source": [
        "df = df.fillna('unknown')\n",
        "df.isna().sum()"
      ]
    },
    {
      "cell_type": "markdown",
      "metadata": {
        "id": "jIPIdStvcwkF"
      },
      "source": [
        "### Обработка дубликатов"
      ]
    },
    {
      "cell_type": "code",
      "execution_count": null,
      "metadata": {
        "scrolled": false,
        "id": "Q2RHoo20cwkF",
        "outputId": "f3dab4d5-061f-472f-816f-e457526f7b76"
      },
      "outputs": [
        {
          "data": {
            "text/plain": [
              "0.1270991537070116"
            ]
          },
          "execution_count": 11,
          "metadata": {},
          "output_type": "execute_result"
        }
      ],
      "source": [
        "df.duplicated().sum() / df.shape[0]"
      ]
    },
    {
      "cell_type": "markdown",
      "metadata": {
        "id": "6WenQ1jUcwkG"
      },
      "source": [
        "Думаю, что дубликаты возникли в связи с ошибкой при внесении данных. Удалю их."
      ]
    },
    {
      "cell_type": "code",
      "execution_count": null,
      "metadata": {
        "id": "RmvXmue7cwkG"
      },
      "outputs": [],
      "source": [
        "df = df.drop_duplicates()"
      ]
    },
    {
      "cell_type": "code",
      "execution_count": null,
      "metadata": {
        "id": "A9SFc-mTcwkH",
        "outputId": "58c320b3-d226-4347-efe4-b6a6452ffcc4"
      },
      "outputs": [
        {
          "data": {
            "text/plain": [
              "0"
            ]
          },
          "execution_count": 13,
          "metadata": {},
          "output_type": "execute_result"
        }
      ],
      "source": [
        "df.duplicated().sum()"
      ]
    },
    {
      "cell_type": "markdown",
      "metadata": {
        "id": "FmZ-rIqGcwkH"
      },
      "source": [
        "### Обработка аномалий"
      ]
    },
    {
      "cell_type": "code",
      "execution_count": null,
      "metadata": {
        "scrolled": true,
        "id": "K84zrxmUcwkI",
        "outputId": "09251ce2-9e26-4627-d367-1b067050dbeb"
      },
      "outputs": [
        {
          "data": {
            "text/html": [
              "<div>\n",
              "<style scoped>\n",
              "    .dataframe tbody tr th:only-of-type {\n",
              "        vertical-align: middle;\n",
              "    }\n",
              "\n",
              "    .dataframe tbody tr th {\n",
              "        vertical-align: top;\n",
              "    }\n",
              "\n",
              "    .dataframe thead th {\n",
              "        text-align: right;\n",
              "    }\n",
              "</style>\n",
              "<table border=\"1\" class=\"dataframe\">\n",
              "  <thead>\n",
              "    <tr style=\"text-align: right;\">\n",
              "      <th></th>\n",
              "      <th>price</th>\n",
              "      <th>registrationyear</th>\n",
              "      <th>power</th>\n",
              "      <th>kilometer</th>\n",
              "    </tr>\n",
              "  </thead>\n",
              "  <tbody>\n",
              "    <tr>\n",
              "      <th>count</th>\n",
              "      <td>309329.000000</td>\n",
              "      <td>309329.000000</td>\n",
              "      <td>309329.000000</td>\n",
              "      <td>309329.000000</td>\n",
              "    </tr>\n",
              "    <tr>\n",
              "      <th>mean</th>\n",
              "      <td>4486.937196</td>\n",
              "      <td>2004.360105</td>\n",
              "      <td>110.976908</td>\n",
              "      <td>127217.735809</td>\n",
              "    </tr>\n",
              "    <tr>\n",
              "      <th>std</th>\n",
              "      <td>4564.852796</td>\n",
              "      <td>92.541399</td>\n",
              "      <td>200.969473</td>\n",
              "      <td>38532.941010</td>\n",
              "    </tr>\n",
              "    <tr>\n",
              "      <th>min</th>\n",
              "      <td>0.000000</td>\n",
              "      <td>1000.000000</td>\n",
              "      <td>0.000000</td>\n",
              "      <td>5000.000000</td>\n",
              "    </tr>\n",
              "    <tr>\n",
              "      <th>25%</th>\n",
              "      <td>1100.000000</td>\n",
              "      <td>1999.000000</td>\n",
              "      <td>69.000000</td>\n",
              "      <td>125000.000000</td>\n",
              "    </tr>\n",
              "    <tr>\n",
              "      <th>50%</th>\n",
              "      <td>2800.000000</td>\n",
              "      <td>2003.000000</td>\n",
              "      <td>105.000000</td>\n",
              "      <td>150000.000000</td>\n",
              "    </tr>\n",
              "    <tr>\n",
              "      <th>75%</th>\n",
              "      <td>6500.000000</td>\n",
              "      <td>2008.000000</td>\n",
              "      <td>143.000000</td>\n",
              "      <td>150000.000000</td>\n",
              "    </tr>\n",
              "    <tr>\n",
              "      <th>max</th>\n",
              "      <td>20000.000000</td>\n",
              "      <td>9999.000000</td>\n",
              "      <td>20000.000000</td>\n",
              "      <td>150000.000000</td>\n",
              "    </tr>\n",
              "  </tbody>\n",
              "</table>\n",
              "</div>"
            ],
            "text/plain": [
              "               price  registrationyear          power      kilometer\n",
              "count  309329.000000     309329.000000  309329.000000  309329.000000\n",
              "mean     4486.937196       2004.360105     110.976908  127217.735809\n",
              "std      4564.852796         92.541399     200.969473   38532.941010\n",
              "min         0.000000       1000.000000       0.000000    5000.000000\n",
              "25%      1100.000000       1999.000000      69.000000  125000.000000\n",
              "50%      2800.000000       2003.000000     105.000000  150000.000000\n",
              "75%      6500.000000       2008.000000     143.000000  150000.000000\n",
              "max     20000.000000       9999.000000   20000.000000  150000.000000"
            ]
          },
          "execution_count": 14,
          "metadata": {},
          "output_type": "execute_result"
        }
      ],
      "source": [
        "df.describe()"
      ]
    },
    {
      "cell_type": "markdown",
      "metadata": {
        "id": "V_Y0Q8TrcwkI"
      },
      "source": [
        "Замечу, что цена не может быть нулём, поэтому возьму за минимальное значение значение первого квантиля (только если кто-то отдаёт машину бесплатно). Год регистрации также не может быть значением 1000, возьму за минимальное значение также значение первого квантиля, максимальне значение в виде 9999 также невозможно, поэтому огриничимся значением 2023. Мощность также не может быть 0, поэтому также возьму значение первого квантиля за минимальное, максимальное возьму 2000, так как это максимальная мощность на сегодняшний день."
      ]
    },
    {
      "cell_type": "code",
      "execution_count": null,
      "metadata": {
        "scrolled": true,
        "id": "f1jnOMQWcwkJ"
      },
      "outputs": [],
      "source": [
        "df = df.loc[df['price'] >= 1100]\n",
        "df = df.loc[(df['registrationyear'] >= 1999) & (df['registrationyear'] <= 2023)]\n",
        "df = df.loc[((df['power'] >= 69) & (df['power'] <= 2000))]"
      ]
    },
    {
      "cell_type": "code",
      "execution_count": null,
      "metadata": {
        "id": "FQSN_cRvcwkJ",
        "outputId": "69bea3ec-d18e-4e24-a5a6-99445e8a97c2"
      },
      "outputs": [
        {
          "data": {
            "text/html": [
              "<div>\n",
              "<style scoped>\n",
              "    .dataframe tbody tr th:only-of-type {\n",
              "        vertical-align: middle;\n",
              "    }\n",
              "\n",
              "    .dataframe tbody tr th {\n",
              "        vertical-align: top;\n",
              "    }\n",
              "\n",
              "    .dataframe thead th {\n",
              "        text-align: right;\n",
              "    }\n",
              "</style>\n",
              "<table border=\"1\" class=\"dataframe\">\n",
              "  <thead>\n",
              "    <tr style=\"text-align: right;\">\n",
              "      <th></th>\n",
              "      <th>price</th>\n",
              "      <th>registrationyear</th>\n",
              "      <th>power</th>\n",
              "      <th>kilometer</th>\n",
              "    </tr>\n",
              "  </thead>\n",
              "  <tbody>\n",
              "    <tr>\n",
              "      <th>count</th>\n",
              "      <td>167967.00000</td>\n",
              "      <td>167967.000000</td>\n",
              "      <td>167967.000000</td>\n",
              "      <td>167967.000000</td>\n",
              "    </tr>\n",
              "    <tr>\n",
              "      <th>mean</th>\n",
              "      <td>6682.74776</td>\n",
              "      <td>2006.247805</td>\n",
              "      <td>137.955426</td>\n",
              "      <td>124349.782993</td>\n",
              "    </tr>\n",
              "    <tr>\n",
              "      <th>std</th>\n",
              "      <td>4703.53844</td>\n",
              "      <td>4.589922</td>\n",
              "      <td>62.173926</td>\n",
              "      <td>38678.834600</td>\n",
              "    </tr>\n",
              "    <tr>\n",
              "      <th>min</th>\n",
              "      <td>1100.00000</td>\n",
              "      <td>1999.000000</td>\n",
              "      <td>69.000000</td>\n",
              "      <td>5000.000000</td>\n",
              "    </tr>\n",
              "    <tr>\n",
              "      <th>25%</th>\n",
              "      <td>2900.00000</td>\n",
              "      <td>2003.000000</td>\n",
              "      <td>101.000000</td>\n",
              "      <td>100000.000000</td>\n",
              "    </tr>\n",
              "    <tr>\n",
              "      <th>50%</th>\n",
              "      <td>5350.00000</td>\n",
              "      <td>2006.000000</td>\n",
              "      <td>129.000000</td>\n",
              "      <td>150000.000000</td>\n",
              "    </tr>\n",
              "    <tr>\n",
              "      <th>75%</th>\n",
              "      <td>9390.00000</td>\n",
              "      <td>2009.000000</td>\n",
              "      <td>163.000000</td>\n",
              "      <td>150000.000000</td>\n",
              "    </tr>\n",
              "    <tr>\n",
              "      <th>max</th>\n",
              "      <td>20000.00000</td>\n",
              "      <td>2019.000000</td>\n",
              "      <td>2000.000000</td>\n",
              "      <td>150000.000000</td>\n",
              "    </tr>\n",
              "  </tbody>\n",
              "</table>\n",
              "</div>"
            ],
            "text/plain": [
              "              price  registrationyear          power      kilometer\n",
              "count  167967.00000     167967.000000  167967.000000  167967.000000\n",
              "mean     6682.74776       2006.247805     137.955426  124349.782993\n",
              "std      4703.53844          4.589922      62.173926   38678.834600\n",
              "min      1100.00000       1999.000000      69.000000    5000.000000\n",
              "25%      2900.00000       2003.000000     101.000000  100000.000000\n",
              "50%      5350.00000       2006.000000     129.000000  150000.000000\n",
              "75%      9390.00000       2009.000000     163.000000  150000.000000\n",
              "max     20000.00000       2019.000000    2000.000000  150000.000000"
            ]
          },
          "execution_count": 16,
          "metadata": {},
          "output_type": "execute_result"
        }
      ],
      "source": [
        "df.describe()"
      ]
    },
    {
      "cell_type": "markdown",
      "metadata": {
        "id": "YaUKH5S3cwkM"
      },
      "source": [
        "### Небольшой вывод по первому пункту"
      ]
    },
    {
      "cell_type": "markdown",
      "metadata": {
        "id": "HHj3WNSjcwkN"
      },
      "source": [
        "Изучил данные, удалил ненужные столбцы, обработал пропуски и дубликаты. Также обработал аномалии."
      ]
    },
    {
      "cell_type": "markdown",
      "metadata": {
        "id": "JN6bfGA3cwkO"
      },
      "source": [
        "## Обучение моделей"
      ]
    },
    {
      "cell_type": "code",
      "execution_count": null,
      "metadata": {
        "id": "E40nC8GKcwkO"
      },
      "outputs": [],
      "source": [
        "STATE = 2802"
      ]
    },
    {
      "cell_type": "markdown",
      "metadata": {
        "id": "zie1nXt2cwkn"
      },
      "source": [
        "Разделим на выборки."
      ]
    },
    {
      "cell_type": "code",
      "execution_count": null,
      "metadata": {
        "id": "J_Jsav9Pcwko",
        "outputId": "b94a83b4-7861-4f5c-c1f3-8d451eb8865a"
      },
      "outputs": [
        {
          "data": {
            "text/plain": [
              "(100780, 9)"
            ]
          },
          "metadata": {},
          "output_type": "display_data"
        },
        {
          "data": {
            "text/plain": [
              "(100780,)"
            ]
          },
          "metadata": {},
          "output_type": "display_data"
        },
        {
          "data": {
            "text/plain": [
              "(33593, 9)"
            ]
          },
          "metadata": {},
          "output_type": "display_data"
        },
        {
          "data": {
            "text/plain": [
              "(33593,)"
            ]
          },
          "metadata": {},
          "output_type": "display_data"
        },
        {
          "data": {
            "text/plain": [
              "(33594, 9)"
            ]
          },
          "metadata": {},
          "output_type": "display_data"
        },
        {
          "data": {
            "text/plain": [
              "(33594,)"
            ]
          },
          "metadata": {},
          "output_type": "display_data"
        }
      ],
      "source": [
        "features = df.drop('price', axis=1)\n",
        "target = df['price']\n",
        "train_features, valid_test_features, train_target, valid_test_target = train_test_split(features, target, test_size=0.4, random_state=STATE)\n",
        "valid_features, test_features, valid_target, test_target = train_test_split(valid_test_features, valid_test_target, test_size=0.5, random_state=STATE)\n",
        "\n",
        "display(train_features.shape)\n",
        "display(train_target.shape)\n",
        "display(valid_features.shape)\n",
        "display(valid_target.shape)\n",
        "display(test_features.shape)\n",
        "display(test_target.shape)"
      ]
    },
    {
      "cell_type": "markdown",
      "metadata": {
        "id": "uQK4efuKcwkp"
      },
      "source": [
        "### Стандартизация данных"
      ]
    },
    {
      "cell_type": "code",
      "execution_count": null,
      "metadata": {
        "id": "Qq_zIXU5cwkp",
        "outputId": "4a167f79-d676-4c35-893d-75dfc2a69c5d"
      },
      "outputs": [
        {
          "name": "stdout",
          "output_type": "stream",
          "text": [
            "<class 'pandas.core.frame.DataFrame'>\n",
            "Int64Index: 167967 entries, 1 to 354368\n",
            "Data columns (total 10 columns):\n",
            " #   Column            Non-Null Count   Dtype \n",
            "---  ------            --------------   ----- \n",
            " 0   price             167967 non-null  int64 \n",
            " 1   vehicletype       167967 non-null  object\n",
            " 2   registrationyear  167967 non-null  int64 \n",
            " 3   gearbox           167967 non-null  object\n",
            " 4   power             167967 non-null  int64 \n",
            " 5   model             167967 non-null  object\n",
            " 6   kilometer         167967 non-null  int64 \n",
            " 7   fueltype          167967 non-null  object\n",
            " 8   brand             167967 non-null  object\n",
            " 9   repaired          167967 non-null  object\n",
            "dtypes: int64(4), object(6)\n",
            "memory usage: 14.1+ MB\n"
          ]
        }
      ],
      "source": [
        "df.info()"
      ]
    },
    {
      "cell_type": "code",
      "execution_count": null,
      "metadata": {
        "id": "hpoFC9lPcwkq",
        "outputId": "e5400aa3-c392-4d54-ac64-9a35ecbc3fdb"
      },
      "outputs": [
        {
          "name": "stderr",
          "output_type": "stream",
          "text": [
            "/tmp/ipykernel_31/2921458825.py:5: SettingWithCopyWarning: \n",
            "A value is trying to be set on a copy of a slice from a DataFrame.\n",
            "Try using .loc[row_indexer,col_indexer] = value instead\n",
            "\n",
            "See the caveats in the documentation: https://pandas.pydata.org/pandas-docs/stable/user_guide/indexing.html#returning-a-view-versus-a-copy\n",
            "  train_features[numeric] = scaler.transform(train_features[numeric])\n",
            "/opt/conda/lib/python3.9/site-packages/pandas/core/indexing.py:1738: SettingWithCopyWarning: \n",
            "A value is trying to be set on a copy of a slice from a DataFrame.\n",
            "Try using .loc[row_indexer,col_indexer] = value instead\n",
            "\n",
            "See the caveats in the documentation: https://pandas.pydata.org/pandas-docs/stable/user_guide/indexing.html#returning-a-view-versus-a-copy\n",
            "  self._setitem_single_column(loc, value[:, i].tolist(), pi)\n",
            "/tmp/ipykernel_31/2921458825.py:6: SettingWithCopyWarning: \n",
            "A value is trying to be set on a copy of a slice from a DataFrame.\n",
            "Try using .loc[row_indexer,col_indexer] = value instead\n",
            "\n",
            "See the caveats in the documentation: https://pandas.pydata.org/pandas-docs/stable/user_guide/indexing.html#returning-a-view-versus-a-copy\n",
            "  valid_features[numeric] = scaler.transform(valid_features[numeric])\n",
            "/opt/conda/lib/python3.9/site-packages/pandas/core/indexing.py:1738: SettingWithCopyWarning: \n",
            "A value is trying to be set on a copy of a slice from a DataFrame.\n",
            "Try using .loc[row_indexer,col_indexer] = value instead\n",
            "\n",
            "See the caveats in the documentation: https://pandas.pydata.org/pandas-docs/stable/user_guide/indexing.html#returning-a-view-versus-a-copy\n",
            "  self._setitem_single_column(loc, value[:, i].tolist(), pi)\n",
            "/tmp/ipykernel_31/2921458825.py:7: SettingWithCopyWarning: \n",
            "A value is trying to be set on a copy of a slice from a DataFrame.\n",
            "Try using .loc[row_indexer,col_indexer] = value instead\n",
            "\n",
            "See the caveats in the documentation: https://pandas.pydata.org/pandas-docs/stable/user_guide/indexing.html#returning-a-view-versus-a-copy\n",
            "  test_features[numeric] = scaler.transform(test_features[numeric])\n",
            "/opt/conda/lib/python3.9/site-packages/pandas/core/indexing.py:1738: SettingWithCopyWarning: \n",
            "A value is trying to be set on a copy of a slice from a DataFrame.\n",
            "Try using .loc[row_indexer,col_indexer] = value instead\n",
            "\n",
            "See the caveats in the documentation: https://pandas.pydata.org/pandas-docs/stable/user_guide/indexing.html#returning-a-view-versus-a-copy\n",
            "  self._setitem_single_column(loc, value[:, i].tolist(), pi)\n"
          ]
        }
      ],
      "source": [
        "numeric = ['registrationyear', 'power', 'kilometer']\n",
        "\n",
        "scaler = StandardScaler()\n",
        "scaler.fit(train_features[numeric])\n",
        "train_features[numeric] = scaler.transform(train_features[numeric])\n",
        "valid_features[numeric] = scaler.transform(valid_features[numeric])\n",
        "test_features[numeric] = scaler.transform(test_features[numeric])"
      ]
    },
    {
      "cell_type": "markdown",
      "metadata": {
        "id": "eppzaLSgcwkq"
      },
      "source": [
        "### CatBoost"
      ]
    },
    {
      "cell_type": "code",
      "execution_count": null,
      "metadata": {
        "scrolled": false,
        "id": "BzssGGdOcwkr",
        "outputId": "c2cdb22f-81a5-4ac8-8454-2d39a1d76a2e"
      },
      "outputs": [
        {
          "name": "stdout",
          "output_type": "stream",
          "text": [
            "Learning rate set to 0.178747\n",
            "0:\tlearn: 4252.3123584\ttotal: 169ms\tremaining: 1m 7s\n",
            "10:\tlearn: 2407.1764120\ttotal: 1.26s\tremaining: 44.5s\n",
            "20:\tlearn: 2094.1139841\ttotal: 2.03s\tremaining: 36.7s\n",
            "30:\tlearn: 1995.4060636\ttotal: 2.83s\tremaining: 33.6s\n",
            "40:\tlearn: 1943.3644455\ttotal: 3.63s\tremaining: 31.8s\n",
            "50:\tlearn: 1909.6893853\ttotal: 4.4s\tremaining: 30.1s\n",
            "60:\tlearn: 1882.7136172\ttotal: 5.09s\tremaining: 28.3s\n",
            "70:\tlearn: 1861.6590355\ttotal: 5.94s\tremaining: 27.5s\n",
            "80:\tlearn: 1845.3731802\ttotal: 6.79s\tremaining: 26.8s\n",
            "90:\tlearn: 1830.6128348\ttotal: 7.51s\tremaining: 25.5s\n",
            "100:\tlearn: 1817.9263496\ttotal: 8.23s\tremaining: 24.4s\n",
            "110:\tlearn: 1806.7353701\ttotal: 8.97s\tremaining: 23.3s\n",
            "120:\tlearn: 1798.7795019\ttotal: 9.75s\tremaining: 22.5s\n",
            "130:\tlearn: 1790.9232579\ttotal: 10.4s\tremaining: 21.4s\n",
            "140:\tlearn: 1784.1754896\ttotal: 11.2s\tremaining: 20.7s\n",
            "150:\tlearn: 1776.7906169\ttotal: 12.1s\tremaining: 19.9s\n",
            "160:\tlearn: 1773.5170610\ttotal: 12.8s\tremaining: 19s\n",
            "170:\tlearn: 1768.0665895\ttotal: 13.5s\tremaining: 18.1s\n",
            "180:\tlearn: 1763.0714163\ttotal: 14.3s\tremaining: 17.3s\n",
            "190:\tlearn: 1758.0084453\ttotal: 15.1s\tremaining: 16.5s\n",
            "200:\tlearn: 1753.2595698\ttotal: 15.9s\tremaining: 15.8s\n",
            "210:\tlearn: 1749.2333777\ttotal: 16.7s\tremaining: 15s\n",
            "220:\tlearn: 1746.0796541\ttotal: 17.4s\tremaining: 14.1s\n",
            "230:\tlearn: 1741.7211802\ttotal: 18.2s\tremaining: 13.3s\n",
            "240:\tlearn: 1736.8886135\ttotal: 19s\tremaining: 12.5s\n",
            "250:\tlearn: 1733.1338969\ttotal: 19.9s\tremaining: 11.8s\n",
            "260:\tlearn: 1729.9529672\ttotal: 20.9s\tremaining: 11.1s\n",
            "270:\tlearn: 1727.3022621\ttotal: 21.7s\tremaining: 10.4s\n",
            "280:\tlearn: 1724.9761459\ttotal: 22.5s\tremaining: 9.55s\n",
            "290:\tlearn: 1721.8927864\ttotal: 23.5s\tremaining: 8.82s\n",
            "300:\tlearn: 1719.6591682\ttotal: 24.4s\tremaining: 8.04s\n",
            "310:\tlearn: 1716.7098500\ttotal: 25.3s\tremaining: 7.25s\n",
            "320:\tlearn: 1714.1428391\ttotal: 26.2s\tremaining: 6.46s\n",
            "330:\tlearn: 1712.6443487\ttotal: 27.1s\tremaining: 5.65s\n",
            "340:\tlearn: 1711.5070253\ttotal: 28.1s\tremaining: 4.86s\n",
            "350:\tlearn: 1708.6171595\ttotal: 28.9s\tremaining: 4.03s\n",
            "360:\tlearn: 1706.8612797\ttotal: 29.7s\tremaining: 3.21s\n",
            "370:\tlearn: 1704.6239683\ttotal: 30.5s\tremaining: 2.38s\n",
            "380:\tlearn: 1702.5811136\ttotal: 31.3s\tremaining: 1.56s\n",
            "390:\tlearn: 1700.8627493\ttotal: 32.1s\tremaining: 738ms\n",
            "399:\tlearn: 1699.2140908\ttotal: 32.7s\tremaining: 0us\n",
            "RMSE 1749.5234701045774\n",
            "CPU times: user 32.6 s, sys: 560 ms, total: 33.2 s\n",
            "Wall time: 34.1 s\n"
          ]
        }
      ],
      "source": [
        "%%time\n",
        "\n",
        "cat_features = ['vehicletype', 'gearbox', 'model', 'fueltype', 'brand', 'repaired']\n",
        "\n",
        "model_cat_boost = CatBoostRegressor(loss_function='RMSE', depth=5, iterations=400)\n",
        "model_cat_boost.fit(train_features, train_target, cat_features=cat_features, verbose=10)\n",
        "predictions = model_cat_boost.predict(valid_features)\n",
        "print('RMSE', sqrt(mean_squared_error(valid_target, predictions)))"
      ]
    },
    {
      "cell_type": "markdown",
      "metadata": {
        "id": "2uQZ2OHmcwkt"
      },
      "source": [
        "### Прямое кодирование"
      ]
    },
    {
      "cell_type": "code",
      "execution_count": null,
      "metadata": {
        "id": "YaWlBBW0cwkt",
        "outputId": "c2c66b99-7ffe-4533-a335-6ef60590652f"
      },
      "outputs": [
        {
          "data": {
            "text/plain": [
              "(167967, 10)"
            ]
          },
          "metadata": {},
          "output_type": "display_data"
        },
        {
          "data": {
            "text/plain": [
              "(167967, 302)"
            ]
          },
          "metadata": {},
          "output_type": "display_data"
        }
      ],
      "source": [
        "df_ohe = pd.get_dummies(df, drop_first=True)\n",
        "display(df.shape)\n",
        "display(df_ohe.shape)"
      ]
    },
    {
      "cell_type": "code",
      "execution_count": null,
      "metadata": {
        "id": "DADs9XWUcwkw",
        "outputId": "f572b896-57e8-47c7-f4d5-e92ff6356df4"
      },
      "outputs": [
        {
          "data": {
            "text/plain": [
              "(100780, 301)"
            ]
          },
          "metadata": {},
          "output_type": "display_data"
        },
        {
          "data": {
            "text/plain": [
              "(100780,)"
            ]
          },
          "metadata": {},
          "output_type": "display_data"
        },
        {
          "data": {
            "text/plain": [
              "(33593, 301)"
            ]
          },
          "metadata": {},
          "output_type": "display_data"
        },
        {
          "data": {
            "text/plain": [
              "(33593,)"
            ]
          },
          "metadata": {},
          "output_type": "display_data"
        },
        {
          "data": {
            "text/plain": [
              "(33594, 301)"
            ]
          },
          "metadata": {},
          "output_type": "display_data"
        },
        {
          "data": {
            "text/plain": [
              "(33594,)"
            ]
          },
          "metadata": {},
          "output_type": "display_data"
        }
      ],
      "source": [
        "features_ohe = df_ohe.drop('price', axis=1)\n",
        "target_ohe = df_ohe['price']\n",
        "train_features_ohe, valid_test_features_ohe, train_target_ohe, valid_test_target_ohe = train_test_split(features_ohe, target_ohe, test_size=0.4, random_state=STATE)\n",
        "valid_features_ohe, test_features_ohe, valid_target_ohe, test_target_ohe = train_test_split(valid_test_features_ohe, valid_test_target_ohe, test_size=0.5, random_state=STATE)\n",
        "\n",
        "display(train_features_ohe.shape)\n",
        "display(train_target_ohe.shape)\n",
        "display(valid_features_ohe.shape)\n",
        "display(valid_target_ohe.shape)\n",
        "display(test_features_ohe.shape)\n",
        "display(test_target_ohe.shape)"
      ]
    },
    {
      "cell_type": "markdown",
      "metadata": {
        "id": "FUXFnuQ5cwkx"
      },
      "source": [
        "### LightGBM"
      ]
    },
    {
      "cell_type": "code",
      "execution_count": null,
      "metadata": {
        "scrolled": true,
        "id": "JL0JTNs9cwkx",
        "outputId": "8c9a75eb-6b7e-4754-d9ff-ca153f5caebb"
      },
      "outputs": [
        {
          "name": "stderr",
          "output_type": "stream",
          "text": [
            "  0%|          | 0/5 [00:00<?, ?it/s]"
          ]
        },
        {
          "name": "stdout",
          "output_type": "stream",
          "text": [
            "[LightGBM] [Warning] num_leaves is set=31, max_leaves=1 will be ignored. Current value: num_leaves=31\n",
            "[LightGBM] [Warning] num_leaves is set=31, max_leaves=3 will be ignored. Current value: num_leaves=31\n",
            "[LightGBM] [Warning] num_leaves is set=31, max_leaves=1 will be ignored. Current value: num_leaves=31\n",
            "[LightGBM] [Warning] num_leaves is set=31, max_leaves=3 will be ignored. Current value: num_leaves=31\n"
          ]
        },
        {
          "name": "stderr",
          "output_type": "stream",
          "text": [
            " 20%|██        | 1/5 [00:11<00:46, 11.73s/it]"
          ]
        },
        {
          "name": "stdout",
          "output_type": "stream",
          "text": [
            "[LightGBM] [Warning] num_leaves is set=31, max_leaves=1 will be ignored. Current value: num_leaves=31\n",
            "[LightGBM] [Warning] num_leaves is set=31, max_leaves=3 will be ignored. Current value: num_leaves=31\n",
            "[LightGBM] [Warning] num_leaves is set=31, max_leaves=1 will be ignored. Current value: num_leaves=31\n",
            "[LightGBM] [Warning] num_leaves is set=31, max_leaves=3 will be ignored. Current value: num_leaves=31\n"
          ]
        },
        {
          "name": "stderr",
          "output_type": "stream",
          "text": [
            " 40%|████      | 2/5 [00:27<00:42, 14.30s/it]"
          ]
        },
        {
          "name": "stdout",
          "output_type": "stream",
          "text": [
            "[LightGBM] [Warning] num_leaves is set=31, max_leaves=1 will be ignored. Current value: num_leaves=31\n",
            "[LightGBM] [Warning] num_leaves is set=31, max_leaves=3 will be ignored. Current value: num_leaves=31\n",
            "[LightGBM] [Warning] num_leaves is set=31, max_leaves=1 will be ignored. Current value: num_leaves=31\n",
            "[LightGBM] [Warning] num_leaves is set=31, max_leaves=3 will be ignored. Current value: num_leaves=31\n"
          ]
        },
        {
          "name": "stderr",
          "output_type": "stream",
          "text": [
            " 60%|██████    | 3/5 [00:48<00:34, 17.03s/it]"
          ]
        },
        {
          "name": "stdout",
          "output_type": "stream",
          "text": [
            "[LightGBM] [Warning] num_leaves is set=31, max_leaves=1 will be ignored. Current value: num_leaves=31\n",
            "[LightGBM] [Warning] num_leaves is set=31, max_leaves=3 will be ignored. Current value: num_leaves=31\n",
            "[LightGBM] [Warning] num_leaves is set=31, max_leaves=1 will be ignored. Current value: num_leaves=31\n",
            "[LightGBM] [Warning] num_leaves is set=31, max_leaves=3 will be ignored. Current value: num_leaves=31\n"
          ]
        },
        {
          "name": "stderr",
          "output_type": "stream",
          "text": [
            " 80%|████████  | 4/5 [01:12<00:19, 19.79s/it]"
          ]
        },
        {
          "name": "stdout",
          "output_type": "stream",
          "text": [
            "[LightGBM] [Warning] num_leaves is set=31, max_leaves=1 will be ignored. Current value: num_leaves=31\n",
            "[LightGBM] [Warning] num_leaves is set=31, max_leaves=3 will be ignored. Current value: num_leaves=31\n",
            "[LightGBM] [Warning] num_leaves is set=31, max_leaves=1 will be ignored. Current value: num_leaves=31\n",
            "[LightGBM] [Warning] num_leaves is set=31, max_leaves=3 will be ignored. Current value: num_leaves=31\n"
          ]
        },
        {
          "name": "stderr",
          "output_type": "stream",
          "text": [
            "100%|██████████| 5/5 [01:37<00:00, 19.56s/it]"
          ]
        },
        {
          "name": "stdout",
          "output_type": "stream",
          "text": [
            "Лучшее количество деревьев: 9\n",
            "Лучшая глубина деревьев: 3\n",
            "Лучшее количество терминальных узлов: 3\n",
            "Лучший квадратный корень среднеквадратичной ошибки: 3219.24422372322\n",
            "CPU times: user 1min 32s, sys: 4.43 s, total: 1min 37s\n",
            "Wall time: 1min 37s\n"
          ]
        },
        {
          "name": "stderr",
          "output_type": "stream",
          "text": [
            "\n"
          ]
        }
      ],
      "source": [
        "%%time\n",
        "\n",
        "best_rmse = 1000000\n",
        "n_estimators = 0\n",
        "max_depth = 0\n",
        "max_leaves = 0\n",
        "\n",
        "for n_estimators in tqdm(range(1,11, 2)):\n",
        "    for max_depth in range(1, 5, 2):\n",
        "        for max_leaves in range(1, 5, 2):\n",
        "            model_lgbm = LGBMRegressor(n_estimators=n_estimators, max_depth=max_depth, max_leaves=max_leaves)\n",
        "            model_lgbm.fit(train_features_ohe, train_target_ohe)\n",
        "            predictions = model_lgbm.predict(valid_features_ohe)\n",
        "            rmse = sqrt(mean_squared_error(valid_target_ohe, predictions))\n",
        "    if rmse < best_rmse:\n",
        "        best_rmse = rmse\n",
        "        best_n_estimators = n_estimators\n",
        "        best_max_depth = max_depth\n",
        "        best_max_leaves = max_leaves\n",
        "\n",
        "print('Лучшее количество деревьев:', best_n_estimators)\n",
        "print('Лучшая глубина деревьев:', best_max_depth)\n",
        "print('Лучшее количество терминальных узлов:', best_max_leaves)\n",
        "print('Лучший квадратный корень среднеквадратичной ошибки:', best_rmse)"
      ]
    },
    {
      "cell_type": "markdown",
      "metadata": {
        "id": "Hhf_vy_ncwky"
      },
      "source": [
        "### RandomForestRegressor"
      ]
    },
    {
      "cell_type": "code",
      "execution_count": null,
      "metadata": {
        "id": "8mXe9oRfcwky",
        "outputId": "a42334fc-620b-4051-d205-f10053057ac5"
      },
      "outputs": [
        {
          "name": "stderr",
          "output_type": "stream",
          "text": [
            "100%|██████████| 5/5 [00:14<00:00,  2.99s/it]"
          ]
        },
        {
          "name": "stdout",
          "output_type": "stream",
          "text": [
            "Лучшее количество деревьев: 5\n",
            "Лучшая глубина деревьев: 3\n",
            "Лучший квадратный корень среднеквадратичной ошибки: 3110.0914000801968\n",
            "CPU times: user 13.5 s, sys: 1.45 s, total: 14.9 s\n",
            "Wall time: 14.9 s\n"
          ]
        },
        {
          "name": "stderr",
          "output_type": "stream",
          "text": [
            "\n"
          ]
        }
      ],
      "source": [
        "%%time\n",
        "\n",
        "best_rmse = 1000000\n",
        "n_estimators = 0\n",
        "max_depth = 0\n",
        "\n",
        "for n_estimators in tqdm(range(1,11, 2)):\n",
        "    for max_depth in range(1, 5, 2):\n",
        "        model_rfr = RandomForestRegressor(n_estimators=n_estimators, max_depth=max_depth)\n",
        "        model_rfr.fit(train_features_ohe, train_target_ohe)\n",
        "        predictions = model_rfr.predict(valid_features_ohe)\n",
        "        rmse = sqrt(mean_squared_error(valid_target_ohe, predictions))\n",
        "    if rmse < best_rmse:\n",
        "        best_rmse = rmse\n",
        "        best_n_estimators = n_estimators\n",
        "        best_max_depth = max_depth\n",
        "\n",
        "print('Лучшее количество деревьев:', best_n_estimators)\n",
        "print('Лучшая глубина деревьев:', best_max_depth)\n",
        "print('Лучший квадратный корень среднеквадратичной ошибки:', best_rmse)"
      ]
    },
    {
      "cell_type": "markdown",
      "metadata": {
        "id": "muYapMqfcwkz"
      },
      "source": [
        "Выберем CatBoost, так как среднеквадратичная ошибка ниже на порядок, а время по сравнению с случайным лесом, который работает 10 секунд, самой быстрой моделью из представленных, отличается на 20 секунд. Считаю это некритичным, так как ошибка отличается почти в два раза."
      ]
    },
    {
      "cell_type": "markdown",
      "metadata": {
        "id": "7uEAHJl1cwk0"
      },
      "source": [
        "## Анализ моделей"
      ]
    },
    {
      "cell_type": "code",
      "execution_count": null,
      "metadata": {
        "id": "CN46Y36Ycwk0",
        "outputId": "394cbed3-b896-4648-f720-38a9aec19a30"
      },
      "outputs": [
        {
          "name": "stdout",
          "output_type": "stream",
          "text": [
            "RMSE 1738.2963981695368\n",
            "CPU times: user 105 ms, sys: 7.76 ms, total: 112 ms\n",
            "Wall time: 109 ms\n"
          ]
        }
      ],
      "source": [
        "%%time\n",
        "\n",
        "predictions = model_cat_boost.predict(test_features)\n",
        "print('RMSE', sqrt(mean_squared_error(test_target, predictions)))"
      ]
    },
    {
      "cell_type": "markdown",
      "metadata": {
        "id": "3dp2m-lNcwk2"
      },
      "source": [
        "Получил отличный результат за достаточное короткое время выполнения кода."
      ]
    },
    {
      "cell_type": "markdown",
      "metadata": {
        "id": "AERShiepcwk2"
      },
      "source": [
        "## Общий вывод"
      ]
    },
    {
      "cell_type": "markdown",
      "metadata": {
        "id": "u9rKJmR9cwk2"
      },
      "source": [
        "Я изучил данные, удалил ненужные столбцы, обработал пропуски и дубликаты. Также мною были обработаны аномалии. Разделил на выборки, провёл стандартизацию данных. При помощи градиентного бустинга CatBoost и LightGBM, а также RandomForestRegressor получил среднеквадричтную ошибку. Для LightGBM и RandomForestRegressor произвёл прямое кодирование.\n",
        "\n",
        "По данным выяснил, что лучше всего результат у CatBoost, проверил его на тестовых данных и получил маленькое значение среднеквадратичной ошибки за крайне короткое время выполнение кода."
      ]
    },
    {
      "cell_type": "code",
      "execution_count": null,
      "metadata": {
        "id": "tXFUkYcQcwk5"
      },
      "outputs": [],
      "source": []
    }
  ],
  "metadata": {
    "ExecuteTimeLog": [
      {
        "duration": 3,
        "start_time": "2023-06-08T15:25:28.554Z"
      },
      {
        "duration": 1060,
        "start_time": "2023-06-08T15:28:07.926Z"
      },
      {
        "duration": 160,
        "start_time": "2023-06-08T15:36:40.937Z"
      },
      {
        "duration": 118,
        "start_time": "2023-06-08T15:37:03.427Z"
      },
      {
        "duration": 189,
        "start_time": "2023-06-08T15:41:25.023Z"
      },
      {
        "duration": 140,
        "start_time": "2023-06-08T15:41:33.792Z"
      },
      {
        "duration": 164,
        "start_time": "2023-06-08T15:43:24.728Z"
      },
      {
        "duration": 12,
        "start_time": "2023-06-08T15:44:19.798Z"
      },
      {
        "duration": 2293,
        "start_time": "2023-06-08T15:45:16.043Z"
      },
      {
        "duration": 1932,
        "start_time": "2023-06-08T15:47:19.542Z"
      },
      {
        "duration": 2047,
        "start_time": "2023-06-08T15:48:44.117Z"
      },
      {
        "duration": 1951,
        "start_time": "2023-06-08T15:48:51.818Z"
      },
      {
        "duration": 67,
        "start_time": "2023-06-08T15:49:02.040Z"
      },
      {
        "duration": 4,
        "start_time": "2023-06-08T15:51:39.263Z"
      },
      {
        "duration": 11,
        "start_time": "2023-06-08T15:51:51.823Z"
      },
      {
        "duration": 6,
        "start_time": "2023-06-08T15:53:10.957Z"
      },
      {
        "duration": 8,
        "start_time": "2023-06-08T15:53:34.960Z"
      },
      {
        "duration": 7,
        "start_time": "2023-06-08T15:55:59.836Z"
      },
      {
        "duration": 129,
        "start_time": "2023-06-08T15:56:02.574Z"
      },
      {
        "duration": 3,
        "start_time": "2023-06-08T15:58:37.977Z"
      },
      {
        "duration": 1132,
        "start_time": "2023-06-08T15:58:38.277Z"
      },
      {
        "duration": 19,
        "start_time": "2023-06-08T15:58:39.411Z"
      },
      {
        "duration": 140,
        "start_time": "2023-06-08T15:58:42.722Z"
      },
      {
        "duration": 1433,
        "start_time": "2023-06-08T15:58:54.213Z"
      },
      {
        "duration": 84,
        "start_time": "2023-06-08T15:59:48.221Z"
      },
      {
        "duration": 135,
        "start_time": "2023-06-08T16:02:53.904Z"
      },
      {
        "duration": 262,
        "start_time": "2023-06-08T16:04:18.651Z"
      },
      {
        "duration": 347,
        "start_time": "2023-06-08T16:04:50.952Z"
      },
      {
        "duration": 278,
        "start_time": "2023-06-08T16:06:37.739Z"
      },
      {
        "duration": 4,
        "start_time": "2023-06-08T16:06:41.010Z"
      },
      {
        "duration": 3,
        "start_time": "2023-06-08T16:07:06.517Z"
      },
      {
        "duration": 326,
        "start_time": "2023-06-08T16:08:26.988Z"
      },
      {
        "duration": 337,
        "start_time": "2023-06-08T16:08:32.122Z"
      },
      {
        "duration": 357,
        "start_time": "2023-06-08T16:10:37.186Z"
      },
      {
        "duration": 352,
        "start_time": "2023-06-08T16:10:50.510Z"
      },
      {
        "duration": 679,
        "start_time": "2023-06-08T16:10:57.034Z"
      },
      {
        "duration": 342,
        "start_time": "2023-06-08T16:11:00.685Z"
      },
      {
        "duration": 3,
        "start_time": "2023-06-08T16:11:36.214Z"
      },
      {
        "duration": 1128,
        "start_time": "2023-06-08T16:11:36.560Z"
      },
      {
        "duration": 5,
        "start_time": "2023-06-08T16:11:37.691Z"
      },
      {
        "duration": 162,
        "start_time": "2023-06-08T16:11:38.680Z"
      },
      {
        "duration": 78,
        "start_time": "2023-06-08T16:11:39.142Z"
      },
      {
        "duration": 147,
        "start_time": "2023-06-08T16:11:39.609Z"
      },
      {
        "duration": 268,
        "start_time": "2023-06-08T16:11:40.373Z"
      },
      {
        "duration": 6,
        "start_time": "2023-06-08T16:11:41.093Z"
      },
      {
        "duration": 23,
        "start_time": "2023-06-08T16:11:42.152Z"
      },
      {
        "duration": 376,
        "start_time": "2023-06-08T16:11:43.413Z"
      },
      {
        "duration": 797,
        "start_time": "2023-06-08T16:11:45.100Z"
      },
      {
        "duration": 436,
        "start_time": "2023-06-09T09:38:45.922Z"
      },
      {
        "duration": 1421,
        "start_time": "2023-06-09T09:38:46.360Z"
      },
      {
        "duration": 6,
        "start_time": "2023-06-09T09:38:47.783Z"
      },
      {
        "duration": 141,
        "start_time": "2023-06-09T09:38:47.791Z"
      },
      {
        "duration": 76,
        "start_time": "2023-06-09T09:38:47.935Z"
      },
      {
        "duration": 122,
        "start_time": "2023-06-09T09:38:48.013Z"
      },
      {
        "duration": 236,
        "start_time": "2023-06-09T09:38:49.228Z"
      },
      {
        "duration": 5,
        "start_time": "2023-06-09T09:38:50.218Z"
      },
      {
        "duration": 18,
        "start_time": "2023-06-09T09:38:51.944Z"
      },
      {
        "duration": 387,
        "start_time": "2023-06-09T09:38:55.430Z"
      },
      {
        "duration": 814,
        "start_time": "2023-06-09T09:38:58.696Z"
      },
      {
        "duration": 714,
        "start_time": "2023-06-09T09:41:25.503Z"
      },
      {
        "duration": 100,
        "start_time": "2023-06-09T09:47:58.963Z"
      },
      {
        "duration": 2,
        "start_time": "2023-06-09T09:50:10.321Z"
      },
      {
        "duration": 92,
        "start_time": "2023-06-09T09:51:32.567Z"
      },
      {
        "duration": 50,
        "start_time": "2023-06-09T09:51:54.703Z"
      },
      {
        "duration": 1236,
        "start_time": "2023-06-09T09:52:01.007Z"
      },
      {
        "duration": 1307,
        "start_time": "2023-06-09T09:52:02.245Z"
      },
      {
        "duration": 5,
        "start_time": "2023-06-09T09:52:03.554Z"
      },
      {
        "duration": 114,
        "start_time": "2023-06-09T09:52:03.561Z"
      },
      {
        "duration": 70,
        "start_time": "2023-06-09T09:52:03.678Z"
      },
      {
        "duration": 117,
        "start_time": "2023-06-09T09:52:03.750Z"
      },
      {
        "duration": 230,
        "start_time": "2023-06-09T09:52:03.868Z"
      },
      {
        "duration": 5,
        "start_time": "2023-06-09T09:52:04.100Z"
      },
      {
        "duration": 44,
        "start_time": "2023-06-09T09:52:04.107Z"
      },
      {
        "duration": 411,
        "start_time": "2023-06-09T09:52:04.154Z"
      },
      {
        "duration": 746,
        "start_time": "2023-06-09T09:52:04.568Z"
      },
      {
        "duration": 87,
        "start_time": "2023-06-09T09:52:05.316Z"
      },
      {
        "duration": 49,
        "start_time": "2023-06-09T09:52:21.817Z"
      },
      {
        "duration": 6,
        "start_time": "2023-06-09T09:52:27.838Z"
      },
      {
        "duration": 6,
        "start_time": "2023-06-09T09:52:28.186Z"
      },
      {
        "duration": 1132,
        "start_time": "2023-06-09T09:52:57.568Z"
      },
      {
        "duration": 1322,
        "start_time": "2023-06-09T09:52:58.703Z"
      },
      {
        "duration": 4,
        "start_time": "2023-06-09T09:53:00.027Z"
      },
      {
        "duration": 137,
        "start_time": "2023-06-09T09:53:00.033Z"
      },
      {
        "duration": 80,
        "start_time": "2023-06-09T09:53:00.172Z"
      },
      {
        "duration": 111,
        "start_time": "2023-06-09T09:53:00.253Z"
      },
      {
        "duration": 226,
        "start_time": "2023-06-09T09:53:00.366Z"
      },
      {
        "duration": 4,
        "start_time": "2023-06-09T09:53:00.593Z"
      },
      {
        "duration": 43,
        "start_time": "2023-06-09T09:53:00.598Z"
      },
      {
        "duration": 425,
        "start_time": "2023-06-09T09:53:00.643Z"
      },
      {
        "duration": 788,
        "start_time": "2023-06-09T09:53:01.069Z"
      },
      {
        "duration": 100,
        "start_time": "2023-06-09T09:53:01.860Z"
      },
      {
        "duration": 50,
        "start_time": "2023-06-09T09:53:25.900Z"
      },
      {
        "duration": 6,
        "start_time": "2023-06-09T09:53:28.092Z"
      },
      {
        "duration": 1425,
        "start_time": "2023-06-09T09:54:42.494Z"
      },
      {
        "duration": 1310,
        "start_time": "2023-06-09T09:54:43.920Z"
      },
      {
        "duration": 5,
        "start_time": "2023-06-09T09:54:45.241Z"
      },
      {
        "duration": 111,
        "start_time": "2023-06-09T09:54:45.248Z"
      },
      {
        "duration": 60,
        "start_time": "2023-06-09T09:54:45.361Z"
      },
      {
        "duration": 136,
        "start_time": "2023-06-09T09:54:45.423Z"
      },
      {
        "duration": 208,
        "start_time": "2023-06-09T09:54:45.561Z"
      },
      {
        "duration": 4,
        "start_time": "2023-06-09T09:54:45.771Z"
      },
      {
        "duration": 16,
        "start_time": "2023-06-09T09:54:46.036Z"
      },
      {
        "duration": 370,
        "start_time": "2023-06-09T09:54:46.672Z"
      },
      {
        "duration": 708,
        "start_time": "2023-06-09T09:54:47.302Z"
      },
      {
        "duration": 85,
        "start_time": "2023-06-09T09:54:48.012Z"
      },
      {
        "duration": 1117,
        "start_time": "2023-06-09T09:55:22.978Z"
      },
      {
        "duration": 1289,
        "start_time": "2023-06-09T09:55:24.097Z"
      },
      {
        "duration": 4,
        "start_time": "2023-06-09T09:55:25.387Z"
      },
      {
        "duration": 116,
        "start_time": "2023-06-09T09:55:25.393Z"
      },
      {
        "duration": 66,
        "start_time": "2023-06-09T09:55:25.510Z"
      },
      {
        "duration": 113,
        "start_time": "2023-06-09T09:55:25.578Z"
      },
      {
        "duration": 230,
        "start_time": "2023-06-09T09:55:25.692Z"
      },
      {
        "duration": 4,
        "start_time": "2023-06-09T09:55:25.923Z"
      },
      {
        "duration": 35,
        "start_time": "2023-06-09T09:55:25.929Z"
      },
      {
        "duration": 373,
        "start_time": "2023-06-09T09:55:25.966Z"
      },
      {
        "duration": 729,
        "start_time": "2023-06-09T09:55:26.695Z"
      },
      {
        "duration": 83,
        "start_time": "2023-06-09T09:55:27.747Z"
      },
      {
        "duration": 1019,
        "start_time": "2023-06-09T09:57:09.987Z"
      },
      {
        "duration": 1280,
        "start_time": "2023-06-09T09:57:11.008Z"
      },
      {
        "duration": 5,
        "start_time": "2023-06-09T09:57:12.289Z"
      },
      {
        "duration": 106,
        "start_time": "2023-06-09T09:57:13.707Z"
      },
      {
        "duration": 62,
        "start_time": "2023-06-09T09:57:14.426Z"
      },
      {
        "duration": 103,
        "start_time": "2023-06-09T09:57:14.976Z"
      },
      {
        "duration": 212,
        "start_time": "2023-06-09T09:57:16.046Z"
      },
      {
        "duration": 4,
        "start_time": "2023-06-09T09:57:16.672Z"
      },
      {
        "duration": 17,
        "start_time": "2023-06-09T09:57:17.106Z"
      },
      {
        "duration": 399,
        "start_time": "2023-06-09T09:57:18.018Z"
      },
      {
        "duration": 711,
        "start_time": "2023-06-09T09:57:18.776Z"
      },
      {
        "duration": 1169,
        "start_time": "2023-06-09T09:58:03.807Z"
      },
      {
        "duration": 1352,
        "start_time": "2023-06-09T09:58:04.978Z"
      },
      {
        "duration": 5,
        "start_time": "2023-06-09T09:58:06.331Z"
      },
      {
        "duration": 118,
        "start_time": "2023-06-09T09:58:06.342Z"
      },
      {
        "duration": 61,
        "start_time": "2023-06-09T09:58:06.461Z"
      },
      {
        "duration": 106,
        "start_time": "2023-06-09T09:58:06.542Z"
      },
      {
        "duration": 229,
        "start_time": "2023-06-09T09:58:06.649Z"
      },
      {
        "duration": 4,
        "start_time": "2023-06-09T09:58:06.880Z"
      },
      {
        "duration": 21,
        "start_time": "2023-06-09T09:58:06.885Z"
      },
      {
        "duration": 378,
        "start_time": "2023-06-09T09:58:07.333Z"
      },
      {
        "duration": 813,
        "start_time": "2023-06-09T09:58:08.008Z"
      },
      {
        "duration": 14,
        "start_time": "2023-06-09T09:58:09.007Z"
      },
      {
        "duration": 113,
        "start_time": "2023-06-09T10:04:15.797Z"
      },
      {
        "duration": 21,
        "start_time": "2023-06-09T10:04:31.375Z"
      },
      {
        "duration": 51,
        "start_time": "2023-06-09T10:05:00.975Z"
      },
      {
        "duration": 50,
        "start_time": "2023-06-09T10:05:09.915Z"
      },
      {
        "duration": 47,
        "start_time": "2023-06-09T10:05:11.611Z"
      },
      {
        "duration": 3,
        "start_time": "2023-06-09T10:05:45.494Z"
      },
      {
        "duration": 1059,
        "start_time": "2023-06-09T10:05:45.671Z"
      },
      {
        "duration": 11,
        "start_time": "2023-06-09T10:05:46.732Z"
      },
      {
        "duration": 44,
        "start_time": "2023-06-09T10:05:46.745Z"
      },
      {
        "duration": 67,
        "start_time": "2023-06-09T10:05:46.918Z"
      },
      {
        "duration": 60,
        "start_time": "2023-06-09T10:05:47.181Z"
      },
      {
        "duration": 67,
        "start_time": "2023-06-09T10:05:47.438Z"
      },
      {
        "duration": 174,
        "start_time": "2023-06-09T10:05:48.302Z"
      },
      {
        "duration": 4,
        "start_time": "2023-06-09T10:06:02.594Z"
      },
      {
        "duration": 10,
        "start_time": "2023-06-09T10:06:02.835Z"
      },
      {
        "duration": 112,
        "start_time": "2023-06-09T10:06:03.731Z"
      },
      {
        "duration": 211,
        "start_time": "2023-06-09T10:06:04.478Z"
      },
      {
        "duration": 3,
        "start_time": "2023-06-09T10:06:53.934Z"
      },
      {
        "duration": 1102,
        "start_time": "2023-06-09T10:06:54.166Z"
      },
      {
        "duration": 7,
        "start_time": "2023-06-09T10:06:55.271Z"
      },
      {
        "duration": 74,
        "start_time": "2023-06-09T10:06:55.280Z"
      },
      {
        "duration": 76,
        "start_time": "2023-06-09T10:06:55.882Z"
      },
      {
        "duration": 60,
        "start_time": "2023-06-09T10:07:01.474Z"
      },
      {
        "duration": 77,
        "start_time": "2023-06-09T10:07:02.431Z"
      },
      {
        "duration": 164,
        "start_time": "2023-06-09T10:07:13.310Z"
      },
      {
        "duration": 4,
        "start_time": "2023-06-09T10:07:13.721Z"
      },
      {
        "duration": 5,
        "start_time": "2023-06-09T10:07:17.858Z"
      },
      {
        "duration": 121,
        "start_time": "2023-06-09T10:09:28.700Z"
      },
      {
        "duration": 4,
        "start_time": "2023-06-09T10:10:43.574Z"
      },
      {
        "duration": 1139,
        "start_time": "2023-06-09T10:10:43.882Z"
      },
      {
        "duration": 20,
        "start_time": "2023-06-09T10:10:45.024Z"
      },
      {
        "duration": 68,
        "start_time": "2023-06-09T10:10:45.056Z"
      },
      {
        "duration": 84,
        "start_time": "2023-06-09T10:10:46.039Z"
      },
      {
        "duration": 72,
        "start_time": "2023-06-09T10:10:46.733Z"
      },
      {
        "duration": 89,
        "start_time": "2023-06-09T10:10:47.097Z"
      },
      {
        "duration": 177,
        "start_time": "2023-06-09T10:10:48.172Z"
      },
      {
        "duration": 6,
        "start_time": "2023-06-09T10:10:52.208Z"
      },
      {
        "duration": 180,
        "start_time": "2023-06-09T10:10:55.518Z"
      },
      {
        "duration": 180,
        "start_time": "2023-06-09T10:11:20.710Z"
      },
      {
        "duration": 351,
        "start_time": "2023-06-09T10:12:37.609Z"
      },
      {
        "duration": 1112,
        "start_time": "2023-06-09T10:13:27.731Z"
      },
      {
        "duration": 883,
        "start_time": "2023-06-09T10:13:41.949Z"
      },
      {
        "duration": 1108,
        "start_time": "2023-06-09T10:16:27.775Z"
      },
      {
        "duration": 17,
        "start_time": "2023-06-09T10:22:03.910Z"
      },
      {
        "duration": 857,
        "start_time": "2023-06-09T10:33:43.426Z"
      },
      {
        "duration": 285,
        "start_time": "2023-06-09T10:39:30.829Z"
      },
      {
        "duration": 3,
        "start_time": "2023-06-09T10:39:36.475Z"
      },
      {
        "duration": 529,
        "start_time": "2023-06-09T10:39:37.762Z"
      },
      {
        "duration": 65,
        "start_time": "2023-06-09T10:42:04.906Z"
      },
      {
        "duration": 3,
        "start_time": "2023-06-09T11:22:42.966Z"
      },
      {
        "duration": 1024,
        "start_time": "2023-06-09T11:22:43.484Z"
      },
      {
        "duration": 6,
        "start_time": "2023-06-09T11:22:44.510Z"
      },
      {
        "duration": 45,
        "start_time": "2023-06-09T11:22:46.044Z"
      },
      {
        "duration": 85,
        "start_time": "2023-06-09T11:22:47.727Z"
      },
      {
        "duration": 69,
        "start_time": "2023-06-09T11:22:49.219Z"
      },
      {
        "duration": 67,
        "start_time": "2023-06-09T11:22:51.825Z"
      },
      {
        "duration": 139,
        "start_time": "2023-06-09T11:22:52.454Z"
      },
      {
        "duration": 4,
        "start_time": "2023-06-09T11:22:53.078Z"
      },
      {
        "duration": 174,
        "start_time": "2023-06-09T11:23:05.160Z"
      },
      {
        "duration": 303,
        "start_time": "2023-06-09T11:23:08.535Z"
      },
      {
        "duration": 822,
        "start_time": "2023-06-09T11:23:09.867Z"
      },
      {
        "duration": 2,
        "start_time": "2023-06-09T11:23:16.915Z"
      },
      {
        "duration": 613,
        "start_time": "2023-06-09T11:23:17.994Z"
      },
      {
        "duration": 64,
        "start_time": "2023-06-09T11:23:21.833Z"
      },
      {
        "duration": 10,
        "start_time": "2023-06-09T11:23:24.755Z"
      },
      {
        "duration": 15,
        "start_time": "2023-06-09T11:23:43.079Z"
      },
      {
        "duration": 13,
        "start_time": "2023-06-09T11:24:09.513Z"
      },
      {
        "duration": 28,
        "start_time": "2023-06-09T11:24:28.763Z"
      },
      {
        "duration": 139,
        "start_time": "2023-06-09T11:24:47.905Z"
      },
      {
        "duration": 13,
        "start_time": "2023-06-09T11:25:04.601Z"
      },
      {
        "duration": 146,
        "start_time": "2023-06-09T11:26:20.870Z"
      },
      {
        "duration": 108,
        "start_time": "2023-06-09T11:33:49.542Z"
      },
      {
        "duration": 63,
        "start_time": "2023-06-09T11:33:52.761Z"
      },
      {
        "duration": 136,
        "start_time": "2023-06-09T11:33:53.600Z"
      },
      {
        "duration": 3,
        "start_time": "2023-06-09T14:24:19.829Z"
      },
      {
        "duration": 994,
        "start_time": "2023-06-09T14:24:20.021Z"
      },
      {
        "duration": 4,
        "start_time": "2023-06-09T14:24:21.017Z"
      },
      {
        "duration": 58,
        "start_time": "2023-06-09T14:24:21.023Z"
      },
      {
        "duration": 65,
        "start_time": "2023-06-09T14:24:21.175Z"
      },
      {
        "duration": 64,
        "start_time": "2023-06-09T14:24:21.406Z"
      },
      {
        "duration": 72,
        "start_time": "2023-06-09T14:24:21.610Z"
      },
      {
        "duration": 137,
        "start_time": "2023-06-09T14:24:21.861Z"
      },
      {
        "duration": 5,
        "start_time": "2023-06-09T14:24:22.054Z"
      },
      {
        "duration": 188,
        "start_time": "2023-06-09T14:24:22.729Z"
      },
      {
        "duration": 328,
        "start_time": "2023-06-09T14:24:23.264Z"
      },
      {
        "duration": 3,
        "start_time": "2023-06-09T14:24:24.268Z"
      },
      {
        "duration": 122,
        "start_time": "2023-06-09T14:24:24.799Z"
      },
      {
        "duration": 67,
        "start_time": "2023-06-09T14:24:25.543Z"
      },
      {
        "duration": 136,
        "start_time": "2023-06-09T14:24:26.001Z"
      },
      {
        "duration": 71,
        "start_time": "2023-06-09T14:25:54.937Z"
      },
      {
        "duration": 1195,
        "start_time": "2023-06-09T14:25:55.186Z"
      },
      {
        "duration": 7,
        "start_time": "2023-06-09T14:25:56.384Z"
      },
      {
        "duration": 69,
        "start_time": "2023-06-09T14:25:56.393Z"
      },
      {
        "duration": 84,
        "start_time": "2023-06-09T14:25:56.464Z"
      },
      {
        "duration": 69,
        "start_time": "2023-06-09T14:25:56.550Z"
      },
      {
        "duration": 123,
        "start_time": "2023-06-09T14:25:56.631Z"
      },
      {
        "duration": 152,
        "start_time": "2023-06-09T14:25:56.817Z"
      },
      {
        "duration": 5,
        "start_time": "2023-06-09T14:25:57.036Z"
      },
      {
        "duration": 189,
        "start_time": "2023-06-09T14:25:57.739Z"
      },
      {
        "duration": 347,
        "start_time": "2023-06-09T14:25:59.220Z"
      },
      {
        "duration": 3,
        "start_time": "2023-06-09T14:26:03.993Z"
      },
      {
        "duration": 135,
        "start_time": "2023-06-09T14:26:04.809Z"
      },
      {
        "duration": 67,
        "start_time": "2023-06-09T14:26:05.776Z"
      },
      {
        "duration": 155,
        "start_time": "2023-06-09T14:26:06.089Z"
      },
      {
        "duration": 91,
        "start_time": "2023-06-09T14:30:44.223Z"
      },
      {
        "duration": 23,
        "start_time": "2023-06-09T14:35:17.497Z"
      },
      {
        "duration": 3279,
        "start_time": "2023-06-09T14:36:07.428Z"
      },
      {
        "duration": 20,
        "start_time": "2023-06-09T14:44:27.259Z"
      },
      {
        "duration": 2824,
        "start_time": "2023-06-09T14:46:49.594Z"
      },
      {
        "duration": 2759,
        "start_time": "2023-06-09T14:49:08.963Z"
      },
      {
        "duration": 3037,
        "start_time": "2023-06-09T14:51:02.974Z"
      },
      {
        "duration": 19,
        "start_time": "2023-06-09T14:52:13.914Z"
      },
      {
        "duration": 11,
        "start_time": "2023-06-09T14:53:39.457Z"
      },
      {
        "duration": 3,
        "start_time": "2023-06-09T15:19:59.695Z"
      },
      {
        "duration": 1121,
        "start_time": "2023-06-09T15:19:59.928Z"
      },
      {
        "duration": 5,
        "start_time": "2023-06-09T15:20:01.051Z"
      },
      {
        "duration": 42,
        "start_time": "2023-06-09T15:20:01.158Z"
      },
      {
        "duration": 96,
        "start_time": "2023-06-09T15:20:01.906Z"
      },
      {
        "duration": 61,
        "start_time": "2023-06-09T15:20:02.254Z"
      },
      {
        "duration": 77,
        "start_time": "2023-06-09T15:20:02.617Z"
      },
      {
        "duration": 151,
        "start_time": "2023-06-09T15:20:03.019Z"
      },
      {
        "duration": 5,
        "start_time": "2023-06-09T15:20:03.318Z"
      },
      {
        "duration": 181,
        "start_time": "2023-06-09T15:20:07.329Z"
      },
      {
        "duration": 452,
        "start_time": "2023-06-09T15:20:08.061Z"
      },
      {
        "duration": 3,
        "start_time": "2023-06-09T15:20:09.433Z"
      },
      {
        "duration": 146,
        "start_time": "2023-06-09T15:20:10.099Z"
      },
      {
        "duration": 73,
        "start_time": "2023-06-09T15:20:10.819Z"
      },
      {
        "duration": 134,
        "start_time": "2023-06-09T15:20:11.798Z"
      },
      {
        "duration": 66,
        "start_time": "2023-06-09T15:20:14.466Z"
      },
      {
        "duration": 11,
        "start_time": "2023-06-09T15:20:20.187Z"
      },
      {
        "duration": 2402,
        "start_time": "2023-06-09T15:20:30.926Z"
      },
      {
        "duration": 3518,
        "start_time": "2023-06-09T16:58:50.712Z"
      },
      {
        "duration": 3995,
        "start_time": "2023-06-09T16:59:08.024Z"
      },
      {
        "duration": 3296,
        "start_time": "2023-06-09T16:59:19.821Z"
      },
      {
        "duration": 4358,
        "start_time": "2023-06-09T16:59:53.462Z"
      },
      {
        "duration": 3,
        "start_time": "2023-06-09T17:33:40.272Z"
      },
      {
        "duration": 1118,
        "start_time": "2023-06-09T17:33:40.408Z"
      },
      {
        "duration": 14,
        "start_time": "2023-06-09T17:33:41.529Z"
      },
      {
        "duration": 59,
        "start_time": "2023-06-09T17:33:41.545Z"
      },
      {
        "duration": 83,
        "start_time": "2023-06-09T17:33:41.607Z"
      },
      {
        "duration": 66,
        "start_time": "2023-06-09T17:33:41.988Z"
      },
      {
        "duration": 84,
        "start_time": "2023-06-09T17:33:42.488Z"
      },
      {
        "duration": 136,
        "start_time": "2023-06-09T17:33:42.788Z"
      },
      {
        "duration": 6,
        "start_time": "2023-06-09T17:33:43.160Z"
      },
      {
        "duration": 254,
        "start_time": "2023-06-09T17:33:54.004Z"
      },
      {
        "duration": 372,
        "start_time": "2023-06-09T17:33:54.889Z"
      },
      {
        "duration": 6,
        "start_time": "2023-06-09T17:33:56.065Z"
      },
      {
        "duration": 121,
        "start_time": "2023-06-09T17:33:56.808Z"
      },
      {
        "duration": 96,
        "start_time": "2023-06-09T17:33:58.269Z"
      },
      {
        "duration": 139,
        "start_time": "2023-06-09T17:33:58.797Z"
      },
      {
        "duration": 132,
        "start_time": "2023-06-09T17:34:01.235Z"
      },
      {
        "duration": 10,
        "start_time": "2023-06-09T17:34:30.969Z"
      },
      {
        "duration": 11,
        "start_time": "2023-06-09T17:34:38.329Z"
      },
      {
        "duration": 86,
        "start_time": "2023-06-09T17:34:49.724Z"
      },
      {
        "duration": 240,
        "start_time": "2023-06-09T17:38:46.586Z"
      },
      {
        "duration": 84,
        "start_time": "2023-06-09T17:38:59.102Z"
      },
      {
        "duration": 303,
        "start_time": "2023-06-09T17:39:01.514Z"
      },
      {
        "duration": 4,
        "start_time": "2023-06-09T17:52:35.922Z"
      },
      {
        "duration": 1011,
        "start_time": "2023-06-09T17:52:36.235Z"
      },
      {
        "duration": 6,
        "start_time": "2023-06-09T17:52:37.249Z"
      },
      {
        "duration": 41,
        "start_time": "2023-06-09T17:52:37.658Z"
      },
      {
        "duration": 82,
        "start_time": "2023-06-09T17:52:38.384Z"
      },
      {
        "duration": 57,
        "start_time": "2023-06-09T17:52:38.757Z"
      },
      {
        "duration": 81,
        "start_time": "2023-06-09T17:52:39.132Z"
      },
      {
        "duration": 149,
        "start_time": "2023-06-09T17:52:39.555Z"
      },
      {
        "duration": 4,
        "start_time": "2023-06-09T17:52:39.982Z"
      },
      {
        "duration": 156,
        "start_time": "2023-06-09T17:52:41.110Z"
      },
      {
        "duration": 321,
        "start_time": "2023-06-09T17:52:41.742Z"
      },
      {
        "duration": 3,
        "start_time": "2023-06-09T17:52:43.381Z"
      },
      {
        "duration": 130,
        "start_time": "2023-06-09T17:52:44.254Z"
      },
      {
        "duration": 64,
        "start_time": "2023-06-09T17:52:47.377Z"
      },
      {
        "duration": 137,
        "start_time": "2023-06-09T17:52:48.608Z"
      },
      {
        "duration": 62,
        "start_time": "2023-06-09T17:52:50.467Z"
      },
      {
        "duration": 69,
        "start_time": "2023-06-09T17:52:51.775Z"
      },
      {
        "duration": 236,
        "start_time": "2023-06-09T17:52:54.294Z"
      },
      {
        "duration": 166,
        "start_time": "2023-06-09T17:53:02.537Z"
      },
      {
        "duration": 105,
        "start_time": "2023-06-09T17:53:08.296Z"
      },
      {
        "duration": 27,
        "start_time": "2023-06-09T17:53:25.833Z"
      },
      {
        "duration": 236,
        "start_time": "2023-06-09T17:53:58.404Z"
      },
      {
        "duration": 28,
        "start_time": "2023-06-09T17:53:58.643Z"
      },
      {
        "duration": 196,
        "start_time": "2023-06-09T17:54:07.109Z"
      },
      {
        "duration": 2609,
        "start_time": "2023-06-09T17:54:07.499Z"
      },
      {
        "duration": 137,
        "start_time": "2023-06-09T17:54:28.065Z"
      },
      {
        "duration": 103,
        "start_time": "2023-06-09T17:55:23.263Z"
      },
      {
        "duration": 26,
        "start_time": "2023-06-09T17:55:25.889Z"
      },
      {
        "duration": 534,
        "start_time": "2023-06-09T17:57:52.239Z"
      },
      {
        "duration": 3,
        "start_time": "2023-06-09T18:01:46.577Z"
      },
      {
        "duration": 1160,
        "start_time": "2023-06-09T18:01:47.202Z"
      },
      {
        "duration": 7,
        "start_time": "2023-06-09T18:01:48.365Z"
      },
      {
        "duration": 71,
        "start_time": "2023-06-09T18:01:48.374Z"
      },
      {
        "duration": 140,
        "start_time": "2023-06-09T18:01:48.721Z"
      },
      {
        "duration": 116,
        "start_time": "2023-06-09T18:01:48.937Z"
      },
      {
        "duration": 102,
        "start_time": "2023-06-09T18:01:49.117Z"
      },
      {
        "duration": 157,
        "start_time": "2023-06-09T18:01:49.364Z"
      },
      {
        "duration": 5,
        "start_time": "2023-06-09T18:01:49.537Z"
      },
      {
        "duration": 233,
        "start_time": "2023-06-09T18:01:50.199Z"
      },
      {
        "duration": 354,
        "start_time": "2023-06-09T18:01:50.686Z"
      },
      {
        "duration": 5,
        "start_time": "2023-06-09T18:01:51.939Z"
      },
      {
        "duration": 142,
        "start_time": "2023-06-09T18:01:52.462Z"
      },
      {
        "duration": 77,
        "start_time": "2023-06-09T18:01:52.797Z"
      },
      {
        "duration": 158,
        "start_time": "2023-06-09T18:01:53.165Z"
      },
      {
        "duration": 77,
        "start_time": "2023-06-09T18:01:53.721Z"
      },
      {
        "duration": 77,
        "start_time": "2023-06-09T18:01:53.974Z"
      },
      {
        "duration": 266,
        "start_time": "2023-06-09T18:01:54.819Z"
      },
      {
        "duration": 3762,
        "start_time": "2023-06-09T18:01:55.237Z"
      },
      {
        "duration": 71,
        "start_time": "2023-06-09T18:02:22.929Z"
      },
      {
        "duration": 277,
        "start_time": "2023-06-09T18:03:53.820Z"
      },
      {
        "duration": 96,
        "start_time": "2023-06-09T18:03:59.158Z"
      },
      {
        "duration": 14,
        "start_time": "2023-06-09T18:05:03.272Z"
      },
      {
        "duration": 172,
        "start_time": "2023-06-09T18:05:16.228Z"
      },
      {
        "duration": 255,
        "start_time": "2023-06-09T18:05:49.540Z"
      },
      {
        "duration": 174,
        "start_time": "2023-06-09T18:06:16.616Z"
      },
      {
        "duration": 137,
        "start_time": "2023-06-09T18:06:40.338Z"
      },
      {
        "duration": 3558,
        "start_time": "2023-06-09T18:07:02.907Z"
      },
      {
        "duration": 1291,
        "start_time": "2023-06-09T18:07:44.972Z"
      },
      {
        "duration": 1330,
        "start_time": "2023-06-09T18:07:46.265Z"
      },
      {
        "duration": 6,
        "start_time": "2023-06-09T18:07:47.597Z"
      },
      {
        "duration": 63,
        "start_time": "2023-06-09T18:07:47.605Z"
      },
      {
        "duration": 103,
        "start_time": "2023-06-09T18:07:47.670Z"
      },
      {
        "duration": 85,
        "start_time": "2023-06-09T18:07:47.775Z"
      },
      {
        "duration": 97,
        "start_time": "2023-06-09T18:07:47.862Z"
      },
      {
        "duration": 185,
        "start_time": "2023-06-09T18:07:47.961Z"
      },
      {
        "duration": 4,
        "start_time": "2023-06-09T18:07:48.148Z"
      },
      {
        "duration": 306,
        "start_time": "2023-06-09T18:07:48.155Z"
      },
      {
        "duration": 497,
        "start_time": "2023-06-09T18:07:48.464Z"
      },
      {
        "duration": 4,
        "start_time": "2023-06-09T18:07:48.965Z"
      },
      {
        "duration": 160,
        "start_time": "2023-06-09T18:07:49.102Z"
      },
      {
        "duration": 93,
        "start_time": "2023-06-09T18:07:49.541Z"
      },
      {
        "duration": 233,
        "start_time": "2023-06-09T18:07:49.957Z"
      },
      {
        "duration": 126,
        "start_time": "2023-06-09T18:07:52.669Z"
      },
      {
        "duration": 141,
        "start_time": "2023-06-09T18:07:53.218Z"
      },
      {
        "duration": 191,
        "start_time": "2023-06-09T18:07:55.707Z"
      },
      {
        "duration": 3685,
        "start_time": "2023-06-09T18:07:57.476Z"
      },
      {
        "duration": 4,
        "start_time": "2023-06-09T18:38:02.486Z"
      },
      {
        "duration": 1324,
        "start_time": "2023-06-09T18:38:02.866Z"
      },
      {
        "duration": 9,
        "start_time": "2023-06-09T18:38:04.192Z"
      },
      {
        "duration": 78,
        "start_time": "2023-06-09T18:38:04.203Z"
      },
      {
        "duration": 90,
        "start_time": "2023-06-09T18:38:04.608Z"
      },
      {
        "duration": 86,
        "start_time": "2023-06-09T18:38:04.921Z"
      },
      {
        "duration": 88,
        "start_time": "2023-06-09T18:38:05.258Z"
      },
      {
        "duration": 178,
        "start_time": "2023-06-09T18:38:05.579Z"
      },
      {
        "duration": 5,
        "start_time": "2023-06-09T18:38:05.903Z"
      },
      {
        "duration": 232,
        "start_time": "2023-06-09T18:38:06.835Z"
      },
      {
        "duration": 413,
        "start_time": "2023-06-09T18:38:07.599Z"
      },
      {
        "duration": 3,
        "start_time": "2023-06-09T18:38:11.337Z"
      },
      {
        "duration": 153,
        "start_time": "2023-06-09T18:38:12.010Z"
      },
      {
        "duration": 75,
        "start_time": "2023-06-09T18:38:14.762Z"
      },
      {
        "duration": 236,
        "start_time": "2023-06-09T18:38:18.088Z"
      },
      {
        "duration": 72,
        "start_time": "2023-06-09T18:38:19.478Z"
      },
      {
        "duration": 96,
        "start_time": "2023-06-09T18:38:21.680Z"
      },
      {
        "duration": 162,
        "start_time": "2023-06-09T18:38:23.366Z"
      },
      {
        "duration": 59,
        "start_time": "2023-06-09T18:38:25.618Z"
      },
      {
        "duration": 3817,
        "start_time": "2023-06-09T18:38:27.327Z"
      },
      {
        "duration": 1207,
        "start_time": "2023-06-10T06:36:32.895Z"
      },
      {
        "duration": 1349,
        "start_time": "2023-06-10T06:36:34.104Z"
      },
      {
        "duration": 4,
        "start_time": "2023-06-10T06:36:35.984Z"
      },
      {
        "duration": 38,
        "start_time": "2023-06-10T06:36:36.683Z"
      },
      {
        "duration": 80,
        "start_time": "2023-06-10T06:36:37.354Z"
      },
      {
        "duration": 80,
        "start_time": "2023-06-10T06:36:37.683Z"
      },
      {
        "duration": 90,
        "start_time": "2023-06-10T06:36:38.165Z"
      },
      {
        "duration": 167,
        "start_time": "2023-06-10T06:36:38.537Z"
      },
      {
        "duration": 5,
        "start_time": "2023-06-10T06:36:38.832Z"
      },
      {
        "duration": 221,
        "start_time": "2023-06-10T06:36:39.831Z"
      },
      {
        "duration": 341,
        "start_time": "2023-06-10T06:36:40.421Z"
      },
      {
        "duration": 3,
        "start_time": "2023-06-10T06:36:41.671Z"
      },
      {
        "duration": 122,
        "start_time": "2023-06-10T06:36:42.259Z"
      },
      {
        "duration": 96,
        "start_time": "2023-06-10T06:36:42.976Z"
      },
      {
        "duration": 155,
        "start_time": "2023-06-10T06:36:43.725Z"
      },
      {
        "duration": 188,
        "start_time": "2023-06-10T06:37:18.427Z"
      },
      {
        "duration": 160,
        "start_time": "2023-06-10T06:37:23.404Z"
      },
      {
        "duration": 285,
        "start_time": "2023-06-10T06:37:24.169Z"
      },
      {
        "duration": 149,
        "start_time": "2023-06-10T06:37:31.433Z"
      },
      {
        "duration": 4,
        "start_time": "2023-06-10T06:39:53.423Z"
      },
      {
        "duration": 107,
        "start_time": "2023-06-10T06:39:54.452Z"
      },
      {
        "duration": 74,
        "start_time": "2023-06-10T06:39:55.959Z"
      },
      {
        "duration": 148,
        "start_time": "2023-06-10T06:39:57.023Z"
      },
      {
        "duration": 72,
        "start_time": "2023-06-10T06:40:02.359Z"
      },
      {
        "duration": 102,
        "start_time": "2023-06-10T06:40:03.880Z"
      },
      {
        "duration": 80,
        "start_time": "2023-06-10T06:40:20.595Z"
      },
      {
        "duration": 7779,
        "start_time": "2023-06-10T06:40:21.353Z"
      },
      {
        "duration": 93,
        "start_time": "2023-06-10T06:41:22.513Z"
      },
      {
        "duration": 62947,
        "start_time": "2023-06-10T06:41:38.796Z"
      },
      {
        "duration": 3,
        "start_time": "2023-06-10T06:44:11.079Z"
      },
      {
        "duration": 919,
        "start_time": "2023-06-10T06:44:15.083Z"
      },
      {
        "duration": 4,
        "start_time": "2023-06-10T06:44:16.004Z"
      },
      {
        "duration": 64,
        "start_time": "2023-06-10T06:44:16.009Z"
      },
      {
        "duration": 90,
        "start_time": "2023-06-10T06:44:16.513Z"
      },
      {
        "duration": 77,
        "start_time": "2023-06-10T06:44:16.694Z"
      },
      {
        "duration": 89,
        "start_time": "2023-06-10T06:44:16.920Z"
      },
      {
        "duration": 147,
        "start_time": "2023-06-10T06:44:17.123Z"
      },
      {
        "duration": 4,
        "start_time": "2023-06-10T06:44:17.367Z"
      },
      {
        "duration": 191,
        "start_time": "2023-06-10T06:44:17.824Z"
      },
      {
        "duration": 164,
        "start_time": "2023-06-10T06:44:18.315Z"
      },
      {
        "duration": 2,
        "start_time": "2023-06-10T06:44:19.479Z"
      },
      {
        "duration": 134,
        "start_time": "2023-06-10T06:44:22.012Z"
      },
      {
        "duration": 83,
        "start_time": "2023-06-10T06:44:22.568Z"
      },
      {
        "duration": 162,
        "start_time": "2023-06-10T06:44:23.604Z"
      },
      {
        "duration": 91,
        "start_time": "2023-06-10T06:44:24.813Z"
      },
      {
        "duration": 73576,
        "start_time": "2023-06-10T06:44:25.397Z"
      },
      {
        "duration": 71161,
        "start_time": "2023-06-10T06:48:06.901Z"
      },
      {
        "duration": 71876,
        "start_time": "2023-06-10T06:50:05.510Z"
      },
      {
        "duration": 70494,
        "start_time": "2023-06-10T06:55:07.306Z"
      },
      {
        "duration": 73405,
        "start_time": "2023-06-10T06:57:05.869Z"
      },
      {
        "duration": 1213,
        "start_time": "2023-06-11T09:31:14.314Z"
      },
      {
        "duration": 3574,
        "start_time": "2023-06-11T09:31:15.530Z"
      },
      {
        "duration": 7,
        "start_time": "2023-06-11T09:31:19.105Z"
      },
      {
        "duration": 61,
        "start_time": "2023-06-11T09:31:19.654Z"
      },
      {
        "duration": 78,
        "start_time": "2023-06-11T09:31:20.315Z"
      },
      {
        "duration": 70,
        "start_time": "2023-06-11T09:31:20.761Z"
      },
      {
        "duration": 80,
        "start_time": "2023-06-11T09:31:20.911Z"
      },
      {
        "duration": 168,
        "start_time": "2023-06-11T09:31:21.152Z"
      },
      {
        "duration": 5,
        "start_time": "2023-06-11T09:31:21.390Z"
      },
      {
        "duration": 192,
        "start_time": "2023-06-11T09:31:21.843Z"
      },
      {
        "duration": 172,
        "start_time": "2023-06-11T09:31:22.341Z"
      },
      {
        "duration": 3,
        "start_time": "2023-06-11T09:31:26.944Z"
      },
      {
        "duration": 186,
        "start_time": "2023-06-11T09:31:27.536Z"
      },
      {
        "duration": 85,
        "start_time": "2023-06-11T09:31:28.156Z"
      },
      {
        "duration": 204,
        "start_time": "2023-06-11T09:31:28.551Z"
      },
      {
        "duration": 175,
        "start_time": "2023-06-11T09:31:29.711Z"
      },
      {
        "duration": 93,
        "start_time": "2023-06-11T09:32:28.884Z"
      },
      {
        "duration": 84234,
        "start_time": "2023-06-11T09:33:54.771Z"
      },
      {
        "duration": 122,
        "start_time": "2023-06-11T09:36:02.153Z"
      },
      {
        "duration": 7,
        "start_time": "2023-06-11T09:36:20.475Z"
      },
      {
        "duration": 86141,
        "start_time": "2023-06-11T09:38:15.985Z"
      },
      {
        "duration": 8,
        "start_time": "2023-06-11T09:56:39.747Z"
      },
      {
        "duration": 19,
        "start_time": "2023-06-11T09:57:13.848Z"
      },
      {
        "duration": 225,
        "start_time": "2023-06-11T09:57:39.181Z"
      },
      {
        "duration": 60,
        "start_time": "2023-06-11T09:57:59.133Z"
      },
      {
        "duration": 11,
        "start_time": "2023-06-11T10:04:32.138Z"
      },
      {
        "duration": 5,
        "start_time": "2023-06-11T10:04:50.982Z"
      },
      {
        "duration": 5,
        "start_time": "2023-06-11T10:05:03.514Z"
      },
      {
        "duration": 19,
        "start_time": "2023-06-11T10:05:16.055Z"
      },
      {
        "duration": 11,
        "start_time": "2023-06-11T10:05:24.588Z"
      },
      {
        "duration": 7,
        "start_time": "2023-06-11T10:05:41.582Z"
      },
      {
        "duration": 6,
        "start_time": "2023-06-11T10:06:05.307Z"
      },
      {
        "duration": 10,
        "start_time": "2023-06-11T10:06:29.749Z"
      },
      {
        "duration": 1287,
        "start_time": "2023-06-11T10:06:42.204Z"
      },
      {
        "duration": 43,
        "start_time": "2023-06-11T10:06:51.844Z"
      },
      {
        "duration": 785,
        "start_time": "2023-06-11T10:08:19.382Z"
      },
      {
        "duration": 6385,
        "start_time": "2023-06-11T10:08:20.710Z"
      },
      {
        "duration": 7792,
        "start_time": "2023-06-11T10:09:08.074Z"
      },
      {
        "duration": 1750519,
        "start_time": "2023-06-11T10:09:38.938Z"
      },
      {
        "duration": 108309,
        "start_time": "2023-06-11T10:39:15.967Z"
      },
      {
        "duration": 204598,
        "start_time": "2023-06-11T11:10:56.684Z"
      },
      {
        "duration": 1367,
        "start_time": "2023-06-13T11:57:37.670Z"
      },
      {
        "duration": 115,
        "start_time": "2023-06-13T11:58:10.475Z"
      },
      {
        "duration": 4366,
        "start_time": "2023-06-13T11:58:13.596Z"
      },
      {
        "duration": 8,
        "start_time": "2023-06-13T11:58:17.969Z"
      },
      {
        "duration": 44,
        "start_time": "2023-06-13T11:58:19.270Z"
      },
      {
        "duration": 87,
        "start_time": "2023-06-13T11:58:19.988Z"
      },
      {
        "duration": 74,
        "start_time": "2023-06-13T11:58:20.340Z"
      },
      {
        "duration": 87,
        "start_time": "2023-06-13T11:58:20.712Z"
      },
      {
        "duration": 165,
        "start_time": "2023-06-13T11:58:21.121Z"
      },
      {
        "duration": 3,
        "start_time": "2023-06-13T11:58:21.591Z"
      },
      {
        "duration": 178,
        "start_time": "2023-06-13T11:58:37.194Z"
      },
      {
        "duration": 172,
        "start_time": "2023-06-13T11:58:38.042Z"
      },
      {
        "duration": 196,
        "start_time": "2023-06-13T11:58:47.875Z"
      },
      {
        "duration": 4,
        "start_time": "2023-06-13T11:58:48.132Z"
      },
      {
        "duration": 162,
        "start_time": "2023-06-13T11:58:49.207Z"
      },
      {
        "duration": 4,
        "start_time": "2023-06-13T11:59:14.775Z"
      },
      {
        "duration": 73,
        "start_time": "2023-06-13T11:59:22.404Z"
      },
      {
        "duration": 83,
        "start_time": "2023-06-13T11:59:23.324Z"
      },
      {
        "duration": 199,
        "start_time": "2023-06-13T11:59:25.326Z"
      },
      {
        "duration": 4,
        "start_time": "2023-06-13T11:59:48.001Z"
      },
      {
        "duration": 1836,
        "start_time": "2023-06-13T11:59:48.770Z"
      },
      {
        "duration": 5,
        "start_time": "2023-06-13T11:59:51.198Z"
      },
      {
        "duration": 46,
        "start_time": "2023-06-13T11:59:52.813Z"
      },
      {
        "duration": 67,
        "start_time": "2023-06-13T11:59:55.976Z"
      },
      {
        "duration": 79,
        "start_time": "2023-06-13T11:59:56.826Z"
      },
      {
        "duration": 84,
        "start_time": "2023-06-13T11:59:57.597Z"
      },
      {
        "duration": 163,
        "start_time": "2023-06-13T11:59:58.640Z"
      },
      {
        "duration": 5,
        "start_time": "2023-06-13T12:00:01.277Z"
      },
      {
        "duration": 192,
        "start_time": "2023-06-13T12:00:03.136Z"
      },
      {
        "duration": 166,
        "start_time": "2023-06-13T12:00:11.323Z"
      },
      {
        "duration": 157,
        "start_time": "2023-06-13T12:01:05.382Z"
      },
      {
        "duration": 207,
        "start_time": "2023-06-13T12:01:21.084Z"
      },
      {
        "duration": 146,
        "start_time": "2023-06-13T12:01:36.178Z"
      },
      {
        "duration": 3,
        "start_time": "2023-06-13T12:01:43.424Z"
      },
      {
        "duration": 111,
        "start_time": "2023-06-13T12:01:44.795Z"
      },
      {
        "duration": 82,
        "start_time": "2023-06-13T12:01:46.081Z"
      },
      {
        "duration": 152,
        "start_time": "2023-06-13T12:01:47.189Z"
      },
      {
        "duration": 68995,
        "start_time": "2023-06-13T12:01:48.498Z"
      },
      {
        "duration": 1334,
        "start_time": "2023-06-13T12:03:01.587Z"
      },
      {
        "duration": 1385,
        "start_time": "2023-06-13T12:03:05.800Z"
      },
      {
        "duration": 290244,
        "start_time": "2023-06-13T12:03:11.524Z"
      },
      {
        "duration": 87,
        "start_time": "2023-06-13T12:09:19.449Z"
      },
      {
        "duration": 79,
        "start_time": "2023-06-13T12:09:46.600Z"
      },
      {
        "duration": 37576,
        "start_time": "2023-06-13T12:09:53.977Z"
      },
      {
        "duration": 123869,
        "start_time": "2023-06-13T12:11:29.600Z"
      },
      {
        "duration": 33176,
        "start_time": "2023-06-13T12:13:45.425Z"
      },
      {
        "duration": 565,
        "start_time": "2023-06-13T12:17:52.408Z"
      },
      {
        "duration": 717,
        "start_time": "2023-06-13T12:18:03.370Z"
      },
      {
        "duration": 654,
        "start_time": "2023-06-13T12:18:05.145Z"
      },
      {
        "duration": 132276,
        "start_time": "2023-06-13T12:18:47.930Z"
      },
      {
        "duration": 34461,
        "start_time": "2023-06-13T12:21:52.877Z"
      },
      {
        "duration": 439,
        "start_time": "2023-06-13T12:26:18.439Z"
      },
      {
        "duration": 163,
        "start_time": "2023-06-13T12:26:40.328Z"
      },
      {
        "duration": 2723,
        "start_time": "2023-06-13T12:27:11.404Z"
      },
      {
        "duration": 4462,
        "start_time": "2023-06-13T12:27:14.130Z"
      },
      {
        "duration": 4,
        "start_time": "2023-06-13T12:27:19.217Z"
      },
      {
        "duration": 52,
        "start_time": "2023-06-13T12:27:20.635Z"
      },
      {
        "duration": 101,
        "start_time": "2023-06-13T12:27:21.614Z"
      },
      {
        "duration": 85,
        "start_time": "2023-06-13T12:27:21.994Z"
      },
      {
        "duration": 107,
        "start_time": "2023-06-13T12:27:22.396Z"
      },
      {
        "duration": 172,
        "start_time": "2023-06-13T12:27:22.696Z"
      },
      {
        "duration": 4,
        "start_time": "2023-06-13T12:27:22.991Z"
      },
      {
        "duration": 224,
        "start_time": "2023-06-13T12:27:23.596Z"
      },
      {
        "duration": 236,
        "start_time": "2023-06-13T12:27:24.147Z"
      },
      {
        "duration": 225,
        "start_time": "2023-06-13T12:27:24.981Z"
      },
      {
        "duration": 167,
        "start_time": "2023-06-13T12:27:25.509Z"
      },
      {
        "duration": 2,
        "start_time": "2023-06-13T12:27:27.619Z"
      },
      {
        "duration": 124,
        "start_time": "2023-06-13T12:27:28.508Z"
      },
      {
        "duration": 88,
        "start_time": "2023-06-13T12:27:29.520Z"
      },
      {
        "duration": 174,
        "start_time": "2023-06-13T12:27:29.993Z"
      },
      {
        "duration": 76931,
        "start_time": "2023-06-13T12:27:30.988Z"
      },
      {
        "duration": 954,
        "start_time": "2023-06-13T12:28:52.532Z"
      },
      {
        "duration": 1910,
        "start_time": "2023-06-13T12:28:53.491Z"
      },
      {
        "duration": 7404,
        "start_time": "2023-06-13T12:28:56.922Z"
      },
      {
        "duration": 3577,
        "start_time": "2023-06-13T12:29:27.301Z"
      },
      {
        "duration": 3745,
        "start_time": "2023-06-13T12:29:37.600Z"
      },
      {
        "duration": 641,
        "start_time": "2023-06-13T12:29:41.348Z"
      },
      {
        "duration": 27972,
        "start_time": "2023-06-13T12:29:52.143Z"
      },
      {
        "duration": 4423,
        "start_time": "2023-06-13T12:33:17.012Z"
      },
      {
        "duration": 3642,
        "start_time": "2023-06-13T12:33:21.437Z"
      },
      {
        "duration": 4,
        "start_time": "2023-06-13T12:33:25.082Z"
      },
      {
        "duration": 76,
        "start_time": "2023-06-13T12:33:25.088Z"
      },
      {
        "duration": 80,
        "start_time": "2023-06-13T12:33:25.169Z"
      },
      {
        "duration": 71,
        "start_time": "2023-06-13T12:33:25.714Z"
      },
      {
        "duration": 86,
        "start_time": "2023-06-13T12:33:26.040Z"
      },
      {
        "duration": 176,
        "start_time": "2023-06-13T12:33:26.412Z"
      },
      {
        "duration": 4,
        "start_time": "2023-06-13T12:33:26.814Z"
      },
      {
        "duration": 190,
        "start_time": "2023-06-13T12:33:27.442Z"
      },
      {
        "duration": 177,
        "start_time": "2023-06-13T12:33:28.109Z"
      },
      {
        "duration": 224,
        "start_time": "2023-06-13T12:33:29.839Z"
      },
      {
        "duration": 163,
        "start_time": "2023-06-13T12:33:30.211Z"
      },
      {
        "duration": 3,
        "start_time": "2023-06-13T12:33:32.180Z"
      },
      {
        "duration": 115,
        "start_time": "2023-06-13T12:33:33.172Z"
      },
      {
        "duration": 81,
        "start_time": "2023-06-13T12:33:33.946Z"
      },
      {
        "duration": 193,
        "start_time": "2023-06-13T12:33:34.315Z"
      },
      {
        "duration": 74823,
        "start_time": "2023-06-13T12:33:35.205Z"
      },
      {
        "duration": 1006,
        "start_time": "2023-06-13T12:34:50.030Z"
      },
      {
        "duration": 780,
        "start_time": "2023-06-13T12:34:51.038Z"
      },
      {
        "duration": 4740,
        "start_time": "2023-06-13T12:34:51.820Z"
      },
      {
        "duration": 1809,
        "start_time": "2023-06-13T12:35:34.619Z"
      },
      {
        "duration": 1355,
        "start_time": "2023-06-13T12:35:36.431Z"
      },
      {
        "duration": 8,
        "start_time": "2023-06-13T12:35:37.791Z"
      },
      {
        "duration": 58,
        "start_time": "2023-06-13T12:35:38.589Z"
      },
      {
        "duration": 123,
        "start_time": "2023-06-13T12:35:39.324Z"
      },
      {
        "duration": 89,
        "start_time": "2023-06-13T12:35:39.738Z"
      },
      {
        "duration": 90,
        "start_time": "2023-06-13T12:35:40.609Z"
      },
      {
        "duration": 165,
        "start_time": "2023-06-13T12:35:42.095Z"
      },
      {
        "duration": 4,
        "start_time": "2023-06-13T12:35:42.891Z"
      },
      {
        "duration": 219,
        "start_time": "2023-06-13T12:35:44.503Z"
      },
      {
        "duration": 213,
        "start_time": "2023-06-13T12:35:46.019Z"
      },
      {
        "duration": 244,
        "start_time": "2023-06-13T12:35:47.291Z"
      },
      {
        "duration": 204,
        "start_time": "2023-06-13T12:35:47.773Z"
      },
      {
        "duration": 5,
        "start_time": "2023-06-13T12:35:54.159Z"
      },
      {
        "duration": 143,
        "start_time": "2023-06-13T12:35:55.029Z"
      },
      {
        "duration": 81,
        "start_time": "2023-06-13T12:36:01.286Z"
      },
      {
        "duration": 179,
        "start_time": "2023-06-13T12:36:02.221Z"
      },
      {
        "duration": 75057,
        "start_time": "2023-06-13T12:36:38.591Z"
      },
      {
        "duration": 144,
        "start_time": "2023-06-13T12:42:22.948Z"
      },
      {
        "duration": 134,
        "start_time": "2023-06-13T12:44:19.549Z"
      },
      {
        "duration": 718,
        "start_time": "2023-06-13T12:44:25.112Z"
      },
      {
        "duration": 618,
        "start_time": "2023-06-13T12:44:26.547Z"
      },
      {
        "duration": 132121,
        "start_time": "2023-06-13T12:44:53.649Z"
      },
      {
        "duration": 29586,
        "start_time": "2023-06-13T12:49:08.212Z"
      },
      {
        "duration": 24729,
        "start_time": "2023-06-13T12:49:53.764Z"
      },
      {
        "duration": 28871,
        "start_time": "2023-06-13T12:50:50.106Z"
      },
      {
        "duration": 28738,
        "start_time": "2023-06-13T12:52:04.799Z"
      },
      {
        "duration": 1416,
        "start_time": "2023-06-14T08:49:43.324Z"
      },
      {
        "duration": 3120,
        "start_time": "2023-06-14T08:50:06.244Z"
      },
      {
        "duration": 5,
        "start_time": "2023-06-14T08:50:09.366Z"
      },
      {
        "duration": 42,
        "start_time": "2023-06-14T08:50:09.372Z"
      },
      {
        "duration": 85,
        "start_time": "2023-06-14T08:50:09.416Z"
      },
      {
        "duration": 62,
        "start_time": "2023-06-14T08:50:09.647Z"
      },
      {
        "duration": 65,
        "start_time": "2023-06-14T08:50:10.128Z"
      },
      {
        "duration": 145,
        "start_time": "2023-06-14T08:50:10.554Z"
      },
      {
        "duration": 4,
        "start_time": "2023-06-14T08:50:10.999Z"
      },
      {
        "duration": 164,
        "start_time": "2023-06-14T08:50:14.081Z"
      },
      {
        "duration": 161,
        "start_time": "2023-06-14T08:50:16.330Z"
      },
      {
        "duration": 176,
        "start_time": "2023-06-14T08:50:23.144Z"
      },
      {
        "duration": 156,
        "start_time": "2023-06-14T08:50:23.827Z"
      },
      {
        "duration": 3,
        "start_time": "2023-06-14T08:50:32.593Z"
      },
      {
        "duration": 146,
        "start_time": "2023-06-14T08:50:33.921Z"
      },
      {
        "duration": 76,
        "start_time": "2023-06-14T08:50:38.153Z"
      },
      {
        "duration": 173,
        "start_time": "2023-06-14T08:50:39.058Z"
      },
      {
        "duration": 66016,
        "start_time": "2023-06-14T08:50:40.459Z"
      },
      {
        "duration": 894,
        "start_time": "2023-06-14T08:51:46.477Z"
      },
      {
        "duration": 583,
        "start_time": "2023-06-14T08:51:47.374Z"
      },
      {
        "duration": 113213,
        "start_time": "2023-06-14T08:51:47.959Z"
      },
      {
        "duration": 27027,
        "start_time": "2023-06-14T08:53:41.174Z"
      },
      {
        "duration": 22973,
        "start_time": "2023-06-14T08:54:08.203Z"
      },
      {
        "duration": 1283,
        "start_time": "2023-06-14T12:14:30.307Z"
      },
      {
        "duration": 4,
        "start_time": "2023-06-14T12:16:30.400Z"
      },
      {
        "duration": 1241,
        "start_time": "2023-06-14T12:16:34.719Z"
      },
      {
        "duration": 10,
        "start_time": "2023-06-14T12:16:35.962Z"
      },
      {
        "duration": 38,
        "start_time": "2023-06-14T12:16:36.530Z"
      },
      {
        "duration": 66,
        "start_time": "2023-06-14T12:16:37.139Z"
      },
      {
        "duration": 56,
        "start_time": "2023-06-14T12:16:37.466Z"
      },
      {
        "duration": 78,
        "start_time": "2023-06-14T12:16:37.825Z"
      },
      {
        "duration": 129,
        "start_time": "2023-06-14T12:16:38.249Z"
      },
      {
        "duration": 4,
        "start_time": "2023-06-14T12:16:38.809Z"
      },
      {
        "duration": 155,
        "start_time": "2023-06-14T12:16:39.663Z"
      },
      {
        "duration": 141,
        "start_time": "2023-06-14T12:16:40.989Z"
      },
      {
        "duration": 84,
        "start_time": "2023-06-14T12:18:32.075Z"
      },
      {
        "duration": 298,
        "start_time": "2023-06-14T12:24:03.630Z"
      },
      {
        "duration": 4,
        "start_time": "2023-06-14T12:24:38.999Z"
      },
      {
        "duration": 107,
        "start_time": "2023-06-14T12:25:19.125Z"
      },
      {
        "duration": 462,
        "start_time": "2023-06-14T12:25:24.119Z"
      },
      {
        "duration": 62,
        "start_time": "2023-06-14T12:27:12.509Z"
      },
      {
        "duration": 5,
        "start_time": "2023-06-14T12:30:01.422Z"
      },
      {
        "duration": 13,
        "start_time": "2023-06-14T12:30:44.425Z"
      },
      {
        "duration": 14,
        "start_time": "2023-06-14T12:30:50.355Z"
      },
      {
        "duration": 10,
        "start_time": "2023-06-14T12:30:57.782Z"
      },
      {
        "duration": 51,
        "start_time": "2023-06-14T12:31:23.744Z"
      },
      {
        "duration": 36,
        "start_time": "2023-06-14T12:42:16.091Z"
      },
      {
        "duration": 33,
        "start_time": "2023-06-14T12:44:00.998Z"
      },
      {
        "duration": 192,
        "start_time": "2023-06-14T12:44:06.431Z"
      },
      {
        "duration": 455,
        "start_time": "2023-06-14T12:51:18.381Z"
      },
      {
        "duration": 458,
        "start_time": "2023-06-14T12:53:01.158Z"
      },
      {
        "duration": 65,
        "start_time": "2023-06-14T12:53:11.578Z"
      },
      {
        "duration": 5,
        "start_time": "2023-06-14T12:53:34.049Z"
      },
      {
        "duration": 322,
        "start_time": "2023-06-14T12:54:27.917Z"
      },
      {
        "duration": 6,
        "start_time": "2023-06-14T12:54:28.788Z"
      },
      {
        "duration": 301,
        "start_time": "2023-06-14T12:56:03.607Z"
      },
      {
        "duration": 5,
        "start_time": "2023-06-14T12:56:11.228Z"
      },
      {
        "duration": 1407,
        "start_time": "2023-06-14T12:57:09.322Z"
      },
      {
        "duration": 970,
        "start_time": "2023-06-14T12:57:10.979Z"
      },
      {
        "duration": 4,
        "start_time": "2023-06-14T12:57:11.951Z"
      },
      {
        "duration": 39,
        "start_time": "2023-06-14T12:57:12.248Z"
      },
      {
        "duration": 62,
        "start_time": "2023-06-14T12:57:12.985Z"
      },
      {
        "duration": 60,
        "start_time": "2023-06-14T12:57:13.287Z"
      },
      {
        "duration": 65,
        "start_time": "2023-06-14T12:57:13.627Z"
      },
      {
        "duration": 121,
        "start_time": "2023-06-14T12:57:13.940Z"
      },
      {
        "duration": 4,
        "start_time": "2023-06-14T12:57:14.318Z"
      },
      {
        "duration": 152,
        "start_time": "2023-06-14T12:57:15.290Z"
      },
      {
        "duration": 141,
        "start_time": "2023-06-14T12:57:16.427Z"
      },
      {
        "duration": 209,
        "start_time": "2023-06-14T12:57:17.243Z"
      },
      {
        "duration": 138,
        "start_time": "2023-06-14T12:57:17.633Z"
      },
      {
        "duration": 54,
        "start_time": "2023-06-14T12:57:18.852Z"
      },
      {
        "duration": 502,
        "start_time": "2023-06-14T12:57:20.657Z"
      },
      {
        "duration": 5,
        "start_time": "2023-06-14T12:57:32.417Z"
      },
      {
        "duration": 6,
        "start_time": "2023-06-14T12:57:42.837Z"
      },
      {
        "duration": 121,
        "start_time": "2023-06-14T12:57:55.021Z"
      },
      {
        "duration": 10,
        "start_time": "2023-06-14T12:57:59.376Z"
      },
      {
        "duration": 36,
        "start_time": "2023-06-14T12:58:15.417Z"
      },
      {
        "duration": 53,
        "start_time": "2023-06-14T12:58:39.932Z"
      },
      {
        "duration": 6,
        "start_time": "2023-06-14T12:58:58.779Z"
      },
      {
        "duration": 17,
        "start_time": "2023-06-14T12:59:10.927Z"
      },
      {
        "duration": 5,
        "start_time": "2023-06-14T12:59:23.192Z"
      },
      {
        "duration": 148,
        "start_time": "2023-06-14T13:00:07.912Z"
      },
      {
        "duration": 127,
        "start_time": "2023-06-14T13:00:18.092Z"
      },
      {
        "duration": 5,
        "start_time": "2023-06-14T13:00:30.458Z"
      },
      {
        "duration": 865,
        "start_time": "2023-06-14T13:01:02.337Z"
      },
      {
        "duration": 84,
        "start_time": "2023-06-14T13:01:39.622Z"
      },
      {
        "duration": 479,
        "start_time": "2023-06-14T13:02:58.087Z"
      },
      {
        "duration": 4,
        "start_time": "2023-06-14T13:03:17.457Z"
      },
      {
        "duration": 904,
        "start_time": "2023-06-14T13:03:18.001Z"
      },
      {
        "duration": 5,
        "start_time": "2023-06-14T13:03:18.908Z"
      },
      {
        "duration": 38,
        "start_time": "2023-06-14T13:03:19.107Z"
      },
      {
        "duration": 62,
        "start_time": "2023-06-14T13:03:19.817Z"
      },
      {
        "duration": 54,
        "start_time": "2023-06-14T13:03:21.686Z"
      },
      {
        "duration": 64,
        "start_time": "2023-06-14T13:03:22.457Z"
      },
      {
        "duration": 127,
        "start_time": "2023-06-14T13:03:23.193Z"
      },
      {
        "duration": 4,
        "start_time": "2023-06-14T13:03:23.802Z"
      },
      {
        "duration": 140,
        "start_time": "2023-06-14T13:03:24.993Z"
      },
      {
        "duration": 138,
        "start_time": "2023-06-14T13:03:26.441Z"
      },
      {
        "duration": 182,
        "start_time": "2023-06-14T13:03:27.233Z"
      },
      {
        "duration": 118,
        "start_time": "2023-06-14T13:03:27.512Z"
      },
      {
        "duration": 56,
        "start_time": "2023-06-14T13:03:28.692Z"
      },
      {
        "duration": 58,
        "start_time": "2023-06-14T13:03:29.697Z"
      },
      {
        "duration": 5,
        "start_time": "2023-06-14T13:03:30.713Z"
      },
      {
        "duration": 1500,
        "start_time": "2023-06-14T13:03:34.120Z"
      },
      {
        "duration": 1659,
        "start_time": "2023-06-14T13:04:09.186Z"
      },
      {
        "duration": 5,
        "start_time": "2023-06-14T13:04:16.797Z"
      },
      {
        "duration": 6,
        "start_time": "2023-06-14T13:04:36.421Z"
      },
      {
        "duration": 5,
        "start_time": "2023-06-14T13:05:33.308Z"
      },
      {
        "duration": 345,
        "start_time": "2023-06-14T13:05:44.017Z"
      },
      {
        "duration": 6,
        "start_time": "2023-06-14T13:05:47.757Z"
      },
      {
        "duration": 6,
        "start_time": "2023-06-14T13:05:48.493Z"
      },
      {
        "duration": 10,
        "start_time": "2023-06-14T13:06:27.473Z"
      },
      {
        "duration": 47,
        "start_time": "2023-06-14T13:06:32.047Z"
      },
      {
        "duration": 425,
        "start_time": "2023-06-14T13:08:07.287Z"
      },
      {
        "duration": 76,
        "start_time": "2023-06-14T13:08:39.197Z"
      },
      {
        "duration": 4,
        "start_time": "2023-06-14T13:08:48.152Z"
      },
      {
        "duration": 916,
        "start_time": "2023-06-14T13:08:48.657Z"
      },
      {
        "duration": 5,
        "start_time": "2023-06-14T13:08:49.575Z"
      },
      {
        "duration": 44,
        "start_time": "2023-06-14T13:08:49.582Z"
      },
      {
        "duration": 65,
        "start_time": "2023-06-14T13:08:49.827Z"
      },
      {
        "duration": 59,
        "start_time": "2023-06-14T13:08:50.007Z"
      },
      {
        "duration": 69,
        "start_time": "2023-06-14T13:08:50.247Z"
      },
      {
        "duration": 155,
        "start_time": "2023-06-14T13:08:50.502Z"
      },
      {
        "duration": 5,
        "start_time": "2023-06-14T13:08:50.792Z"
      },
      {
        "duration": 135,
        "start_time": "2023-06-14T13:08:51.437Z"
      },
      {
        "duration": 140,
        "start_time": "2023-06-14T13:08:52.207Z"
      },
      {
        "duration": 171,
        "start_time": "2023-06-14T13:08:52.717Z"
      },
      {
        "duration": 124,
        "start_time": "2023-06-14T13:08:52.937Z"
      },
      {
        "duration": 48,
        "start_time": "2023-06-14T13:08:53.491Z"
      },
      {
        "duration": 54,
        "start_time": "2023-06-14T13:08:54.537Z"
      },
      {
        "duration": 226,
        "start_time": "2023-06-14T13:08:58.412Z"
      },
      {
        "duration": 9,
        "start_time": "2023-06-14T13:09:01.102Z"
      },
      {
        "duration": 49,
        "start_time": "2023-06-14T13:09:04.208Z"
      },
      {
        "duration": 503,
        "start_time": "2023-06-14T13:09:11.748Z"
      },
      {
        "duration": 545,
        "start_time": "2023-06-14T13:09:14.299Z"
      },
      {
        "duration": 0,
        "start_time": "2023-06-14T13:09:14.845Z"
      },
      {
        "duration": 83,
        "start_time": "2023-06-14T13:10:32.121Z"
      },
      {
        "duration": 71,
        "start_time": "2023-06-14T13:10:58.357Z"
      },
      {
        "duration": 196,
        "start_time": "2023-06-14T13:11:10.617Z"
      },
      {
        "duration": 99,
        "start_time": "2023-06-14T13:11:40.287Z"
      },
      {
        "duration": 9,
        "start_time": "2023-06-14T13:11:58.677Z"
      },
      {
        "duration": 81,
        "start_time": "2023-06-14T13:12:03.226Z"
      },
      {
        "duration": 658,
        "start_time": "2023-06-14T13:12:07.537Z"
      },
      {
        "duration": 18,
        "start_time": "2023-06-14T13:12:29.885Z"
      },
      {
        "duration": 59,
        "start_time": "2023-06-14T13:12:52.742Z"
      },
      {
        "duration": 11,
        "start_time": "2023-06-14T13:12:54.681Z"
      },
      {
        "duration": 7,
        "start_time": "2023-06-14T13:12:56.313Z"
      },
      {
        "duration": 18,
        "start_time": "2023-06-14T13:13:00.337Z"
      },
      {
        "duration": 8,
        "start_time": "2023-06-14T13:13:44.358Z"
      },
      {
        "duration": 12,
        "start_time": "2023-06-14T13:13:45.157Z"
      },
      {
        "duration": 5,
        "start_time": "2023-06-14T13:13:50.132Z"
      },
      {
        "duration": 21,
        "start_time": "2023-06-14T13:13:53.782Z"
      },
      {
        "duration": 1754,
        "start_time": "2023-06-14T13:14:19.585Z"
      },
      {
        "duration": 994,
        "start_time": "2023-06-14T13:14:21.341Z"
      },
      {
        "duration": 3,
        "start_time": "2023-06-14T13:14:22.337Z"
      },
      {
        "duration": 46,
        "start_time": "2023-06-14T13:14:23.515Z"
      },
      {
        "duration": 72,
        "start_time": "2023-06-14T13:14:25.022Z"
      },
      {
        "duration": 65,
        "start_time": "2023-06-14T13:14:25.643Z"
      },
      {
        "duration": 69,
        "start_time": "2023-06-14T13:14:26.430Z"
      },
      {
        "duration": 137,
        "start_time": "2023-06-14T13:14:27.089Z"
      },
      {
        "duration": 4,
        "start_time": "2023-06-14T13:14:27.426Z"
      },
      {
        "duration": 170,
        "start_time": "2023-06-14T13:14:28.252Z"
      },
      {
        "duration": 169,
        "start_time": "2023-06-14T13:14:31.239Z"
      },
      {
        "duration": 185,
        "start_time": "2023-06-14T13:14:32.534Z"
      },
      {
        "duration": 137,
        "start_time": "2023-06-14T13:14:33.249Z"
      },
      {
        "duration": 48,
        "start_time": "2023-06-14T13:14:34.586Z"
      },
      {
        "duration": 43,
        "start_time": "2023-06-14T13:14:37.186Z"
      },
      {
        "duration": 34,
        "start_time": "2023-06-14T13:14:37.789Z"
      },
      {
        "duration": 3,
        "start_time": "2023-06-14T13:16:14.775Z"
      },
      {
        "duration": 892,
        "start_time": "2023-06-14T13:16:27.223Z"
      },
      {
        "duration": 5,
        "start_time": "2023-06-14T13:16:28.116Z"
      },
      {
        "duration": 38,
        "start_time": "2023-06-14T13:16:28.586Z"
      },
      {
        "duration": 60,
        "start_time": "2023-06-14T13:16:29.353Z"
      },
      {
        "duration": 54,
        "start_time": "2023-06-14T13:16:29.775Z"
      },
      {
        "duration": 66,
        "start_time": "2023-06-14T13:16:30.143Z"
      },
      {
        "duration": 157,
        "start_time": "2023-06-14T13:16:30.539Z"
      },
      {
        "duration": 3,
        "start_time": "2023-06-14T13:16:30.943Z"
      },
      {
        "duration": 149,
        "start_time": "2023-06-14T13:16:31.936Z"
      },
      {
        "duration": 138,
        "start_time": "2023-06-14T13:16:37.219Z"
      },
      {
        "duration": 179,
        "start_time": "2023-06-14T13:16:38.011Z"
      },
      {
        "duration": 122,
        "start_time": "2023-06-14T13:16:38.347Z"
      },
      {
        "duration": 47,
        "start_time": "2023-06-14T13:16:39.387Z"
      },
      {
        "duration": 42,
        "start_time": "2023-06-14T13:16:49.989Z"
      },
      {
        "duration": 35,
        "start_time": "2023-06-14T13:16:50.358Z"
      },
      {
        "duration": 3,
        "start_time": "2023-06-14T13:17:25.303Z"
      },
      {
        "duration": 115,
        "start_time": "2023-06-14T13:18:02.289Z"
      },
      {
        "duration": 53,
        "start_time": "2023-06-14T13:18:08.823Z"
      },
      {
        "duration": 37,
        "start_time": "2023-06-14T13:18:14.723Z"
      },
      {
        "duration": 73,
        "start_time": "2023-06-14T13:18:19.724Z"
      },
      {
        "duration": 8633,
        "start_time": "2023-06-14T13:18:22.119Z"
      },
      {
        "duration": 10543,
        "start_time": "2023-06-14T13:19:18.155Z"
      },
      {
        "duration": 32980,
        "start_time": "2023-06-14T13:25:26.985Z"
      },
      {
        "duration": 31258,
        "start_time": "2023-06-14T13:27:07.095Z"
      },
      {
        "duration": 12552,
        "start_time": "2023-06-14T13:30:13.395Z"
      },
      {
        "duration": 98,
        "start_time": "2023-06-14T13:34:06.552Z"
      },
      {
        "duration": 3,
        "start_time": "2023-06-14T13:35:21.784Z"
      },
      {
        "duration": 928,
        "start_time": "2023-06-14T13:35:23.316Z"
      },
      {
        "duration": 4,
        "start_time": "2023-06-14T13:35:24.247Z"
      },
      {
        "duration": 35,
        "start_time": "2023-06-14T13:35:24.649Z"
      },
      {
        "duration": 64,
        "start_time": "2023-06-14T13:35:25.515Z"
      },
      {
        "duration": 56,
        "start_time": "2023-06-14T13:35:25.965Z"
      },
      {
        "duration": 64,
        "start_time": "2023-06-14T13:35:26.495Z"
      },
      {
        "duration": 151,
        "start_time": "2023-06-14T13:35:27.039Z"
      },
      {
        "duration": 5,
        "start_time": "2023-06-14T13:35:27.339Z"
      },
      {
        "duration": 148,
        "start_time": "2023-06-14T13:35:28.580Z"
      },
      {
        "duration": 139,
        "start_time": "2023-06-14T13:35:31.579Z"
      },
      {
        "duration": 197,
        "start_time": "2023-06-14T13:35:32.244Z"
      },
      {
        "duration": 120,
        "start_time": "2023-06-14T13:35:32.585Z"
      },
      {
        "duration": 49,
        "start_time": "2023-06-14T13:35:33.549Z"
      },
      {
        "duration": 45,
        "start_time": "2023-06-14T13:35:34.573Z"
      },
      {
        "duration": 35,
        "start_time": "2023-06-14T13:35:35.724Z"
      },
      {
        "duration": 36,
        "start_time": "2023-06-14T13:36:22.575Z"
      },
      {
        "duration": 38,
        "start_time": "2023-06-14T13:36:22.934Z"
      },
      {
        "duration": 4,
        "start_time": "2023-06-14T13:36:50.493Z"
      },
      {
        "duration": 61,
        "start_time": "2023-06-14T13:36:55.539Z"
      },
      {
        "duration": 38,
        "start_time": "2023-06-14T13:36:56.875Z"
      },
      {
        "duration": 75,
        "start_time": "2023-06-14T13:36:58.085Z"
      },
      {
        "duration": 32022,
        "start_time": "2023-06-14T13:36:59.215Z"
      },
      {
        "duration": 299,
        "start_time": "2023-06-14T13:37:37.780Z"
      },
      {
        "duration": 117,
        "start_time": "2023-06-14T13:37:42.072Z"
      },
      {
        "duration": 239,
        "start_time": "2023-06-14T13:38:04.955Z"
      },
      {
        "duration": 38499,
        "start_time": "2023-06-14T13:38:09.073Z"
      },
      {
        "duration": 12763,
        "start_time": "2023-06-14T13:39:51.278Z"
      },
      {
        "duration": 112,
        "start_time": "2023-06-14T13:43:14.409Z"
      },
      {
        "duration": 1683,
        "start_time": "2023-06-15T12:58:50.703Z"
      },
      {
        "duration": 3398,
        "start_time": "2023-06-15T12:59:16.115Z"
      },
      {
        "duration": 6,
        "start_time": "2023-06-15T12:59:19.515Z"
      },
      {
        "duration": 51,
        "start_time": "2023-06-15T12:59:19.523Z"
      },
      {
        "duration": 73,
        "start_time": "2023-06-15T12:59:20.434Z"
      },
      {
        "duration": 62,
        "start_time": "2023-06-15T12:59:20.718Z"
      },
      {
        "duration": 72,
        "start_time": "2023-06-15T12:59:21.030Z"
      },
      {
        "duration": 160,
        "start_time": "2023-06-15T12:59:21.316Z"
      },
      {
        "duration": 4,
        "start_time": "2023-06-15T12:59:21.608Z"
      },
      {
        "duration": 182,
        "start_time": "2023-06-15T12:59:22.470Z"
      },
      {
        "duration": 177,
        "start_time": "2023-06-15T12:59:24.442Z"
      },
      {
        "duration": 181,
        "start_time": "2023-06-15T12:59:25.234Z"
      },
      {
        "duration": 130,
        "start_time": "2023-06-15T12:59:25.562Z"
      },
      {
        "duration": 58,
        "start_time": "2023-06-15T12:59:26.443Z"
      },
      {
        "duration": 51,
        "start_time": "2023-06-15T12:59:29.171Z"
      },
      {
        "duration": 40,
        "start_time": "2023-06-15T12:59:29.430Z"
      },
      {
        "duration": 3,
        "start_time": "2023-06-15T13:00:06.471Z"
      },
      {
        "duration": 63,
        "start_time": "2023-06-15T13:00:14.474Z"
      },
      {
        "duration": 50,
        "start_time": "2023-06-15T13:00:16.120Z"
      },
      {
        "duration": 83,
        "start_time": "2023-06-15T13:00:16.610Z"
      },
      {
        "duration": 34138,
        "start_time": "2023-06-15T13:00:17.358Z"
      },
      {
        "duration": 295,
        "start_time": "2023-06-15T13:00:54.912Z"
      },
      {
        "duration": 308,
        "start_time": "2023-06-15T13:02:48.010Z"
      },
      {
        "duration": 97831,
        "start_time": "2023-06-15T13:02:48.842Z"
      },
      {
        "duration": 14954,
        "start_time": "2023-06-15T13:04:40.420Z"
      },
      {
        "duration": 113,
        "start_time": "2023-06-15T13:05:22.007Z"
      }
    ],
    "kernelspec": {
      "display_name": "Python 3 (ipykernel)",
      "language": "python",
      "name": "python3"
    },
    "language_info": {
      "codemirror_mode": {
        "name": "ipython",
        "version": 3
      },
      "file_extension": ".py",
      "mimetype": "text/x-python",
      "name": "python",
      "nbconvert_exporter": "python",
      "pygments_lexer": "ipython3",
      "version": "3.9.5"
    },
    "toc": {
      "base_numbering": 1,
      "nav_menu": {},
      "number_sections": true,
      "sideBar": true,
      "skip_h1_title": true,
      "title_cell": "Table of Contents",
      "title_sidebar": "Contents",
      "toc_cell": false,
      "toc_position": {},
      "toc_section_display": true,
      "toc_window_display": false
    },
    "colab": {
      "provenance": []
    }
  },
  "nbformat": 4,
  "nbformat_minor": 0
}